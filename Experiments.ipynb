{
 "cells": [
  {
   "cell_type": "code",
   "execution_count": null,
   "metadata": {},
   "outputs": [],
   "source": [
    "import os\n",
    "import yaml\n",
    "import tqdm\n",
    "import time\n",
    "import pandas as pd\n",
    "import numpy as np\n",
    "import sys\n",
    "import itertools\n",
    "from collections import defaultdict\n",
    "sys.path.append(\"./src/\")\n",
    "from preprocess.imdb_reviews import PreprocessIMDB\n",
    "\n",
    "from sklearn.model_selection import train_test_split\n",
    "\n",
    "import torch\n",
    "import torch.nn as nn\n",
    "import torch.nn.functional as F\n",
    "from torch.utils.data import TensorDataset, DataLoader"
   ]
  },
  {
   "cell_type": "markdown",
   "metadata": {},
   "source": [
    "### Random"
   ]
  },
  {
   "cell_type": "code",
   "execution_count": 1,
   "metadata": {},
   "outputs": [
    {
     "name": "stderr",
     "output_type": "stream",
     "text": [
      "[nltk_data] Downloading package stopwords to\n",
      "[nltk_data]     C:\\Users\\shanmukh\\AppData\\Roaming\\nltk_data...\n",
      "[nltk_data]   Package stopwords is already up-to-date!\n",
      "Traceback (most recent call last):\n",
      "  File \"d:\\Learning\\NLP\\Projects\\scratch_nlp\\src\\main.py\", line 62, in <module>\n",
      "    main()\n",
      "  File \"d:\\Learning\\NLP\\Projects\\scratch_nlp\\src\\main.py\", line 58, in main\n",
      "    algo.run()\n",
      "  File \"d:\\Learning\\NLP\\Projects\\scratch_nlp\\src\\core\\bow\\bow.py\", line 16, in run\n",
      "    self.fit_transform()\n",
      "  File \"d:\\Learning\\NLP\\Projects\\scratch_nlp\\src\\core\\bow\\bow.py\", line 30, in fit_transform\n",
      "    self.fit(text_ls, y)\n",
      "  File \"d:\\Learning\\NLP\\Projects\\scratch_nlp\\src\\core\\bow\\bow.py\", line 23, in fit\n",
      "    for text in text_ls:\n",
      "TypeError: 'NoneType' object is not iterable\n"
     ]
    }
   ],
   "source": [
    "!python src/main.py --config_path \"D:\\Learning\\NLP\\Projects\\scratch_nlp\\configs\\bow.yaml\" --algo \"BOW\" --log_folder \"D:\\Learning\\NLP\\Projects\\scratch_nlp\\output\\bow\""
   ]
  },
  {
   "cell_type": "code",
   "execution_count": 1,
   "metadata": {},
   "outputs": [
    {
     "data": {
      "text/html": [
       "<div>\n",
       "<style scoped>\n",
       "    .dataframe tbody tr th:only-of-type {\n",
       "        vertical-align: middle;\n",
       "    }\n",
       "\n",
       "    .dataframe tbody tr th {\n",
       "        vertical-align: top;\n",
       "    }\n",
       "\n",
       "    .dataframe thead th {\n",
       "        text-align: right;\n",
       "    }\n",
       "</style>\n",
       "<table border=\"1\" class=\"dataframe\">\n",
       "  <thead>\n",
       "    <tr style=\"text-align: right;\">\n",
       "      <th></th>\n",
       "      <th>0</th>\n",
       "    </tr>\n",
       "  </thead>\n",
       "  <tbody>\n",
       "    <tr>\n",
       "      <th>A</th>\n",
       "      <td>2</td>\n",
       "    </tr>\n",
       "    <tr>\n",
       "      <th>B</th>\n",
       "      <td>4</td>\n",
       "    </tr>\n",
       "  </tbody>\n",
       "</table>\n",
       "</div>"
      ],
      "text/plain": [
       "   0\n",
       "A  2\n",
       "B  4"
      ]
     },
     "execution_count": 1,
     "metadata": {},
     "output_type": "execute_result"
    }
   ],
   "source": [
    "import pandas as pd\n",
    "\n",
    "dict_ = {\n",
    "    \"A\": 2,\n",
    "    \"B\": 4\n",
    "}\n",
    "df = pd.DataFrame(dict_, index=[0]).T\n",
    "df"
   ]
  },
  {
   "cell_type": "code",
   "execution_count": 36,
   "metadata": {},
   "outputs": [
    {
     "data": {
      "text/plain": [
       "(600, 9834)"
      ]
     },
     "execution_count": 36,
     "metadata": {},
     "output_type": "execute_result"
    }
   ],
   "source": [
    "import numpy as np\n",
    "\n",
    "arr = np.load(\"./output/bow/Text Vector.npy\")\n",
    "arr.shape"
   ]
  },
  {
   "cell_type": "code",
   "execution_count": 4,
   "metadata": {},
   "outputs": [
    {
     "data": {
      "text/plain": [
       "['e:\\\\anaconda\\\\envs\\\\nlp_env',\n",
       " 'C:\\\\Program Files\\\\dotnet\\\\',\n",
       " 'C:\\\\Program Files\\\\Git\\\\cmd',\n",
       " 'E:\\\\anaconda\\\\Scripts',\n",
       " 'E:\\\\anaconda\\\\Library',\n",
       " 'E:\\\\anaconda\\\\Library\\\\bin',\n",
       " 'E:\\\\anaconda\\\\Library\\\\mingw-w64\\\\bin',\n",
       " 'C:\\\\Users\\\\shanmukh\\\\AppData\\\\Local\\\\Programs\\\\Python\\\\Python38-32\\\\Scripts\\\\',\n",
       " 'C:\\\\Users\\\\shanmukh\\\\AppData\\\\Local\\\\Programs\\\\Python\\\\Python38-32\\\\',\n",
       " 'C:\\\\Users\\\\shanmukh\\\\AppData\\\\Local\\\\Microsoft\\\\WindowsApps',\n",
       " 'C:\\\\Users\\\\shanmukh\\\\AppData\\\\Local\\\\GitHubDesktop\\\\bin',\n",
       " 'C:\\\\Program Files\\\\mingw-w64\\\\x86_64-8.1.0-posix-seh-rt_v6-rev0\\\\mingw64\\\\bin',\n",
       " 'C:\\\\Users\\\\shanmukh\\\\AppData\\\\Local\\\\Microsoft\\\\WindowsApps',\n",
       " 'D:\\\\heroku\\\\bin',\n",
       " 'E:\\\\vscode\\\\Microsoft VS Code\\\\bin',\n",
       " 'E:\\\\PyCharm\\\\PyCharm Community Edition 2021.2.3\\\\bin',\n",
       " '',\n",
       " 'E:\\\\anaconda',\n",
       " 'E:\\\\anaconda\\\\Library\\\\bin',\n",
       " 'E:\\\\anaconda\\\\Library\\\\bin',\n",
       " 'E:\\\\apache-jena-4.7.0\\\\bat',\n",
       " 'C:\\\\Program Files\\\\Java\\\\jdk-19\\\\bin',\n",
       " 'C:\\\\Program Files\\\\Common Files\\\\Oracle\\\\Java\\\\javapath',\n",
       " 'C:\\\\Users\\\\shanmukh\\\\Downloads\\\\spark-3.3.2-bin-hadoop3\\\\spark-3.3.2-bin-hadoop3',\n",
       " '',\n",
       " 'C:\\\\Program Files\\\\dotnet\\\\',\n",
       " 'C:\\\\Program Files\\\\Git\\\\cmd',\n",
       " 'E:\\\\anaconda\\\\Scripts',\n",
       " 'E:\\\\anaconda\\\\Library',\n",
       " 'E:\\\\anaconda\\\\Library\\\\bin',\n",
       " 'E:\\\\anaconda\\\\Library\\\\mingw-w64\\\\bin',\n",
       " 'C:\\\\Users\\\\shanmukh\\\\AppData\\\\Local\\\\Programs\\\\Python\\\\Python38-32\\\\Scripts\\\\',\n",
       " 'C:\\\\Users\\\\shanmukh\\\\AppData\\\\Local\\\\Programs\\\\Python\\\\Python38-32\\\\',\n",
       " 'C:\\\\Users\\\\shanmukh\\\\AppData\\\\Local\\\\Microsoft\\\\WindowsApps',\n",
       " 'C:\\\\Users\\\\shanmukh\\\\AppData\\\\Local\\\\GitHubDesktop\\\\bin',\n",
       " 'C:\\\\Program Files\\\\mingw-w64\\\\x86_64-8.1.0-posix-seh-rt_v6-rev0\\\\mingw64\\\\bin',\n",
       " 'C:\\\\Users\\\\shanmukh\\\\AppData\\\\Local\\\\Microsoft\\\\WindowsApps',\n",
       " 'D:\\\\heroku\\\\bin',\n",
       " 'E:\\\\vscode\\\\Microsoft VS Code\\\\bin',\n",
       " 'E:\\\\PyCharm\\\\PyCharm Community Edition 2021.2.3\\\\bin',\n",
       " '',\n",
       " 'E:\\\\anaconda',\n",
       " 'E:\\\\anaconda\\\\Library\\\\bin',\n",
       " 'E:\\\\anaconda\\\\Library\\\\bin',\n",
       " 'E:\\\\apache-jena-4.7.0\\\\bat',\n",
       " 'C:\\\\Program Files\\\\Java\\\\jdk-19\\\\bin',\n",
       " 'C:\\\\Program Files\\\\Common Files\\\\Oracle\\\\Java\\\\javapath',\n",
       " 'C:\\\\Users\\\\shanmukh\\\\Downloads\\\\spark-3.3.2-bin-hadoop3\\\\spark-3.3.2-bin-hadoop3',\n",
       " '']"
      ]
     },
     "execution_count": 4,
     "metadata": {},
     "output_type": "execute_result"
    }
   ],
   "source": [
    "import os\n",
    "\n",
    "x = os.environ['PATH']\n",
    "x.split(\";\")"
   ]
  },
  {
   "cell_type": "code",
   "execution_count": 27,
   "metadata": {},
   "outputs": [
    {
     "data": {
      "text/html": [
       "<div>\n",
       "<style scoped>\n",
       "    .dataframe tbody tr th:only-of-type {\n",
       "        vertical-align: middle;\n",
       "    }\n",
       "\n",
       "    .dataframe tbody tr th {\n",
       "        vertical-align: top;\n",
       "    }\n",
       "\n",
       "    .dataframe thead th {\n",
       "        text-align: right;\n",
       "    }\n",
       "</style>\n",
       "<table border=\"1\" class=\"dataframe\">\n",
       "  <thead>\n",
       "    <tr style=\"text-align: right;\">\n",
       "      <th></th>\n",
       "      <th>Word</th>\n",
       "      <th>Frequency</th>\n",
       "    </tr>\n",
       "  </thead>\n",
       "  <tbody>\n",
       "    <tr>\n",
       "      <th>0</th>\n",
       "      <td>better whatev person love one</td>\n",
       "      <td>1</td>\n",
       "    </tr>\n",
       "    <tr>\n",
       "      <th>1</th>\n",
       "      <td>gate treasur hunter oh excus</td>\n",
       "      <td>1</td>\n",
       "    </tr>\n",
       "    <tr>\n",
       "      <th>2</th>\n",
       "      <td>atmospher place jump scare also</td>\n",
       "      <td>1</td>\n",
       "    </tr>\n",
       "    <tr>\n",
       "      <th>3</th>\n",
       "      <td>deliv like joke either riley</td>\n",
       "      <td>1</td>\n",
       "    </tr>\n",
       "    <tr>\n",
       "      <th>4</th>\n",
       "      <td>forsaken desert giant forest full</td>\n",
       "      <td>1</td>\n",
       "    </tr>\n",
       "  </tbody>\n",
       "</table>\n",
       "</div>"
      ],
      "text/plain": [
       "                                Word  Frequency\n",
       "0      better whatev person love one          1\n",
       "1       gate treasur hunter oh excus          1\n",
       "2    atmospher place jump scare also          1\n",
       "3       deliv like joke either riley          1\n",
       "4  forsaken desert giant forest full          1"
      ]
     },
     "execution_count": 27,
     "metadata": {},
     "output_type": "execute_result"
    }
   ],
   "source": [
    "import pandas as pd\n",
    "\n",
    "df = pd.read_csv(r\"D:\\Learning\\NLP\\Projects\\scratch_nlp\\output\\ngram\\Vocab Frequency.csv\")\n",
    "df.head()"
   ]
  },
  {
   "cell_type": "code",
   "execution_count": 28,
   "metadata": {},
   "outputs": [
    {
     "data": {
      "text/html": [
       "<div>\n",
       "<style scoped>\n",
       "    .dataframe tbody tr th:only-of-type {\n",
       "        vertical-align: middle;\n",
       "    }\n",
       "\n",
       "    .dataframe tbody tr th {\n",
       "        vertical-align: top;\n",
       "    }\n",
       "\n",
       "    .dataframe thead th {\n",
       "        text-align: right;\n",
       "    }\n",
       "</style>\n",
       "<table border=\"1\" class=\"dataframe\">\n",
       "  <thead>\n",
       "    <tr style=\"text-align: right;\">\n",
       "      <th></th>\n",
       "      <th>Word</th>\n",
       "      <th>Frequency</th>\n",
       "    </tr>\n",
       "  </thead>\n",
       "  <tbody>\n",
       "    <tr>\n",
       "      <th>0</th>\n",
       "      <td>el día de la bestia</td>\n",
       "      <td>2</td>\n",
       "    </tr>\n",
       "    <tr>\n",
       "      <th>1</th>\n",
       "      <td>anoth episod like one brak</td>\n",
       "      <td>2</td>\n",
       "    </tr>\n",
       "    <tr>\n",
       "      <th>2</th>\n",
       "      <td>atmospher place jump scare also</td>\n",
       "      <td>1</td>\n",
       "    </tr>\n",
       "    <tr>\n",
       "      <th>3</th>\n",
       "      <td>deliv like joke either riley</td>\n",
       "      <td>1</td>\n",
       "    </tr>\n",
       "    <tr>\n",
       "      <th>4</th>\n",
       "      <td>forsaken desert giant forest full</td>\n",
       "      <td>1</td>\n",
       "    </tr>\n",
       "  </tbody>\n",
       "</table>\n",
       "</div>"
      ],
      "text/plain": [
       "                                Word  Frequency\n",
       "0                el día de la bestia          2\n",
       "1         anoth episod like one brak          2\n",
       "2    atmospher place jump scare also          1\n",
       "3       deliv like joke either riley          1\n",
       "4  forsaken desert giant forest full          1"
      ]
     },
     "execution_count": 28,
     "metadata": {},
     "output_type": "execute_result"
    }
   ],
   "source": [
    "df.sort_values(by=\"Frequency\", ascending=False, ignore_index=True, inplace=True)\n",
    "df.head()"
   ]
  },
  {
   "cell_type": "code",
   "execution_count": 30,
   "metadata": {},
   "outputs": [
    {
     "name": "stdout",
     "output_type": "stream",
     "text": [
      "['Word_1', 'Word_2', 'Word_3', 'Word_4', 'Word_5']\n"
     ]
    },
    {
     "data": {
      "text/html": [
       "<div>\n",
       "<style scoped>\n",
       "    .dataframe tbody tr th:only-of-type {\n",
       "        vertical-align: middle;\n",
       "    }\n",
       "\n",
       "    .dataframe tbody tr th {\n",
       "        vertical-align: top;\n",
       "    }\n",
       "\n",
       "    .dataframe thead th {\n",
       "        text-align: right;\n",
       "    }\n",
       "</style>\n",
       "<table border=\"1\" class=\"dataframe\">\n",
       "  <thead>\n",
       "    <tr style=\"text-align: right;\">\n",
       "      <th></th>\n",
       "      <th>Word</th>\n",
       "      <th>Frequency</th>\n",
       "      <th>Word_1</th>\n",
       "      <th>Word_2</th>\n",
       "      <th>Word_3</th>\n",
       "      <th>Word_4</th>\n",
       "      <th>Word_5</th>\n",
       "    </tr>\n",
       "  </thead>\n",
       "  <tbody>\n",
       "    <tr>\n",
       "      <th>0</th>\n",
       "      <td>el día de la bestia</td>\n",
       "      <td>2</td>\n",
       "      <td>el</td>\n",
       "      <td>día</td>\n",
       "      <td>de</td>\n",
       "      <td>la</td>\n",
       "      <td>bestia</td>\n",
       "    </tr>\n",
       "    <tr>\n",
       "      <th>1</th>\n",
       "      <td>anoth episod like one brak</td>\n",
       "      <td>2</td>\n",
       "      <td>anoth</td>\n",
       "      <td>episod</td>\n",
       "      <td>like</td>\n",
       "      <td>one</td>\n",
       "      <td>brak</td>\n",
       "    </tr>\n",
       "    <tr>\n",
       "      <th>2</th>\n",
       "      <td>atmospher place jump scare also</td>\n",
       "      <td>1</td>\n",
       "      <td>atmospher</td>\n",
       "      <td>place</td>\n",
       "      <td>jump</td>\n",
       "      <td>scare</td>\n",
       "      <td>also</td>\n",
       "    </tr>\n",
       "    <tr>\n",
       "      <th>3</th>\n",
       "      <td>deliv like joke either riley</td>\n",
       "      <td>1</td>\n",
       "      <td>deliv</td>\n",
       "      <td>like</td>\n",
       "      <td>joke</td>\n",
       "      <td>either</td>\n",
       "      <td>riley</td>\n",
       "    </tr>\n",
       "    <tr>\n",
       "      <th>4</th>\n",
       "      <td>forsaken desert giant forest full</td>\n",
       "      <td>1</td>\n",
       "      <td>forsaken</td>\n",
       "      <td>desert</td>\n",
       "      <td>giant</td>\n",
       "      <td>forest</td>\n",
       "      <td>full</td>\n",
       "    </tr>\n",
       "  </tbody>\n",
       "</table>\n",
       "</div>"
      ],
      "text/plain": [
       "                                Word  Frequency     Word_1  Word_2 Word_3  \\\n",
       "0                el día de la bestia          2         el     día     de   \n",
       "1         anoth episod like one brak          2      anoth  episod   like   \n",
       "2    atmospher place jump scare also          1  atmospher   place   jump   \n",
       "3       deliv like joke either riley          1      deliv    like   joke   \n",
       "4  forsaken desert giant forest full          1   forsaken  desert  giant   \n",
       "\n",
       "   Word_4  Word_5  \n",
       "0      la  bestia  \n",
       "1     one    brak  \n",
       "2   scare    also  \n",
       "3  either   riley  \n",
       "4  forest    full  "
      ]
     },
     "execution_count": 30,
     "metadata": {},
     "output_type": "execute_result"
    }
   ],
   "source": [
    "n = 5\n",
    "word_cols = [f\"Word_{i+1}\" for i in range(n)]\n",
    "print(word_cols)\n",
    "\n",
    "df[word_cols] = df[\"Word\"].str.split(\" \", expand=True)\n",
    "df.head()"
   ]
  },
  {
   "cell_type": "code",
   "execution_count": null,
   "metadata": {},
   "outputs": [],
   "source": [
    "import matplotlib.pyplot as plt\n",
    "%matplotlib inline\n",
    "\n",
    "new_df = df.iloc[:10]\n",
    "\n",
    "def percentage_growth(l):\n",
    "    s = 0\n",
    "    res = [0]\n",
    "    for i in range(len(l)-1):\n",
    "        s += l.iloc[i]\n",
    "        res.append(s / sum(l))\n",
    "    return res\n",
    "\n",
    "cmap = plt.get_cmap(\"rainbow\")\n",
    "\n",
    "for i, col in enumerate(word_cols):\n",
    "    radius=i+2\n",
    "    width=1\n",
    "    frame = new_df.groupby(word_cols[:i+1])[\"Frequency\"].sum()\n",
    "    colors = cmap(percentage_growth(frame))\n",
    "    labels = [x[-1] if isinstance(x, tuple) else x for x in frame.index.to_numpy()]\n",
    "    plt.pie(frame, labels=labels, colors=colors, radius=radius, wedgeprops=dict(width=width, edgecolor='w'), textprops=dict(size=20), labeldistance=0.8 + i/60)    "
   ]
  },
  {
   "cell_type": "code",
   "execution_count": null,
   "metadata": {},
   "outputs": [],
   "source": [
    "import nltk\n",
    "nltk.download(\"treebank\")\n",
    "data = list(nltk.corpus.treebank.tagged_sents())\n",
    "data"
   ]
  },
  {
   "cell_type": "code",
   "execution_count": 6,
   "metadata": {},
   "outputs": [
    {
     "data": {
      "application/vnd.plotly.v1+json": {
       "config": {
        "plotlyServerURL": "https://plot.ly"
       },
       "data": [
        {
         "hovertemplate": "x=%{x}<br>y=%{y}<br>text=%{text}<extra></extra>",
         "legendgroup": "",
         "marker": {
          "color": "#636efa",
          "symbol": "circle"
         },
         "mode": "markers+text",
         "name": "",
         "orientation": "v",
         "showlegend": false,
         "text": [
          ".",
          "EX",
          "VBZ",
          "RP",
          "VBN",
          "NNS",
          "VBG",
          "IN",
          "NNP",
          "CC",
          "VB",
          "WDT",
          "RBR",
          "PRP$",
          "WP",
          ",",
          "VBP",
          "CD",
          "TO",
          "MD",
          "JJ",
          "JJR",
          "RB",
          "PRP",
          "VBD",
          "POS",
          "NN",
          "JJS",
          "DT",
          "``",
          "-NONE-",
          "''",
          ":"
         ],
         "textposition": "bottom right",
         "type": "scatter",
         "x": [
          1.417842149734497,
          1.2521332502365112,
          1.521378517150879,
          1.0054429769515991,
          1.6221271753311157,
          1.6223433017730713,
          1.6188766956329346,
          1.584828495979309,
          1.6231746673583984,
          1.8485268354415894,
          1.613977074623108,
          1.896132469177246,
          1.3310317993164062,
          1.8603366613388062,
          2.1881279945373535,
          1.1122279167175293,
          1.609326958656311,
          1.6221072673797607,
          1.0108835697174072,
          1.57920503616333,
          1.620813250541687,
          1.8424478769302368,
          1.622568130493164,
          1.604093313217163,
          1.621645450592041,
          1.9139959812164307,
          1.6229921579360962,
          1.5940717458724976,
          1.6028313636779785,
          1.562522530555725,
          1.6229703426361084,
          2.1944563388824463,
          2.2573070526123047
         ],
         "xaxis": "x",
         "y": [
          2.6740496158599854,
          1.5386372804641724,
          2.0951223373413086,
          2.2090647220611572,
          2.068803310394287,
          2.068403720855713,
          2.0701708793640137,
          2.0795867443084717,
          2.068553924560547,
          1.7648667097091675,
          2.072434186935425,
          2.44883131980896,
          1.7520054578781128,
          2.0009896755218506,
          1.7721447944641113,
          2.4553325176239014,
          2.072134017944336,
          2.0691885948181152,
          1.8830689191818237,
          2.4559733867645264,
          2.065619945526123,
          2.6745285987854004,
          2.067958354949951,
          2.073824405670166,
          2.0683000087738037,
          1.498351812362671,
          2.069370985031128,
          2.0768625736236572,
          2.074612617492676,
          1.4339810609817505,
          2.069317579269409,
          2.360992670059204,
          2.028695821762085
         ],
         "yaxis": "y"
        }
       ],
       "layout": {
        "legend": {
         "tracegroupgap": 0
        },
        "margin": {
         "t": 60
        },
        "template": {
         "data": {
          "bar": [
           {
            "error_x": {
             "color": "#2a3f5f"
            },
            "error_y": {
             "color": "#2a3f5f"
            },
            "marker": {
             "line": {
              "color": "#E5ECF6",
              "width": 0.5
             },
             "pattern": {
              "fillmode": "overlay",
              "size": 10,
              "solidity": 0.2
             }
            },
            "type": "bar"
           }
          ],
          "barpolar": [
           {
            "marker": {
             "line": {
              "color": "#E5ECF6",
              "width": 0.5
             },
             "pattern": {
              "fillmode": "overlay",
              "size": 10,
              "solidity": 0.2
             }
            },
            "type": "barpolar"
           }
          ],
          "carpet": [
           {
            "aaxis": {
             "endlinecolor": "#2a3f5f",
             "gridcolor": "white",
             "linecolor": "white",
             "minorgridcolor": "white",
             "startlinecolor": "#2a3f5f"
            },
            "baxis": {
             "endlinecolor": "#2a3f5f",
             "gridcolor": "white",
             "linecolor": "white",
             "minorgridcolor": "white",
             "startlinecolor": "#2a3f5f"
            },
            "type": "carpet"
           }
          ],
          "choropleth": [
           {
            "colorbar": {
             "outlinewidth": 0,
             "ticks": ""
            },
            "type": "choropleth"
           }
          ],
          "contour": [
           {
            "colorbar": {
             "outlinewidth": 0,
             "ticks": ""
            },
            "colorscale": [
             [
              0,
              "#0d0887"
             ],
             [
              0.1111111111111111,
              "#46039f"
             ],
             [
              0.2222222222222222,
              "#7201a8"
             ],
             [
              0.3333333333333333,
              "#9c179e"
             ],
             [
              0.4444444444444444,
              "#bd3786"
             ],
             [
              0.5555555555555556,
              "#d8576b"
             ],
             [
              0.6666666666666666,
              "#ed7953"
             ],
             [
              0.7777777777777778,
              "#fb9f3a"
             ],
             [
              0.8888888888888888,
              "#fdca26"
             ],
             [
              1,
              "#f0f921"
             ]
            ],
            "type": "contour"
           }
          ],
          "contourcarpet": [
           {
            "colorbar": {
             "outlinewidth": 0,
             "ticks": ""
            },
            "type": "contourcarpet"
           }
          ],
          "heatmap": [
           {
            "colorbar": {
             "outlinewidth": 0,
             "ticks": ""
            },
            "colorscale": [
             [
              0,
              "#0d0887"
             ],
             [
              0.1111111111111111,
              "#46039f"
             ],
             [
              0.2222222222222222,
              "#7201a8"
             ],
             [
              0.3333333333333333,
              "#9c179e"
             ],
             [
              0.4444444444444444,
              "#bd3786"
             ],
             [
              0.5555555555555556,
              "#d8576b"
             ],
             [
              0.6666666666666666,
              "#ed7953"
             ],
             [
              0.7777777777777778,
              "#fb9f3a"
             ],
             [
              0.8888888888888888,
              "#fdca26"
             ],
             [
              1,
              "#f0f921"
             ]
            ],
            "type": "heatmap"
           }
          ],
          "heatmapgl": [
           {
            "colorbar": {
             "outlinewidth": 0,
             "ticks": ""
            },
            "colorscale": [
             [
              0,
              "#0d0887"
             ],
             [
              0.1111111111111111,
              "#46039f"
             ],
             [
              0.2222222222222222,
              "#7201a8"
             ],
             [
              0.3333333333333333,
              "#9c179e"
             ],
             [
              0.4444444444444444,
              "#bd3786"
             ],
             [
              0.5555555555555556,
              "#d8576b"
             ],
             [
              0.6666666666666666,
              "#ed7953"
             ],
             [
              0.7777777777777778,
              "#fb9f3a"
             ],
             [
              0.8888888888888888,
              "#fdca26"
             ],
             [
              1,
              "#f0f921"
             ]
            ],
            "type": "heatmapgl"
           }
          ],
          "histogram": [
           {
            "marker": {
             "pattern": {
              "fillmode": "overlay",
              "size": 10,
              "solidity": 0.2
             }
            },
            "type": "histogram"
           }
          ],
          "histogram2d": [
           {
            "colorbar": {
             "outlinewidth": 0,
             "ticks": ""
            },
            "colorscale": [
             [
              0,
              "#0d0887"
             ],
             [
              0.1111111111111111,
              "#46039f"
             ],
             [
              0.2222222222222222,
              "#7201a8"
             ],
             [
              0.3333333333333333,
              "#9c179e"
             ],
             [
              0.4444444444444444,
              "#bd3786"
             ],
             [
              0.5555555555555556,
              "#d8576b"
             ],
             [
              0.6666666666666666,
              "#ed7953"
             ],
             [
              0.7777777777777778,
              "#fb9f3a"
             ],
             [
              0.8888888888888888,
              "#fdca26"
             ],
             [
              1,
              "#f0f921"
             ]
            ],
            "type": "histogram2d"
           }
          ],
          "histogram2dcontour": [
           {
            "colorbar": {
             "outlinewidth": 0,
             "ticks": ""
            },
            "colorscale": [
             [
              0,
              "#0d0887"
             ],
             [
              0.1111111111111111,
              "#46039f"
             ],
             [
              0.2222222222222222,
              "#7201a8"
             ],
             [
              0.3333333333333333,
              "#9c179e"
             ],
             [
              0.4444444444444444,
              "#bd3786"
             ],
             [
              0.5555555555555556,
              "#d8576b"
             ],
             [
              0.6666666666666666,
              "#ed7953"
             ],
             [
              0.7777777777777778,
              "#fb9f3a"
             ],
             [
              0.8888888888888888,
              "#fdca26"
             ],
             [
              1,
              "#f0f921"
             ]
            ],
            "type": "histogram2dcontour"
           }
          ],
          "mesh3d": [
           {
            "colorbar": {
             "outlinewidth": 0,
             "ticks": ""
            },
            "type": "mesh3d"
           }
          ],
          "parcoords": [
           {
            "line": {
             "colorbar": {
              "outlinewidth": 0,
              "ticks": ""
             }
            },
            "type": "parcoords"
           }
          ],
          "pie": [
           {
            "automargin": true,
            "type": "pie"
           }
          ],
          "scatter": [
           {
            "fillpattern": {
             "fillmode": "overlay",
             "size": 10,
             "solidity": 0.2
            },
            "type": "scatter"
           }
          ],
          "scatter3d": [
           {
            "line": {
             "colorbar": {
              "outlinewidth": 0,
              "ticks": ""
             }
            },
            "marker": {
             "colorbar": {
              "outlinewidth": 0,
              "ticks": ""
             }
            },
            "type": "scatter3d"
           }
          ],
          "scattercarpet": [
           {
            "marker": {
             "colorbar": {
              "outlinewidth": 0,
              "ticks": ""
             }
            },
            "type": "scattercarpet"
           }
          ],
          "scattergeo": [
           {
            "marker": {
             "colorbar": {
              "outlinewidth": 0,
              "ticks": ""
             }
            },
            "type": "scattergeo"
           }
          ],
          "scattergl": [
           {
            "marker": {
             "colorbar": {
              "outlinewidth": 0,
              "ticks": ""
             }
            },
            "type": "scattergl"
           }
          ],
          "scattermapbox": [
           {
            "marker": {
             "colorbar": {
              "outlinewidth": 0,
              "ticks": ""
             }
            },
            "type": "scattermapbox"
           }
          ],
          "scatterpolar": [
           {
            "marker": {
             "colorbar": {
              "outlinewidth": 0,
              "ticks": ""
             }
            },
            "type": "scatterpolar"
           }
          ],
          "scatterpolargl": [
           {
            "marker": {
             "colorbar": {
              "outlinewidth": 0,
              "ticks": ""
             }
            },
            "type": "scatterpolargl"
           }
          ],
          "scatterternary": [
           {
            "marker": {
             "colorbar": {
              "outlinewidth": 0,
              "ticks": ""
             }
            },
            "type": "scatterternary"
           }
          ],
          "surface": [
           {
            "colorbar": {
             "outlinewidth": 0,
             "ticks": ""
            },
            "colorscale": [
             [
              0,
              "#0d0887"
             ],
             [
              0.1111111111111111,
              "#46039f"
             ],
             [
              0.2222222222222222,
              "#7201a8"
             ],
             [
              0.3333333333333333,
              "#9c179e"
             ],
             [
              0.4444444444444444,
              "#bd3786"
             ],
             [
              0.5555555555555556,
              "#d8576b"
             ],
             [
              0.6666666666666666,
              "#ed7953"
             ],
             [
              0.7777777777777778,
              "#fb9f3a"
             ],
             [
              0.8888888888888888,
              "#fdca26"
             ],
             [
              1,
              "#f0f921"
             ]
            ],
            "type": "surface"
           }
          ],
          "table": [
           {
            "cells": {
             "fill": {
              "color": "#EBF0F8"
             },
             "line": {
              "color": "white"
             }
            },
            "header": {
             "fill": {
              "color": "#C8D4E3"
             },
             "line": {
              "color": "white"
             }
            },
            "type": "table"
           }
          ]
         },
         "layout": {
          "annotationdefaults": {
           "arrowcolor": "#2a3f5f",
           "arrowhead": 0,
           "arrowwidth": 1
          },
          "autotypenumbers": "strict",
          "coloraxis": {
           "colorbar": {
            "outlinewidth": 0,
            "ticks": ""
           }
          },
          "colorscale": {
           "diverging": [
            [
             0,
             "#8e0152"
            ],
            [
             0.1,
             "#c51b7d"
            ],
            [
             0.2,
             "#de77ae"
            ],
            [
             0.3,
             "#f1b6da"
            ],
            [
             0.4,
             "#fde0ef"
            ],
            [
             0.5,
             "#f7f7f7"
            ],
            [
             0.6,
             "#e6f5d0"
            ],
            [
             0.7,
             "#b8e186"
            ],
            [
             0.8,
             "#7fbc41"
            ],
            [
             0.9,
             "#4d9221"
            ],
            [
             1,
             "#276419"
            ]
           ],
           "sequential": [
            [
             0,
             "#0d0887"
            ],
            [
             0.1111111111111111,
             "#46039f"
            ],
            [
             0.2222222222222222,
             "#7201a8"
            ],
            [
             0.3333333333333333,
             "#9c179e"
            ],
            [
             0.4444444444444444,
             "#bd3786"
            ],
            [
             0.5555555555555556,
             "#d8576b"
            ],
            [
             0.6666666666666666,
             "#ed7953"
            ],
            [
             0.7777777777777778,
             "#fb9f3a"
            ],
            [
             0.8888888888888888,
             "#fdca26"
            ],
            [
             1,
             "#f0f921"
            ]
           ],
           "sequentialminus": [
            [
             0,
             "#0d0887"
            ],
            [
             0.1111111111111111,
             "#46039f"
            ],
            [
             0.2222222222222222,
             "#7201a8"
            ],
            [
             0.3333333333333333,
             "#9c179e"
            ],
            [
             0.4444444444444444,
             "#bd3786"
            ],
            [
             0.5555555555555556,
             "#d8576b"
            ],
            [
             0.6666666666666666,
             "#ed7953"
            ],
            [
             0.7777777777777778,
             "#fb9f3a"
            ],
            [
             0.8888888888888888,
             "#fdca26"
            ],
            [
             1,
             "#f0f921"
            ]
           ]
          },
          "colorway": [
           "#636efa",
           "#EF553B",
           "#00cc96",
           "#ab63fa",
           "#FFA15A",
           "#19d3f3",
           "#FF6692",
           "#B6E880",
           "#FF97FF",
           "#FECB52"
          ],
          "font": {
           "color": "#2a3f5f"
          },
          "geo": {
           "bgcolor": "white",
           "lakecolor": "white",
           "landcolor": "#E5ECF6",
           "showlakes": true,
           "showland": true,
           "subunitcolor": "white"
          },
          "hoverlabel": {
           "align": "left"
          },
          "hovermode": "closest",
          "mapbox": {
           "style": "light"
          },
          "paper_bgcolor": "white",
          "plot_bgcolor": "#E5ECF6",
          "polar": {
           "angularaxis": {
            "gridcolor": "white",
            "linecolor": "white",
            "ticks": ""
           },
           "bgcolor": "#E5ECF6",
           "radialaxis": {
            "gridcolor": "white",
            "linecolor": "white",
            "ticks": ""
           }
          },
          "scene": {
           "xaxis": {
            "backgroundcolor": "#E5ECF6",
            "gridcolor": "white",
            "gridwidth": 2,
            "linecolor": "white",
            "showbackground": true,
            "ticks": "",
            "zerolinecolor": "white"
           },
           "yaxis": {
            "backgroundcolor": "#E5ECF6",
            "gridcolor": "white",
            "gridwidth": 2,
            "linecolor": "white",
            "showbackground": true,
            "ticks": "",
            "zerolinecolor": "white"
           },
           "zaxis": {
            "backgroundcolor": "#E5ECF6",
            "gridcolor": "white",
            "gridwidth": 2,
            "linecolor": "white",
            "showbackground": true,
            "ticks": "",
            "zerolinecolor": "white"
           }
          },
          "shapedefaults": {
           "line": {
            "color": "#2a3f5f"
           }
          },
          "ternary": {
           "aaxis": {
            "gridcolor": "white",
            "linecolor": "white",
            "ticks": ""
           },
           "baxis": {
            "gridcolor": "white",
            "linecolor": "white",
            "ticks": ""
           },
           "bgcolor": "#E5ECF6",
           "caxis": {
            "gridcolor": "white",
            "linecolor": "white",
            "ticks": ""
           }
          },
          "title": {
           "x": 0.05
          },
          "xaxis": {
           "automargin": true,
           "gridcolor": "white",
           "linecolor": "white",
           "ticks": "",
           "title": {
            "standoff": 15
           },
           "zerolinecolor": "white",
           "zerolinewidth": 2
          },
          "yaxis": {
           "automargin": true,
           "gridcolor": "white",
           "linecolor": "white",
           "ticks": "",
           "title": {
            "standoff": 15
           },
           "zerolinecolor": "white",
           "zerolinewidth": 2
          }
         }
        },
        "xaxis": {
         "anchor": "y",
         "domain": [
          0,
          1
         ],
         "title": {
          "text": "x"
         }
        },
        "yaxis": {
         "anchor": "x",
         "domain": [
          0,
          1
         ],
         "title": {
          "text": "y"
         }
        }
       }
      }
     },
     "metadata": {},
     "output_type": "display_data"
    }
   ],
   "source": [
    "import numpy as np\n",
    "import pandas as pd\n",
    "import plotly.express as px\n",
    "from sklearn.manifold import TSNE\n",
    "\n",
    "arr_df = pd.read_csv(\"./output/hmm/Emission Matrix.csv\")\n",
    "cols = list(arr_df.columns)\n",
    "vocab = cols[1:]\n",
    "pos = list(arr_df[cols[0]])\n",
    "\n",
    "tsne = TSNE(n_components=2)\n",
    "arr_tsne = tsne.fit_transform(np.array(arr_df[vocab]))\n",
    "\n",
    "fig = px.scatter(x=arr_tsne[:,0], y=arr_tsne[:,1],text=pos)\n",
    "fig.update_traces(textposition=\"bottom right\")"
   ]
  },
  {
   "cell_type": "code",
   "execution_count": 6,
   "metadata": {},
   "outputs": [
    {
     "data": {
      "text/html": [
       "<div>\n",
       "<style scoped>\n",
       "    .dataframe tbody tr th:only-of-type {\n",
       "        vertical-align: middle;\n",
       "    }\n",
       "\n",
       "    .dataframe tbody tr th {\n",
       "        vertical-align: top;\n",
       "    }\n",
       "\n",
       "    .dataframe thead th {\n",
       "        text-align: right;\n",
       "    }\n",
       "</style>\n",
       "<table border=\"1\" class=\"dataframe\">\n",
       "  <thead>\n",
       "    <tr style=\"text-align: right;\">\n",
       "      <th></th>\n",
       "      <th>Unnamed: 0</th>\n",
       "      <th>appeal</th>\n",
       "      <th>off</th>\n",
       "      <th>62.1</th>\n",
       "      <th>blow</th>\n",
       "      <th>President</th>\n",
       "      <th>damn</th>\n",
       "      <th>professor</th>\n",
       "      <th>adds</th>\n",
       "      <th>Community</th>\n",
       "      <th>...</th>\n",
       "      <th>Otero</th>\n",
       "      <th>require</th>\n",
       "      <th>paltry</th>\n",
       "      <th>impede</th>\n",
       "      <th>Primerica</th>\n",
       "      <th>electric</th>\n",
       "      <th>lease</th>\n",
       "      <th>Fees</th>\n",
       "      <th>endless</th>\n",
       "      <th>physical</th>\n",
       "    </tr>\n",
       "  </thead>\n",
       "  <tbody>\n",
       "    <tr>\n",
       "      <th>0</th>\n",
       "      <td>NNPS</td>\n",
       "      <td>0.0</td>\n",
       "      <td>0.000000</td>\n",
       "      <td>0.0</td>\n",
       "      <td>0.0</td>\n",
       "      <td>0.0</td>\n",
       "      <td>0.00000</td>\n",
       "      <td>0.0</td>\n",
       "      <td>0.0</td>\n",
       "      <td>0.0</td>\n",
       "      <td>...</td>\n",
       "      <td>0.0</td>\n",
       "      <td>0.0</td>\n",
       "      <td>0.0</td>\n",
       "      <td>0.0</td>\n",
       "      <td>0.0</td>\n",
       "      <td>0.0</td>\n",
       "      <td>0.0</td>\n",
       "      <td>0.0</td>\n",
       "      <td>0.0</td>\n",
       "      <td>0.0</td>\n",
       "    </tr>\n",
       "    <tr>\n",
       "      <th>1</th>\n",
       "      <td>RB</td>\n",
       "      <td>0.0</td>\n",
       "      <td>0.001335</td>\n",
       "      <td>0.0</td>\n",
       "      <td>0.0</td>\n",
       "      <td>0.0</td>\n",
       "      <td>0.00089</td>\n",
       "      <td>0.0</td>\n",
       "      <td>0.0</td>\n",
       "      <td>0.0</td>\n",
       "      <td>...</td>\n",
       "      <td>0.0</td>\n",
       "      <td>0.0</td>\n",
       "      <td>0.0</td>\n",
       "      <td>0.0</td>\n",
       "      <td>0.0</td>\n",
       "      <td>0.0</td>\n",
       "      <td>0.0</td>\n",
       "      <td>0.0</td>\n",
       "      <td>0.0</td>\n",
       "      <td>0.0</td>\n",
       "    </tr>\n",
       "    <tr>\n",
       "      <th>2</th>\n",
       "      <td>VBD</td>\n",
       "      <td>0.0</td>\n",
       "      <td>0.000000</td>\n",
       "      <td>0.0</td>\n",
       "      <td>0.0</td>\n",
       "      <td>0.0</td>\n",
       "      <td>0.00000</td>\n",
       "      <td>0.0</td>\n",
       "      <td>0.0</td>\n",
       "      <td>0.0</td>\n",
       "      <td>...</td>\n",
       "      <td>0.0</td>\n",
       "      <td>0.0</td>\n",
       "      <td>0.0</td>\n",
       "      <td>0.0</td>\n",
       "      <td>0.0</td>\n",
       "      <td>0.0</td>\n",
       "      <td>0.0</td>\n",
       "      <td>0.0</td>\n",
       "      <td>0.0</td>\n",
       "      <td>0.0</td>\n",
       "    </tr>\n",
       "    <tr>\n",
       "      <th>3</th>\n",
       "      <td>RP</td>\n",
       "      <td>0.0</td>\n",
       "      <td>0.110429</td>\n",
       "      <td>0.0</td>\n",
       "      <td>0.0</td>\n",
       "      <td>0.0</td>\n",
       "      <td>0.00000</td>\n",
       "      <td>0.0</td>\n",
       "      <td>0.0</td>\n",
       "      <td>0.0</td>\n",
       "      <td>...</td>\n",
       "      <td>0.0</td>\n",
       "      <td>0.0</td>\n",
       "      <td>0.0</td>\n",
       "      <td>0.0</td>\n",
       "      <td>0.0</td>\n",
       "      <td>0.0</td>\n",
       "      <td>0.0</td>\n",
       "      <td>0.0</td>\n",
       "      <td>0.0</td>\n",
       "      <td>0.0</td>\n",
       "    </tr>\n",
       "    <tr>\n",
       "      <th>4</th>\n",
       "      <td>JJR</td>\n",
       "      <td>0.0</td>\n",
       "      <td>0.000000</td>\n",
       "      <td>0.0</td>\n",
       "      <td>0.0</td>\n",
       "      <td>0.0</td>\n",
       "      <td>0.00000</td>\n",
       "      <td>0.0</td>\n",
       "      <td>0.0</td>\n",
       "      <td>0.0</td>\n",
       "      <td>...</td>\n",
       "      <td>0.0</td>\n",
       "      <td>0.0</td>\n",
       "      <td>0.0</td>\n",
       "      <td>0.0</td>\n",
       "      <td>0.0</td>\n",
       "      <td>0.0</td>\n",
       "      <td>0.0</td>\n",
       "      <td>0.0</td>\n",
       "      <td>0.0</td>\n",
       "      <td>0.0</td>\n",
       "    </tr>\n",
       "  </tbody>\n",
       "</table>\n",
       "<p>5 rows × 10966 columns</p>\n",
       "</div>"
      ],
      "text/plain": [
       "  Unnamed: 0  appeal       off  62.1  blow  President     damn  professor  \\\n",
       "0       NNPS     0.0  0.000000   0.0   0.0        0.0  0.00000        0.0   \n",
       "1         RB     0.0  0.001335   0.0   0.0        0.0  0.00089        0.0   \n",
       "2        VBD     0.0  0.000000   0.0   0.0        0.0  0.00000        0.0   \n",
       "3         RP     0.0  0.110429   0.0   0.0        0.0  0.00000        0.0   \n",
       "4        JJR     0.0  0.000000   0.0   0.0        0.0  0.00000        0.0   \n",
       "\n",
       "   adds  Community  ...  Otero  require  paltry  impede  Primerica  electric  \\\n",
       "0   0.0        0.0  ...    0.0      0.0     0.0     0.0        0.0       0.0   \n",
       "1   0.0        0.0  ...    0.0      0.0     0.0     0.0        0.0       0.0   \n",
       "2   0.0        0.0  ...    0.0      0.0     0.0     0.0        0.0       0.0   \n",
       "3   0.0        0.0  ...    0.0      0.0     0.0     0.0        0.0       0.0   \n",
       "4   0.0        0.0  ...    0.0      0.0     0.0     0.0        0.0       0.0   \n",
       "\n",
       "   lease  Fees  endless  physical  \n",
       "0    0.0   0.0      0.0       0.0  \n",
       "1    0.0   0.0      0.0       0.0  \n",
       "2    0.0   0.0      0.0       0.0  \n",
       "3    0.0   0.0      0.0       0.0  \n",
       "4    0.0   0.0      0.0       0.0  \n",
       "\n",
       "[5 rows x 10966 columns]"
      ]
     },
     "execution_count": 6,
     "metadata": {},
     "output_type": "execute_result"
    }
   ],
   "source": [
    "arr_df.head()"
   ]
  },
  {
   "cell_type": "code",
   "execution_count": 4,
   "metadata": {},
   "outputs": [
    {
     "data": {
      "text/plain": [
       "(array([1, 2, 3, 4]), array([1, 1, 1, 1]))"
      ]
     },
     "execution_count": 4,
     "metadata": {},
     "output_type": "execute_result"
    }
   ],
   "source": [
    "import numpy as np\n",
    "\n",
    "arr = np.array([2,1,3,4])\n",
    "np.unique(arr, return_counts=True)"
   ]
  },
  {
   "cell_type": "code",
   "execution_count": 5,
   "metadata": {},
   "outputs": [
    {
     "data": {
      "image/png": "[encoded data removed]",
      "text/plain": [
       "<Figure size 640x480 with 1 Axes>"
      ]
     },
     "metadata": {},
     "output_type": "display_data"
    }
   ],
   "source": [
    "import pandas as pd\n",
    "import matplotlib.pyplot as plt\n",
    "\n",
    "# Create a DataFrame\n",
    "df = pd.DataFrame({'A': [1, 2, 3], 'B': [4, 5, 6]})\n",
    "\n",
    "# Create a figure and axes\n",
    "fig, ax = plt.subplots()\n",
    "\n",
    "# Hide axes\n",
    "ax.axis('off')\n",
    "\n",
    "# Create table\n",
    "table = ax.table(cellText=df.values, colLabels=df.columns, loc='center')\n",
    "\n",
    "# Adjust layout\n",
    "table.auto_set_font_size(False)\n",
    "table.set_fontsize(10)\n",
    "\n",
    "# Show the plot\n",
    "plt.show()"
   ]
  },
  {
   "cell_type": "markdown",
   "metadata": {},
   "source": [
    "### Word2Vec"
   ]
  },
  {
   "cell_type": "code",
   "execution_count": 64,
   "metadata": {},
   "outputs": [
    {
     "name": "stderr",
     "output_type": "stream",
     "text": [
      "Extracting from: neg: 100%|██████████| 5/5 [00:00<00:00, 17.04it/s]\n",
      "Extracting from: pos: 100%|██████████| 5/5 [00:00<00:00, 29.81it/s]\n",
      "Extracting from: unsup: 100%|██████████| 5/5 [00:00<00:00, 26.67it/s]"
     ]
    },
    {
     "name": "stdout",
     "output_type": "stream",
     "text": [
      "{'br': 56, 'movi': 34, 'film': 30, 'tom': 13, 'time': 12, 'like': 12, 'end': 12, 'charact': 12, 'one': 11, 'seen': 10, 'much': 10, 'go': 10, 'see': 9, 'back': 9, 'know': 9, 'well': 8, 'good': 8, 'think': 8, 'great': 8, 'hous': 7, 'come': 7, 'get': 7, 'cecilia': 7, 'goe': 6, 'hope': 6, 'cut': 6, 'look': 6, 'play': 6, 'two': 6, 'littl': 6, '<UNK>': 1287}\n",
      "[[30, 1], [30, 4], [1, 30], [1, 30], [1, 30], [4, 30], [30, 30], [30, 30], [30, 30], [30, 30], [30, 30], [30, 30], [30, 30], [30, 30], [30, 23], [30, 30], [30, 30], [30, 30], [30, 30], [23, 30], [30, 24], [30, 30], [30, 30], [30, 30], [24, 30], [30, 30], [30, 30], [30, 30], [30, 30], [30, 30], [30, 1], [30, 30], [1, 30], [30, 30], [30, 30], [30, 30], [30, 30], [30, 30], [30, 30], [30, 30], [30, 30], [30, 30], [30, 30], [30, 30], [30, 30], [30, 30], [30, 30], [30, 30], [30, 30], [30, 30], [30, 30], [30, 30], [30, 30], [30, 30], [30, 30], [30, 30], [30, 30], [30, 30], [30, 30], [30, 30], [30, 30], [30, 10], [30, 30], [30, 30], [30, 30], [10, 25], [30, 30], [30, 30], [25, 30], [30, 30], [30, 19], [19, 30], [30, 20], [30, 30], [30, 30], [30, 30], [30, 30], [30, 30], [20, 30], [30, 30], [30, 30], [30, 30], [30, 30], [30, 30], [30, 1], [30, 21], [1, 30], [1, 30], [1, 30], [1, 30], [21, 30], [30, 30], [30, 30], [30, 30], [30, 11], [30, 26], [30, 26], [11, 5], [11, 5], [11, 5], [11, 5], [26, 30], [26, 30], [5, 30], [30, 30], [30, 30], [30, 30], [30, 30], [30, 30], [30, 30], [30, 30], [30, 30], [30, 30], [30, 30], [30, 30], [30, 30], [30, 30], [30, 30], [30, 30], [30, 30], [30, 30], [30, 30], [30, 30], [30, 30], [30, 27], [30, 30], [30, 30], [30, 30], [27, 30], [30, 30], [30, 30], [30, 1], [30, 30], [1, 30], [30, 30], [30, 30], [30, 30], [30, 30], [30, 30], [30, 28], [30, 30], [30, 30], [30, 30], [28, 30], [30, 30], [30, 30], [30, 30], [30, 30], [30, 30], [30, 29], [30, 30], [30, 30], [29, 6], [30, 30], [6, 1], [30, 30], [1, 26], [30, 30], [30, 30], [30, 30], [30, 30], [26, 30], [30, 30], [30, 30], [30, 30], [30, 30], [30, 1], [30, 30], [1, 30], [30, 30], [30, 30], [30, 30], [30, 30], [30, 0], [30, 0], [30, 0], [0, 6], [0, 6], [0, 30], [6, 30], [30, 30], [30, 30], [30, 1], [30, 30], [1, 30], [30, 30], [30, 30], [30, 30], [30, 30], [30, 30], [30, 30], [30, 30], [30, 30], [30, 30], [30, 4], [30, 30], [30, 30], [30, 30], [4, 30], [30, 30], [30, 30], [30, 30], [30, 30], [30, 30], [30, 30], [30, 30], [30, 30], [30, 30], [2, 30], [2, 30], [2, 30], [9, 30], [30, 30], [30, 30], [30, 23], [30, 30], [30, 30], [30, 30], [30, 30], [23, 30], [30, 30], [30, 30], [30, 30], [30, 2], [30, 30], [30, 30], [30, 30], [30, 30], [2, 9], [30, 30], [30, 30], [30, 30], [9, 30], [30, 5], [30, 30], [30, 30], [5, 30], [30, 30], [30, 30], [30, 30], [30, 30], [30, 30], [30, 30], [30, 30], [30, 30], [30, 30], [30, 30], [30, 30], [30, 15], [30, 30], [15, 30], [30, 30], [30, 30], [30, 30], [30, 30], [30, 15], [30, 30], [15, 30], [30, 30], [30, 30], [30, 30], [30, 7], [30, 30], [30, 30], [30, 30], [7, 30], [30, 30], [30, 1], [30, 30], [1, 30], [30, 30], [30, 30], [30, 30], [30, 30], [30, 7], [30, 30], [30, 30], [30, 30], [7, 30], [30, 30], [30, 10], [30, 30], [30, 30], [30, 30], [10, 30], [30, 30], [30, 30], [30, 30], [30, 30], [30, 7], [30, 30], [30, 30], [30, 30], [7, 28], [30, 30], [30, 30], [30, 30], [28, 30], [30, 30], [30, 30], [30, 4], [30, 4], [30, 4], [30, 4], [4, 30], [4, 30], [4, 30], [4, 30], [30, 30], [30, 30], [30, 0], [30, 0], [30, 0], [0, 30], [0, 30], [0, 30], [30, 30], [30, 30], [30, 30], [30, 6], [30, 30], [6, 30], [30, 30], [30, 30], [30, 30], [30, 30], [30, 30], [30, 30], [30, 20], [30, 30], [30, 30], [30, 30], [30, 30], [30, 30], [20, 30], [30, 30], [30, 16], [30, 4], [30, 4], [16, 30], [16, 30], [16, 30], [4, 2], [30, 30], [30, 30], [30, 30], [30, 30], [2, 7], [30, 30], [30, 30], [30, 30], [7, 30], [30, 30], [30, 30], [30, 30], [30, 30], [30, 30], [30, 30], [30, 0], [30, 0], [30, 0], [0, 30], [0, 30], [0, 30], [30, 30], [30, 30], [30, 30], [30, 30], [30, 30], [30, 9], [30, 9], [30, 9], [30, 9], [2, 30], [2, 30], [2, 30], [9, 30], [30, 30], [30, 30], [30, 25], [30, 2], [30, 2], [25, 30], [25, 30], [25, 30], [25, 30], [2, 30], [30, 30], [30, 12], [30, 30], [30, 30], [30, 30], [12, 5], [30, 30], [30, 30], [5, 30], [30, 30], [30, 30], [30, 30], [30, 30], [30, 11], [30, 21], [30, 21], [11, 30], [11, 30], [11, 30], [11, 30], [21, 30], [30, 30], [30, 30], [30, 30], [30, 30], [30, 30], [30, 30], [30, 30], [30, 30], [30, 30], [30, 2], [30, 30], [30, 30], [30, 30], [30, 30], [2, 30], [30, 30], [30, 10], [30, 30], [30, 30], [30, 30], [10, 30], [30, 30], [30, 25], [30, 30], [30, 30], [25, 30], [30, 30], [30, 6], [30, 30], [6, 30], [30, 8], [30, 30], [30, 30], [30, 30], [30, 30], [8, 30], [30, 30], [30, 30], [30, 30], [30, 30], [30, 30], [30, 30], [30, 30], [30, 30], [30, 30], [30, 30], [30, 30], [30, 30], [30, 30], [30, 30], [30, 30], [30, 10], [30, 30], [30, 30], [30, 30], [10, 25], [30, 30], [30, 30], [25, 30], [30, 13], [30, 30], [30, 30], [13, 30], [30, 26], [30, 5], [30, 5], [30, 5], [30, 5], [26, 30], [26, 30], [5, 2], [30, 30], [30, 30], [30, 30], [30, 30], [2, 30], [30, 2], [30, 30], [30, 30], [30, 30], [30, 30], [2, 30], [30, 30], [30, 30], [30, 30], [30, 30], [30, 30], [30, 30], [30, 30], [30, 30], [30, 24], [30, 30], [30, 30], [30, 30], [24, 25], [30, 30], [30, 30], [25, 30], [30, 17], [30, 16], [17, 1], [17, 1], [16, 30], [1, 30], [30, 30], [30, 30], [30, 30], [30, 30], [30, 30], [30, 30], [30, 30], [30, 30], [30, 30], [30, 30], [30, 30], [30, 30], [30, 30], [30, 30], [30, 30], [30, 30], [30, 30], [30, 30], [30, 30], [30, 30], [30, 14], [30, 30], [30, 30], [14, 30], [30, 30], [30, 30], [30, 30], [30, 30], [30, 30], [30, 30], [30, 30], [30, 30], [30, 30], [30, 30], [30, 30], [30, 30], [30, 11], [30, 30], [30, 30], [11, 30], [30, 30], [30, 30], [30, 30], [30, 30], [30, 30], [30, 30], [30, 30], [30, 30], [30, 30], [30, 30], [30, 30], [30, 30], [30, 30], [30, 30], [30, 30], [30, 30], [30, 30], [30, 30], [30, 30], [30, 27], [30, 30], [30, 30], [30, 30], [27, 30], [30, 30], [30, 30], [30, 30], [30, 29], [30, 30], [30, 30], [29, 30], [30, 30], [30, 30], [30, 30], [30, 30], [30, 30], [30, 30], [30, 11], [8, 30], [30, 30], [30, 30], [30, 30], [30, 30], [30, 30], [30, 30], [30, 30], [30, 30], [30, 30], [30, 30], [30, 30], [30, 30], [30, 30], [30, 30], [30, 30], [30, 30], [30, 30], [30, 30], [30, 30], [30, 30], [30, 30], [30, 30], [30, 30], [30, 1], [30, 16], [1, 8], [1, 8], [16, 30], [16, 30], [16, 30], [16, 30], [8, 30], [30, 30], [30, 30], [30, 6], [30, 30], [6, 30], [30, 30], [30, 30], [30, 10], [30, 30], [30, 30], [30, 30], [10, 30], [30, 7], [30, 30], [30, 30], [30, 30], [7, 30], [30, 30], [30, 7], [30, 30], [30, 30], [30, 30], [7, 30], [30, 30], [30, 15], [30, 30], [15, 30], [30, 30], [30, 30], [30, 30], [30, 30], [30, 30], [30, 30], [30, 30], [30, 30], [30, 30], [30, 30], [30, 30], [30, 30], [30, 30], [30, 30], [30, 30], [30, 30], [30, 30], [30, 30], [30, 30], [30, 30], [30, 30], [30, 7], [30, 30], [30, 30], [30, 30], [7, 30], [30, 30], [30, 30], [30, 30], [30, 30], [30, 30], [30, 14], [30, 30], [30, 30], [14, 30], [30, 30], [30, 30], [30, 30], [30, 30], [30, 15], [30, 30], [15, 30], [30, 30], [30, 30], [30, 30], [30, 30], [30, 30], [30, 30], [30, 10], [30, 30], [30, 30], [30, 30], [10, 30], [8, 30], [30, 17], [30, 30], [17, 30], [30, 30], [30, 30], [30, 30], [30, 30], [30, 30], [30, 27], [30, 30], [30, 30], [30, 30], [27, 30], [30, 30], [30, 30], [30, 0], [30, 0], [30, 0], [0, 30], [0, 30], [0, 30], [30, 30], [30, 30], [30, 30], [30, 30], [30, 30], [30, 30], [30, 4], [30, 30], [30, 30], [30, 30], [4, 11], [30, 30], [30, 30], [11, 30], [30, 0], [30, 30], [30, 30], [30, 30], [30, 30], [30, 30], [30, 30], [30, 30], [30, 30], [30, 30], [30, 30], [30, 30], [30, 30], [30, 21], [30, 30], [30, 30], [30, 30], [30, 30], [21, 30], [30, 30], [30, 5], [30, 30], [30, 30], [5, 30], [30, 30], [30, 30], [30, 30], [30, 30], [30, 30], [30, 5], [30, 30], [30, 30], [5, 30], [30, 30], [30, 30], [30, 30], [30, 30], [30, 30], [30, 30], [30, 12], [30, 30], [30, 30], [30, 30], [12, 30], [30, 30], [30, 8], [30, 11], [30, 11], [30, 11], [30, 11], [8, 9], [8, 9], [11, 30], [11, 30], [11, 30], [9, 30], [30, 30], [30, 30], [30, 30], [30, 30], [30, 30], [30, 30], [30, 30], [30, 30], [30, 15], [30, 30], [15, 2], [30, 20], [30, 20], [30, 20], [30, 20], [2, 30], [2, 30], [2, 30], [2, 30], [2, 30], [20, 30], [30, 30], [30, 30], [30, 0], [30, 0], [30, 0], [0, 30], [0, 30], [0, 30], [30, 30], [30, 30], [30, 30], [30, 30], [30, 30], [30, 30], [30, 30], [30, 30], [30, 30], [30, 30], [30, 30], [30, 30], [30, 30], [30, 30], [30, 30], [30, 30], [30, 2], [30, 30], [30, 30], [30, 30], [30, 30], [2, 30], [30, 30], [30, 30], [30, 30], [30, 0], [30, 0], [30, 0], [0, 30], [0, 30], [0, 30], [30, 30], [30, 30], [30, 30], [30, 30], [30, 30], [30, 30], [30, 30], [30, 30], [30, 0], [30, 0], [30, 0], [0, 30], [0, 30], [0, 30], [30, 30], [30, 2], [30, 30], [30, 30], [30, 30], [30, 30], [2, 30], [30, 30], [30, 30], [30, 30], [30, 30], [30, 30], [30, 30], [30, 30], [30, 30], [30, 30], [30, 18], [30, 30], [18, 30], [30, 30], [30, 30], [30, 30], [30, 30], [30, 14], [30, 2], [30, 2], [14, 30], [14, 30], [14, 30], [14, 30], [2, 30], [30, 30], [30, 30], [30, 30], [30, 30], [30, 30], [30, 30], [30, 30], [30, 30], [30, 30], [30, 30], [30, 30], [30, 30], [30, 1], [30, 30], [1, 30], [30, 30], [30, 30], [30, 30], [30, 30], [30, 30], [30, 30], [30, 30], [30, 27], [30, 30], [30, 30], [30, 30], [27, 30], [30, 30], [30, 30], [30, 30], [30, 30], [30, 30], [30, 30], [30, 30], [30, 30], [30, 30], [30, 30], [30, 30], [30, 30], [30, 30], [30, 30], [30, 30], [30, 7], [30, 26], [30, 26], [30, 26], [7, 5], [7, 5], [7, 5], [7, 5], [26, 30], [26, 30], [5, 30], [30, 30], [30, 30], [30, 30], [30, 30], [30, 30], [30, 27], [30, 30], [30, 30], [30, 30], [27, 30], [30, 30], [30, 30], [30, 30], [30, 30], [30, 30], [30, 30], [30, 7], [30, 30], [30, 30], [30, 30], [7, 30], [30, 30], [30, 30], [30, 30], [30, 30], [30, 30], [30, 17], [30, 30], [17, 30], [30, 30], [30, 30], [30, 4], [30, 30], [30, 30], [30, 30], [4, 30], [30, 23], [30, 30], [30, 30], [30, 30], [30, 30], [23, 30], [30, 30], [30, 30], [30, 30], [30, 30], [30, 30], [30, 30], [30, 20], [30, 30], [30, 30], [30, 30], [30, 30], [30, 30], [20, 30], [30, 30], [30, 30], [30, 30], [30, 30], [30, 30], [30, 30], [30, 30], [30, 30], [30, 30], [30, 30], [30, 30], [30, 30], [30, 5], [30, 30], [30, 30], [5, 30], [30, 30], [30, 30], [30, 30], [30, 30], [30, 30], [30, 30], [30, 30], [30, 0], [30, 0], [30, 0], [0, 9], [0, 9], [0, 30], [0, 30], [0, 30], [9, 30], [30, 30], [30, 30], [30, 30], [30, 30], [30, 30], [30, 30], [30, 30], [30, 30], [30, 30], [30, 4], [30, 19], [30, 19], [30, 19], [19, 30], [30, 30], [30, 4], [30, 0], [30, 0], [30, 0], [4, 0], [4, 0], [0, 30], [0, 30], [0, 30], [30, 30], [30, 9], [30, 30], [30, 30], [30, 30], [9, 30], [30, 30], [30, 30], [30, 30], [30, 30], [30, 30], [30, 30], [30, 30], [30, 30], [30, 30], [30, 30], [30, 30], [30, 30], [30, 0], [30, 0], [30, 0], [0, 6], [0, 6], [0, 30], [6, 30], [30, 30], [30, 30], [30, 30], [30, 30], [30, 30], [30, 30], [30, 30], [30, 30], [30, 30], [30, 0], [30, 0], [30, 0], [0, 19], [0, 19], [19, 30], [30, 30], [30, 30], [30, 30], [30, 30], [30, 30], [30, 19], [19, 18], [30, 30], [18, 30], [30, 30], [30, 30], [30, 30], [30, 16], [30, 30], [30, 30], [16, 30], [30, 30], [30, 30], [30, 30], [30, 30], [30, 30], [30, 30], [30, 30], [30, 30], [30, 30], [30, 30], [30, 30], [30, 30], [30, 9], [30, 9], [30, 9], [30, 9], [9, 30], [9, 30], [9, 30], [9, 0], [30, 0], [30, 0], [0, 30], [0, 30], [0, 30], [30, 30], [30, 30], [30, 9], [30, 2], [30, 2], [30, 2], [9, 30], [9, 30], [9, 30], [9, 30], [2, 30], [30, 30], [30, 30], [30, 30], [30, 30], [30, 30], [30, 0], [30, 0], [30, 0], [0, 30], [0, 30], [0, 20], [30, 30], [30, 30], [30, 30], [30, 30], [30, 30], [20, 30], [30, 30], [30, 13], [30, 30], [30, 30], [13, 30], [30, 30], [30, 30], [30, 30], [30, 30], [30, 30], [30, 30], [30, 1], [30, 0], [1, 0], [1, 0], [0, 30], [0, 30], [0, 30], [30, 30], [30, 30], [30, 30], [30, 30], [30, 30], [30, 30], [30, 30], [30, 30], [30, 30], [30, 30], [30, 30], [30, 30], [30, 30], [30, 30], [30, 0], [30, 0], [30, 0], [0, 30], [0, 30], [0, 2], [30, 30], [30, 30], [30, 30], [30, 30], [2, 30], [30, 30], [30, 30], [30, 19], [19, 2], [19, 2], [19, 2], [28, 30], [28, 30], [28, 30], [28, 30], [2, 16], [30, 1], [30, 1], [16, 30], [1, 30], [30, 30], [30, 30], [30, 30], [30, 30], [30, 0], [30, 0], [30, 0], [0, 30], [0, 30], [0, 30], [30, 30], [30, 30], [30, 30], [30, 30], [30, 30], [30, 24], [30, 30], [30, 30], [30, 30], [24, 30], [30, 26], [30, 30], [30, 30], [30, 30], [30, 30], [30, 30], [30, 30], [30, 30], [30, 30], [30, 13], [30, 30], [30, 30], [13, 30], [30, 30], [30, 30], [30, 1], [30, 11], [1, 30], [1, 30], [11, 30], [30, 30], [30, 30], [30, 30], [30, 30], [30, 30], [30, 30], [30, 8], [30, 30], [30, 30], [30, 30], [30, 30], [8, 30], [30, 30], [30, 30], [30, 30], [30, 30], [30, 30], [30, 30], [30, 30], [30, 30], [30, 30], [30, 30], [30, 30], [30, 30], [30, 30], [30, 30], [30, 7], [30, 30], [30, 30], [30, 30], [7, 30], [30, 30], [30, 30], [30, 30], [30, 30], [30, 30], [30, 1], [30, 30], [1, 24], [30, 30], [30, 30], [30, 30], [24, 30], [30, 30], [30, 30], [30, 30], [30, 30], [30, 2], [30, 30], [30, 30], [30, 30], [30, 30], [2, 30], [30, 30], [30, 30], [30, 30], [30, 30], [30, 12], [30, 2], [30, 2], [30, 2], [12, 30], [12, 30], [12, 30], [12, 30], [2, 30], [30, 30], [30, 30], [30, 30], [30, 12], [30, 30], [30, 30], [30, 30], [12, 28], [30, 30], [30, 30], [30, 30], [28, 30], [30, 30], [30, 30], [30, 0], [30, 0], [30, 0], [0, 30], [0, 30], [0, 30], [30, 2], [30, 30], [30, 30], [30, 30], [30, 30], [2, 10], [30, 30], [30, 30], [30, 30], [10, 30], [30, 30], [30, 30], [30, 30], [30, 30], [30, 30], [30, 6], [30, 2], [6, 30], [6, 30], [6, 30], [6, 30], [2, 30], [30, 30], [30, 30], [30, 30], [30, 30], [30, 30], [30, 18], [30, 30], [18, 30], [30, 30], [30, 30], [30, 30], [30, 30], [30, 24], [30, 11], [30, 11], [30, 11], [24, 11], [24, 11], [11, 29], [11, 29], [11, 30], [11, 30], [29, 30], [30, 30], [30, 14], [30, 30], [30, 30], [14, 30], [30, 30], [30, 30], [30, 30], [30, 30], [30, 30], [30, 30], [30, 30], [30, 30], [30, 30], [30, 30], [30, 0], [30, 0], [30, 0], [0, 2], [0, 2], [0, 18], [0, 18], [0, 18], [0, 18], [2, 26], [18, 30], [18, 30], [18, 30], [18, 30], [30, 30], [30, 30], [30, 30], [30, 15], [30, 30], [15, 30], [30, 30], [30, 30], [30, 30], [30, 1], [30, 30], [1, 30], [30, 30], [30, 8], [30, 30], [30, 30], [30, 30], [30, 30], [8, 30], [30, 30], [30, 30], [30, 30], [30, 30], [30, 30], [30, 30], [30, 30], [30, 30], [30, 30], [30, 30], [30, 30], [30, 30], [30, 30], [30, 30], [30, 30], [30, 30], [30, 24], [30, 30], [30, 30], [30, 30], [24, 30], [30, 1], [30, 30], [1, 30], [30, 30], [30, 30], [30, 30], [30, 7], [30, 30], [30, 30], [30, 30], [7, 30], [30, 30], [30, 14], [30, 10], [30, 10], [14, 30], [14, 30], [14, 30], [10, 30], [30, 30], [30, 30], [30, 30], [30, 30], [30, 30], [30, 30], [30, 18], [30, 30], [18, 30], [30, 30], [30, 30], [30, 30], [30, 30], [30, 30], [30, 30], [30, 17], [30, 30], [17, 8], [30, 30], [30, 30], [30, 30], [30, 30], [8, 30], [30, 30], [30, 10], [30, 17], [30, 17], [30, 17], [10, 18], [17, 30], [18, 30], [30, 30], [30, 30], [30, 30], [30, 30], [30, 30], [30, 30], [30, 30], [30, 30], [30, 30], [30, 30], [30, 30], [30, 30], [30, 30], [30, 30], [30, 2], [30, 30], [30, 30], [30, 30], [30, 30], [2, 30], [30, 30], [30, 30], [30, 30], [30, 30], [30, 30], [30, 28], [30, 30], [30, 30], [30, 30], [28, 30], [30, 2], [30, 17], [30, 17], [30, 17], [30, 17], [2, 30], [17, 30], [30, 30], [30, 30], [30, 16], [30, 30], [30, 30], [16, 16], [30, 30], [30, 30], [16, 30], [30, 2], [30, 30], [30, 30], [30, 30], [30, 30], [2, 30], [30, 30], [30, 8], [30, 0], [30, 0], [30, 0], [30, 0], [8, 0], [8, 0], [0, 30], [0, 30], [0, 30], [30, 0], [30, 0], [30, 0], [0, 30], [0, 30], [30, 30], [30, 30], [29, 30], [30, 2], [30, 30], [30, 30], [30, 30], [30, 30], [2, 30], [30, 30], [30, 30], [30, 30], [30, 30], [30, 30], [30, 30], [30, 30], [30, 30], [30, 30], [30, 30], [30, 30], [30, 30], [30, 30], [30, 30], [30, 30], [30, 16], [30, 30], [30, 30], [16, 30], [30, 14], [30, 30], [30, 30], [14, 30], [30, 30], [30, 30], [30, 30], [30, 5], [30, 22], [30, 22], [5, 30], [5, 30], [5, 30], [5, 30], [5, 30], [22, 30], [30, 30], [30, 0], [30, 0], [30, 0], [0, 30], [0, 30], [0, 30], [30, 30], [30, 22], [30, 30], [30, 30], [30, 30], [30, 30], [30, 30], [22, 30], [30, 4], [30, 11], [30, 11], [30, 11], [4, 30], [4, 30], [11, 1], [30, 19], [19, 30], [19, 30], [5, 30], [30, 13], [30, 30], [30, 30], [13, 21], [30, 30], [30, 30], [30, 30], [30, 30], [21, 30], [30, 30], [30, 4], [30, 30], [30, 30], [30, 30], [4, 18], [30, 30], [18, 30], [30, 30], [30, 30], [30, 30], [30, 30], [30, 30], [30, 30], [30, 30], [30, 30], [30, 30], [30, 1], [30, 6], [1, 2], [6, 30], [6, 30], [6, 30], [6, 30], [2, 30], [30, 30], [30, 30], [30, 2], [30, 30], [30, 30], [30, 30], [30, 30], [2, 30], [30, 30], [30, 30], [30, 30], [30, 30], [30, 30], [30, 30], [30, 30], [30, 30], [30, 30], [30, 30], [30, 6], [30, 30], [6, 30], [30, 15], [30, 30], [15, 30], [30, 30], [30, 17], [30, 0], [17, 0], [17, 0], [0, 30], [0, 30], [0, 30], [30, 30], [30, 30], [30, 22], [30, 30], [30, 30], [30, 30], [30, 30], [30, 30], [22, 30], [30, 30], [30, 7], [30, 3], [30, 3], [30, 3], [7, 30], [7, 30], [7, 30], [3, 30], [30, 30], [30, 1], [30, 30], [1, 30], [30, 30], [30, 23], [30, 12], [30, 12], [30, 12], [30, 12], [23, 1], [23, 1], [23, 1], [12, 30], [1, 30], [30, 3], [30, 30], [30, 30], [30, 30], [3, 20], [30, 30], [30, 30], [30, 30], [30, 30], [30, 30], [20, 30], [30, 30], [30, 30], [30, 30], [30, 30], [30, 30], [30, 30], [30, 30], [30, 30], [30, 0], [30, 0], [30, 0], [0, 3], [0, 3], [0, 30], [0, 30], [0, 30], [3, 4], [30, 30], [30, 30], [30, 30], [4, 30], [30, 30], [30, 30], [30, 30], [30, 14], [30, 30], [30, 30], [14, 1], [30, 30], [1, 30], [30, 30], [30, 30], [30, 30], [30, 30], [30, 30], [30, 30], [30, 30], [30, 30], [30, 30], [30, 30], [30, 3], [30, 30], [30, 30], [30, 30], [3, 30], [30, 1], [30, 5], [1, 30], [1, 30], [5, 0], [30, 0], [30, 0], [0, 3], [0, 3], [0, 14], [0, 14], [0, 14], [3, 30], [3, 30], [14, 30], [30, 8], [30, 30], [30, 30], [30, 30], [30, 30], [8, 30], [30, 30], [30, 3], [30, 17], [30, 17], [30, 17], [3, 30], [17, 30], [30, 30], [30, 15], [30, 30], [15, 30], [30, 30], [30, 30], [30, 3], [30, 30], [30, 30], [30, 30], [3, 30], [30, 22], [30, 30], [30, 30], [30, 30], [30, 30], [30, 30], [22, 30], [30, 30], [30, 3], [30, 30], [30, 30], [30, 30], [3, 30], [30, 8], [30, 28], [30, 28], [30, 28], [30, 28], [8, 30], [8, 30], [8, 30], [28, 30], [30, 30], [30, 30], [30, 30], [30, 30], [30, 30], [30, 30], [30, 0], [30, 0], [30, 0], [0, 30], [0, 30], [0, 30], [30, 27], [30, 3], [30, 3], [30, 3], [27, 30], [27, 30], [27, 30], [3, 30], [30, 30], [30, 21], [30, 22], [30, 22], [30, 22], [30, 22], [21, 21], [21, 21], [21, 21], [21, 21], [21, 21], [22, 3], [22, 3], [22, 3], [22, 3], [21, 13], [21, 13], [21, 13], [3, 30], [3, 30], [13, 30], [30, 30], [30, 6], [30, 1], [6, 21], [1, 13], [1, 13], [1, 13], [1, 13], [21, 30], [21, 30], [13, 30], [30, 13], [30, 1], [30, 1], [13, 19], [19, 1], [30, 30], [1, 30], [30, 30], [30, 30], [30, 30], [30, 30], [30, 30], [30, 30], [30, 13], [30, 6], [30, 6], [13, 3], [6, 30], [6, 30], [6, 30], [3, 30], [30, 30], [30, 30], [30, 23], [30, 13], [30, 13], [30, 13], [30, 13], [23, 2], [23, 2], [13, 30], [13, 30], [13, 30], [13, 30], [2, 30], [30, 30], [30, 1], [30, 3], [1, 30], [1, 30], [1, 30], [3, 30], [30, 0], [30, 0], [30, 0], [0, 30], [0, 30], [0, 30], [30, 30], [30, 23], [30, 30], [30, 30], [30, 30], [30, 30], [23, 12], [30, 30], [30, 30], [30, 30], [12, 1], [30, 30], [1, 12], [30, 1], [30, 1], [30, 1], [12, 30], [1, 30], [30, 30], [30, 25], [30, 22], [30, 22], [25, 30], [25, 30], [25, 30], [25, 30], [25, 30], [22, 30], [30, 30], [30, 30], [30, 30], [30, 30], [30, 30], [30, 30], [30, 22], [30, 30], [30, 30], [30, 30], [30, 30], [30, 30], [22, 30], [30, 30], [30, 30], [30, 30], [30, 3], [30, 30], [30, 30], [30, 30], [3, 30], [30, 30], [30, 30], [30, 30], [30, 30], [30, 30], [30, 5], [30, 1], [30, 1], [5, 30], [1, 10], [30, 0], [30, 0], [30, 0], [10, 0], [10, 0], [0, 30], [0, 30], [0, 29], [30, 1], [30, 1], [29, 30], [1, 30], [30, 30], [30, 30], [30, 30], [30, 6], [30, 30], [6, 30], [30, 30], [30, 30], [30, 20], [30, 29], [30, 29], [30, 29], [30, 29], [30, 29], [20, 30], [20, 30], [29, 30]]\n",
      "[[30, 4], [30, 4], [30, 4], [1, 30], [1, 30], [1, 30], [30, 30], [30, 30], [30, 30], [30, 30], [30, 30], [30, 30], [30, 30], [30, 30], [30, 30], [30, 30], [30, 30], [30, 30], [30, 30], [30, 30], [30, 30], [30, 30], [30, 30], [30, 30], [30, 30], [30, 30], [30, 30], [30, 30], [30, 30], [30, 30], [30, 30], [30, 30], [30, 21], [30, 21], [30, 21], [1, 30], [1, 30], [1, 30], [30, 26], [30, 26], [30, 26], [30, 26], [11, 5], [11, 5], [11, 5], [26, 30], [26, 30], [26, 30], [26, 30], [30, 30], [30, 30], [30, 30], [30, 30], [30, 30], [30, 30], [30, 30], [30, 30], [30, 30], [30, 30], [30, 30], [30, 30], [30, 30], [30, 30], [30, 30], [30, 30], [30, 30], [30, 30], [30, 30], [30, 30], [30, 30], [30, 30], [30, 30], [30, 30], [30, 30], [30, 30], [30, 30], [30, 30], [30, 30], [30, 30], [30, 0], [30, 0], [0, 6], [0, 6], [0, 30], [0, 30], [0, 30], [0, 30], [0, 30], [30, 30], [30, 30], [30, 30], [30, 30], [30, 30], [30, 30], [2, 30], [2, 30], [2, 30], [30, 30], [30, 30], [30, 30], [30, 30], [30, 30], [30, 30], [30, 30], [30, 30], [30, 30], [30, 30], [30, 30], [30, 30], [30, 30], [30, 30], [30, 30], [30, 30], [30, 30], [30, 30], [30, 30], [30, 30], [30, 30], [30, 30], [30, 30], [30, 30], [30, 30], [30, 30], [30, 30], [30, 30], [30, 30], [30, 30], [30, 30], [30, 30], [30, 30], [30, 30], [30, 30], [30, 30], [30, 30], [30, 30], [30, 30], [30, 30], [30, 4], [30, 4], [30, 4], [4, 30], [4, 30], [4, 30], [30, 0], [30, 0], [0, 30], [0, 30], [30, 30], [30, 30], [30, 30], [30, 30], [30, 30], [30, 30], [30, 30], [30, 4], [30, 4], [30, 4], [30, 4], [16, 30], [16, 30], [16, 30], [30, 30], [30, 30], [30, 30], [30, 30], [30, 0], [30, 0], [0, 30], [0, 30], [30, 9], [2, 30], [2, 30], [2, 30], [30, 2], [30, 2], [30, 2], [30, 2], [30, 2], [25, 30], [30, 30], [30, 30], [30, 30], [30, 30], [30, 30], [30, 30], [30, 30], [30, 21], [30, 21], [30, 21], [30, 21], [11, 30], [11, 30], [11, 30], [30, 30], [30, 30], [30, 30], [30, 30], [30, 30], [30, 30], [30, 30], [30, 30], [30, 30], [30, 30], [30, 30], [30, 30], [30, 30], [30, 30], [30, 30], [30, 30], [30, 30], [30, 30], [30, 30], [30, 30], [30, 30], [30, 30], [30, 30], [30, 30], [30, 30], [30, 30], [30, 30], [30, 30], [30, 5], [30, 5], [30, 5], [26, 30], [26, 30], [26, 30], [26, 30], [30, 30], [30, 30], [30, 30], [30, 30], [30, 30], [30, 30], [30, 30], [30, 30], [30, 30], [30, 30], [30, 30], [30, 16], [30, 16], [30, 16], [30, 16], [30, 16], [17, 1], [17, 1], [17, 1], [17, 1], [16, 30], [16, 30], [16, 30], [30, 30], [30, 30], [30, 30], [30, 30], [30, 30], [30, 30], [30, 30], [30, 30], [30, 30], [30, 30], [30, 30], [30, 30], [30, 30], [30, 30], [30, 30], [30, 30], [30, 30], [30, 16], [30, 16], [30, 16], [1, 8], [1, 8], [1, 8], [1, 8], [16, 30], [16, 30], [30, 30], [30, 30], [30, 30], [30, 30], [30, 30], [30, 30], [30, 30], [30, 30], [30, 30], [30, 30], [30, 30], [30, 30], [30, 30], [30, 30], [30, 30], [30, 30], [30, 30], [30, 30], [30, 30], [30, 30], [30, 30], [30, 30], [30, 30], [30, 30], [30, 30], [30, 30], [30, 30], [30, 30], [30, 30], [30, 30], [30, 30], [30, 30], [30, 30], [30, 30], [30, 30], [30, 30], [30, 30], [30, 30], [30, 30], [30, 30], [30, 30], [30, 30], [30, 30], [30, 0], [30, 0], [0, 30], [0, 30], [30, 30], [30, 30], [30, 30], [30, 30], [30, 30], [30, 30], [30, 30], [30, 30], [30, 30], [30, 30], [30, 30], [30, 30], [30, 30], [30, 30], [30, 30], [30, 30], [30, 30], [30, 30], [30, 30], [30, 30], [30, 30], [30, 11], [30, 11], [8, 9], [8, 9], [8, 9], [8, 9], [11, 30], [11, 30], [11, 30], [30, 30], [30, 30], [30, 30], [30, 30], [30, 30], [30, 20], [2, 30], [2, 30], [30, 0], [30, 0], [0, 30], [0, 30], [30, 30], [30, 0], [30, 0], [0, 30], [0, 30], [30, 0], [30, 0], [0, 30], [0, 30], [30, 30], [30, 30], [30, 30], [30, 30], [30, 30], [30, 30], [30, 2], [30, 2], [30, 2], [30, 2], [14, 30], [30, 30], [30, 30], [30, 30], [30, 30], [30, 30], [30, 30], [30, 30], [30, 26], [30, 26], [30, 26], [7, 5], [7, 5], [7, 5], [26, 30], [26, 30], [26, 30], [26, 30], [30, 30], [30, 30], [30, 30], [30, 30], [30, 30], [30, 30], [30, 30], [30, 30], [30, 30], [30, 30], [30, 30], [30, 30], [30, 30], [30, 30], [30, 30], [30, 30], [30, 30], [30, 30], [30, 30], [30, 30], [30, 30], [30, 30], [30, 30], [30, 30], [30, 0], [30, 0], [0, 9], [0, 9], [0, 30], [0, 30], [0, 30], [30, 19], [30, 19], [30, 19], [4, 30], [4, 30], [4, 30], [4, 30], [4, 30], [4, 30], [30, 0], [30, 0], [30, 0], [4, 0], [4, 0], [0, 30], [0, 30], [30, 30], [30, 30], [30, 30], [30, 0], [30, 0], [0, 6], [0, 6], [0, 30], [0, 30], [0, 30], [0, 30], [0, 30], [30, 0], [30, 0], [0, 19], [0, 19], [0, 30], [0, 30], [0, 30], [0, 30], [0, 30], [0, 30], [30, 30], [30, 30], [30, 30], [30, 30], [30, 30], [30, 30], [30, 30], [30, 30], [30, 30], [30, 30], [30, 30], [30, 30], [30, 30], [30, 30], [30, 30], [30, 9], [30, 9], [30, 9], [9, 30], [9, 30], [9, 30], [30, 0], [30, 0], [0, 30], [0, 30], [30, 2], [30, 2], [30, 2], [9, 30], [30, 0], [30, 0], [0, 30], [0, 30], [30, 30], [30, 30], [30, 30], [30, 30], [30, 30], [30, 30], [30, 0], [30, 0], [30, 0], [1, 0], [1, 0], [0, 30], [0, 30], [30, 0], [30, 0], [0, 30], [0, 30], [30, 30], [30, 28], [30, 28], [30, 28], [30, 28], [30, 28], [30, 28], [19, 2], [19, 2], [19, 2], [19, 2], [28, 30], [30, 1], [30, 1], [30, 1], [30, 1], [16, 30], [16, 30], [16, 30], [30, 0], [30, 0], [0, 30], [0, 30], [30, 30], [30, 30], [30, 30], [30, 30], [30, 30], [30, 30], [30, 30], [30, 30], [30, 30], [30, 30], [30, 30], [30, 11], [30, 11], [30, 11], [1, 30], [1, 30], [1, 30], [1, 30], [30, 30], [30, 30], [30, 30], [30, 30], [30, 30], [30, 30], [30, 30], [30, 30], [30, 30], [30, 30], [30, 30], [30, 30], [30, 30], [30, 2], [30, 2], [30, 2], [12, 30], [30, 30], [30, 30], [30, 30], [30, 30], [30, 30], [30, 30], [30, 30], [30, 0], [30, 0], [0, 30], [0, 30], [30, 30], [30, 30], [30, 30], [30, 30], [30, 2], [30, 2], [30, 2], [30, 2], [30, 2], [6, 30], [30, 30], [30, 30], [30, 30], [30, 30], [30, 30], [30, 11], [30, 11], [30, 11], [30, 11], [24, 11], [24, 11], [24, 11], [24, 11], [11, 29], [11, 29], [11, 29], [11, 29], [11, 30], [11, 30], [11, 30], [11, 30], [11, 30], [30, 30], [30, 30], [30, 30], [30, 30], [30, 0], [30, 0], [0, 2], [0, 2], [0, 18], [2, 26], [2, 26], [2, 26], [2, 26], [2, 26], [18, 30], [18, 30], [18, 30], [30, 30], [30, 30], [30, 30], [30, 30], [30, 30], [30, 30], [30, 30], [30, 30], [30, 30], [30, 30], [30, 30], [30, 30], [30, 30], [30, 30], [30, 30], [30, 30], [30, 30], [30, 30], [30, 30], [30, 30], [30, 10], [30, 10], [30, 10], [30, 10], [14, 30], [14, 30], [14, 30], [30, 30], [30, 30], [30, 30], [30, 30], [30, 30], [30, 30], [30, 30], [30, 30], [30, 30], [30, 30], [30, 30], [30, 30], [30, 17], [30, 17], [30, 17], [10, 18], [10, 18], [10, 18], [10, 18], [10, 18], [17, 30], [17, 30], [17, 30], [17, 30], [17, 30], [30, 30], [30, 30], [30, 30], [30, 30], [30, 30], [30, 17], [2, 30], [2, 30], [2, 30], [2, 30], [2, 30], [30, 30], [30, 30], [30, 30], [30, 30], [30, 30], [30, 30], [30, 30], [30, 30], [30, 30], [30, 0], [30, 0], [8, 0], [8, 0], [0, 30], [0, 30], [30, 0], [30, 0], [0, 30], [0, 30], [30, 30], [30, 30], [30, 30], [30, 30], [30, 30], [30, 30], [30, 30], [30, 30], [30, 30], [30, 30], [30, 30], [30, 30], [30, 30], [30, 30], [30, 22], [30, 22], [30, 22], [30, 22], [5, 30], [5, 30], [30, 0], [30, 0], [0, 30], [0, 30], [30, 30], [30, 30], [30, 11], [30, 11], [30, 11], [4, 30], [4, 30], [4, 30], [4, 30], [30, 19], [30, 19], [30, 19], [1, 5], [1, 5], [1, 5], [1, 5], [1, 5], [1, 5], [19, 30], [19, 30], [19, 30], [19, 30], [30, 30], [30, 30], [30, 30], [30, 30], [30, 30], [30, 30], [30, 30], [30, 30], [30, 30], [30, 30], [30, 30], [30, 30], [30, 30], [30, 30], [30, 30], [30, 6], [30, 6], [30, 6], [1, 2], [1, 2], [1, 2], [1, 2], [1, 2], [6, 30], [30, 30], [30, 30], [30, 30], [30, 30], [30, 30], [30, 30], [30, 30], [30, 30], [30, 30], [30, 30], [30, 30], [30, 0], [30, 0], [30, 0], [30, 0], [30, 0], [17, 0], [17, 0], [0, 30], [0, 30], [30, 30], [30, 30], [30, 3], [30, 3], [30, 3], [7, 30], [7, 30], [7, 30], [30, 30], [30, 30], [30, 30], [30, 12], [30, 12], [30, 12], [23, 1], [23, 1], [23, 1], [12, 30], [12, 30], [12, 30], [30, 30], [30, 30], [30, 30], [30, 30], [30, 30], [30, 0], [30, 0], [0, 3], [0, 3], [0, 30], [0, 30], [0, 30], [30, 30], [30, 30], [30, 30], [30, 30], [30, 30], [30, 30], [30, 30], [30, 30], [30, 30], [30, 30], [30, 30], [30, 30], [30, 30], [30, 5], [30, 5], [30, 5], [1, 30], [1, 30], [1, 30], [1, 30], [30, 0], [30, 0], [0, 3], [0, 3], [0, 14], [0, 14], [0, 14], [3, 30], [3, 30], [3, 30], [3, 30], [30, 30], [30, 30], [30, 17], [30, 17], [30, 17], [3, 30], [3, 30], [3, 30], [3, 30], [3, 30], [30, 30], [30, 30], [30, 30], [30, 30], [30, 30], [30, 30], [30, 30], [30, 30], [30, 30], [30, 30], [30, 30], [30, 30], [30, 30], [30, 28], [30, 28], [8, 30], [8, 30], [8, 30], [8, 30], [30, 0], [30, 0], [0, 30], [0, 30], [30, 3], [30, 3], [30, 3], [30, 3], [27, 30], [27, 30], [27, 30], [30, 22], [30, 22], [30, 22], [21, 21], [21, 21], [22, 3], [22, 3], [22, 3], [21, 13], [21, 13], [21, 13], [3, 30], [3, 30], [3, 30], [3, 30], [30, 1], [30, 1], [30, 1], [30, 1], [30, 1], [6, 21], [6, 21], [6, 21], [1, 13], [1, 13], [1, 13], [21, 30], [21, 30], [21, 30], [21, 30], [30, 1], [30, 1], [30, 1], [30, 1], [13, 19], [13, 19], [13, 19], [1, 30], [1, 30], [1, 30], [1, 30], [1, 30], [1, 30], [30, 30], [30, 30], [30, 30], [30, 6], [30, 6], [30, 6], [30, 6], [13, 3], [13, 3], [13, 3], [13, 3], [13, 3], [6, 30], [6, 30], [6, 30], [30, 13], [30, 13], [30, 13], [23, 2], [23, 2], [23, 2], [23, 2], [13, 30], [30, 3], [30, 3], [30, 3], [1, 30], [1, 30], [1, 30], [30, 0], [30, 0], [0, 30], [0, 30], [30, 30], [30, 30], [30, 30], [30, 30], [30, 30], [30, 30], [30, 30], [30, 30], [30, 30], [30, 1], [30, 1], [30, 1], [12, 30], [12, 30], [12, 30], [30, 22], [30, 22], [30, 22], [30, 22], [30, 22], [25, 30], [25, 30], [30, 30], [30, 30], [30, 30], [30, 30], [30, 30], [30, 1], [30, 1], [30, 1], [30, 1], [5, 30], [5, 30], [5, 30], [30, 0], [30, 0], [30, 0], [10, 0], [10, 0], [0, 30], [0, 30], [30, 1], [30, 1], [30, 1], [30, 1], [30, 1], [29, 30], [29, 30], [29, 30], [30, 30], [30, 30], [30, 30], [30, 30], [30, 30], [30, 29], [30, 29], [20, 30], [20, 30], [20, 30], [20, 30], [20, 30]]\n",
      "[60, 53, 59, 55, 51, 60, 60, 60, 60, 60, 60, 60, 60, 60, 60, 59, 55, 51, 45, 60, 60, 59, 55, 33, 60, 60, 60, 60, 60, 60, 60, 53, 60, 60, 60, 60, 60, 60, 60, 60, 60, 60, 60, 60, 60, 60, 60, 60, 60, 60, 60, 60, 60, 60, 60, 60, 60, 60, 60, 60, 60, 60, 57, 54, 40, 60, 59, 55, 60, 60, 60, 60, 60, 59, 58, 56, 46, 35, 60, 60, 60, 60, 60, 60, 60, 53, 59, 58, 56, 46, 60, 60, 60, 60, 60, 57, 54, 59, 55, 42, 32, 59, 44, 60, 60, 60, 60, 60, 60, 60, 60, 60, 60, 60, 60, 60, 60, 60, 60, 60, 60, 60, 60, 60, 60, 59, 55, 42, 60, 60, 60, 60, 53, 60, 60, 60, 60, 60, 60, 60, 59, 50, 31, 60, 60, 60, 60, 60, 60, 60, 59, 50, 60, 59, 60, 53, 60, 59, 55, 42, 32, 60, 60, 60, 60, 60, 60, 53, 60, 60, 60, 60, 60, 60, 59, 58, 59, 58, 59, 60, 60, 60, 60, 53, 60, 60, 60, 60, 60, 60, 60, 60, 60, 60, 60, 59, 55, 51, 60, 60, 60, 60, 60, 60, 60, 60, 60, 60, 57, 54, 49, 60, 60, 60, 60, 59, 55, 51, 45, 60, 60, 60, 60, 60, 59, 58, 56, 52, 60, 57, 54, 49, 60, 60, 59, 44, 60, 60, 60, 60, 60, 60, 60, 60, 60, 60, 60, 60, 60, 57, 60, 60, 60, 60, 60, 60, 57, 60, 60, 60, 60, 60, 59, 50, 43, 60, 60, 60, 53, 60, 60, 60, 60, 60, 60, 59, 50, 43, 60, 60, 60, 57, 54, 40, 60, 60, 60, 60, 60, 60, 59, 50, 43, 60, 59, 50, 31, 60, 60, 60, 60, 59, 55, 51, 59, 55, 51, 60, 60, 60, 60, 59, 58, 59, 58, 60, 60, 60, 60, 60, 59, 60, 60, 60, 60, 60, 60, 60, 60, 59, 58, 56, 46, 35, 60, 60, 60, 47, 37, 59, 55, 51, 60, 59, 58, 56, 52, 60, 59, 50, 43, 60, 60, 60, 60, 60, 60, 60, 60, 59, 58, 59, 58, 60, 60, 60, 60, 60, 60, 59, 58, 56, 52, 57, 54, 49, 60, 60, 60, 60, 59, 55, 59, 58, 56, 52, 60, 60, 60, 57, 48, 39, 60, 59, 44, 60, 60, 60, 60, 60, 60, 57, 54, 59, 58, 56, 46, 60, 60, 60, 60, 60, 60, 60, 60, 60, 60, 60, 59, 58, 56, 52, 60, 60, 60, 57, 54, 40, 60, 60, 60, 59, 55, 60, 60, 60, 59, 60, 60, 57, 54, 49, 41, 60, 60, 60, 60, 60, 60, 60, 60, 60, 60, 60, 60, 60, 60, 60, 60, 60, 57, 54, 40, 60, 59, 55, 60, 60, 57, 48, 60, 60, 59, 55, 42, 32, 59, 44, 60, 59, 58, 56, 52, 60, 60, 59, 58, 56, 52, 60, 60, 60, 60, 60, 60, 60, 60, 60, 60, 59, 55, 33, 60, 59, 55, 60, 60, 47, 47, 37, 53, 60, 60, 60, 60, 60, 60, 60, 60, 60, 60, 60, 60, 60, 60, 60, 60, 60, 60, 60, 60, 60, 60, 57, 38, 60, 60, 60, 60, 60, 60, 60, 60, 60, 60, 60, 60, 60, 60, 57, 54, 60, 60, 60, 60, 60, 60, 60, 60, 60, 60, 60, 60, 60, 60, 60, 60, 60, 60, 60, 60, 60, 59, 55, 42, 60, 60, 60, 60, 60, 59, 50, 60, 60, 60, 60, 60, 60, 60, 60, 60, 60, 60, 60, 60, 60, 60, 60, 60, 60, 60, 60, 60, 60, 60, 60, 60, 60, 60, 60, 60, 60, 60, 60, 60, 53, 47, 37, 57, 54, 49, 41, 60, 60, 60, 60, 59, 60, 60, 60, 60, 57, 54, 40, 60, 60, 59, 50, 43, 60, 60, 60, 59, 50, 43, 60, 60, 60, 57, 60, 60, 60, 60, 60, 60, 60, 60, 60, 60, 60, 60, 60, 60, 60, 60, 60, 60, 60, 60, 60, 60, 60, 59, 50, 43, 60, 60, 60, 60, 60, 60, 60, 57, 38, 60, 60, 60, 60, 60, 60, 57, 60, 60, 60, 60, 60, 60, 60, 60, 57, 54, 40, 60, 60, 60, 47, 60, 60, 60, 60, 60, 60, 60, 59, 55, 42, 60, 60, 60, 60, 59, 58, 59, 58, 60, 60, 60, 60, 60, 60, 60, 60, 59, 55, 51, 60, 57, 54, 60, 60, 60, 60, 60, 60, 60, 60, 60, 60, 60, 60, 60, 60, 60, 59, 58, 56, 46, 60, 60, 60, 59, 44, 60, 60, 60, 60, 60, 60, 60, 59, 44, 60, 60, 60, 60, 60, 60, 60, 60, 57, 48, 39, 60, 60, 60, 57, 54, 49, 41, 57, 54, 57, 54, 49, 60, 60, 60, 60, 60, 60, 60, 60, 60, 60, 57, 60, 59, 58, 56, 52, 59, 58, 56, 46, 35, 60, 60, 60, 60, 59, 58, 59, 58, 60, 60, 60, 60, 60, 60, 60, 60, 60, 60, 60, 60, 60, 60, 60, 60, 60, 60, 59, 58, 56, 52, 60, 60, 60, 60, 60, 59, 58, 59, 58, 60, 60, 60, 60, 60, 60, 60, 60, 60, 60, 59, 58, 59, 58, 60, 60, 60, 59, 58, 56, 52, 60, 60, 60, 60, 60, 60, 60, 60, 60, 60, 60, 36, 60, 60, 60, 60, 60, 60, 57, 38, 59, 58, 56, 52, 60, 60, 60, 60, 60, 60, 60, 60, 60, 60, 60, 60, 60, 60, 53, 60, 60, 60, 60, 60, 60, 60, 60, 60, 59, 55, 42, 60, 60, 60, 60, 60, 60, 60, 60, 60, 60, 60, 60, 60, 60, 60, 60, 60, 59, 50, 43, 59, 55, 42, 32, 59, 44, 60, 60, 60, 60, 60, 60, 60, 59, 55, 42, 60, 60, 60, 60, 60, 60, 60, 60, 59, 50, 43, 60, 60, 60, 60, 60, 60, 60, 47, 60, 60, 60, 60, 59, 55, 51, 60, 60, 59, 55, 51, 45, 60, 60, 60, 60, 60, 60, 60, 60, 59, 58, 56, 46, 35, 60, 60, 60, 60, 60, 60, 60, 60, 60, 60, 60, 60, 60, 60, 59, 44, 60, 60, 60, 60, 60, 60, 60, 60, 60, 59, 58, 59, 58, 57, 54, 49, 60, 60, 60, 60, 60, 60, 60, 60, 60, 60, 60, 59, 55, 51, 60, 60, 60, 59, 55, 51, 59, 58, 59, 58, 60, 60, 60, 57, 54, 49, 60, 60, 60, 60, 60, 60, 60, 60, 60, 60, 60, 60, 60, 60, 59, 58, 59, 58, 59, 60, 60, 60, 60, 60, 60, 60, 60, 60, 60, 60, 59, 58, 59, 58, 60, 60, 60, 60, 60, 60, 60, 60, 36, 60, 60, 60, 60, 60, 47, 37, 60, 60, 60, 60, 60, 60, 60, 60, 60, 60, 60, 60, 60, 60, 57, 54, 49, 57, 54, 49, 60, 59, 58, 59, 58, 60, 60, 60, 60, 57, 54, 49, 59, 58, 56, 52, 60, 60, 60, 60, 60, 60, 60, 59, 58, 59, 58, 60, 59, 58, 56, 46, 35, 60, 60, 60, 57, 48, 60, 60, 60, 60, 60, 60, 60, 60, 53, 59, 58, 59, 58, 60, 60, 60, 60, 60, 60, 60, 60, 60, 60, 60, 60, 60, 60, 60, 60, 59, 58, 59, 58, 60, 59, 58, 56, 52, 60, 60, 60, 60, 59, 50, 31, 59, 58, 56, 52, 60, 47, 37, 53, 60, 60, 60, 60, 60, 60, 59, 58, 59, 58, 60, 60, 60, 60, 60, 60, 60, 59, 55, 33, 60, 60, 59, 55, 42, 32, 60, 60, 60, 60, 60, 57, 48, 60, 60, 60, 60, 53, 57, 54, 60, 60, 60, 60, 60, 60, 60, 60, 57, 54, 49, 41, 60, 60, 60, 60, 60, 60, 60, 60, 60, 60, 60, 60, 60, 60, 60, 60, 59, 50, 43, 60, 60, 60, 60, 60, 60, 60, 53, 60, 59, 55, 33, 60, 60, 60, 60, 60, 60, 59, 58, 56, 52, 60, 60, 60, 60, 60, 60, 57, 48, 39, 59, 58, 56, 52, 60, 60, 60, 60, 60, 57, 48, 39, 60, 59, 50, 31, 60, 60, 60, 60, 59, 58, 59, 58, 60, 60, 59, 58, 56, 52, 60, 57, 54, 40, 60, 60, 60, 60, 60, 60, 60, 59, 59, 58, 56, 52, 60, 60, 60, 60, 60, 60, 60, 36, 60, 60, 60, 60, 60, 60, 59, 55, 33, 57, 54, 57, 54, 59, 50, 60, 60, 60, 57, 38, 60, 60, 60, 60, 60, 60, 60, 60, 60, 60, 60, 60, 59, 58, 59, 58, 59, 58, 56, 52, 36, 59, 55, 42, 32, 60, 60, 60, 60, 57, 60, 60, 60, 60, 60, 53, 60, 60, 60, 57, 54, 49, 41, 60, 60, 60, 60, 60, 60, 60, 60, 60, 60, 60, 60, 60, 60, 60, 60, 60, 60, 59, 55, 33, 60, 60, 53, 60, 60, 60, 60, 60, 59, 50, 43, 60, 60, 60, 57, 38, 57, 54, 40, 60, 60, 60, 60, 60, 60, 60, 60, 36, 60, 60, 60, 60, 60, 60, 60, 60, 47, 60, 57, 54, 49, 41, 60, 60, 60, 57, 54, 40, 47, 36, 60, 60, 60, 60, 60, 60, 60, 60, 60, 60, 60, 60, 60, 60, 60, 60, 59, 58, 56, 52, 60, 60, 60, 60, 60, 60, 60, 59, 50, 31, 60, 60, 59, 58, 56, 52, 47, 60, 60, 60, 60, 47, 37, 60, 47, 37, 60, 60, 59, 58, 56, 52, 60, 60, 60, 57, 54, 49, 41, 59, 58, 59, 58, 60, 60, 59, 58, 59, 58, 59, 50, 60, 60, 59, 58, 56, 52, 60, 60, 60, 60, 60, 60, 60, 60, 60, 60, 60, 60, 60, 60, 60, 60, 60, 47, 37, 60, 60, 57, 38, 60, 60, 60, 60, 60, 59, 44, 59, 55, 51, 45, 34, 60, 60, 60, 59, 58, 59, 58, 60, 60, 60, 59, 55, 51, 45, 34, 60, 60, 59, 55, 51, 57, 54, 60, 53, 59, 44, 60, 60, 57, 48, 60, 59, 58, 56, 46, 60, 60, 60, 59, 55, 51, 60, 36, 60, 60, 60, 60, 60, 60, 60, 60, 60, 60, 60, 53, 59, 59, 58, 56, 52, 60, 60, 60, 60, 59, 58, 56, 52, 60, 60, 60, 60, 60, 60, 60, 60, 60, 60, 60, 60, 59, 60, 60, 57, 60, 60, 60, 47, 59, 58, 59, 58, 60, 60, 60, 60, 59, 55, 51, 45, 34, 60, 60, 60, 59, 50, 43, 59, 58, 56, 60, 60, 60, 53, 60, 60, 60, 59, 55, 51, 45, 57, 48, 39, 53, 60, 60, 59, 58, 56, 60, 59, 58, 56, 46, 35, 60, 60, 60, 60, 60, 60, 60, 60, 60, 60, 59, 58, 59, 58, 59, 58, 56, 60, 59, 55, 51, 60, 60, 60, 60, 60, 57, 38, 60, 53, 60, 60, 60, 60, 60, 60, 60, 60, 60, 60, 60, 60, 59, 58, 56, 60, 60, 53, 59, 44, 60, 59, 58, 59, 58, 59, 58, 56, 57, 38, 60, 60, 57, 54, 49, 41, 60, 60, 60, 59, 58, 56, 47, 60, 60, 60, 57, 60, 60, 60, 60, 59, 58, 56, 60, 60, 59, 55, 51, 45, 34, 60, 60, 60, 59, 58, 56, 60, 60, 57, 54, 49, 41, 59, 50, 31, 60, 60, 60, 60, 60, 60, 60, 60, 59, 58, 59, 58, 60, 60, 59, 55, 42, 59, 58, 56, 60, 60, 60, 59, 58, 56, 46, 59, 55, 51, 45, 34, 59, 58, 56, 46, 59, 58, 56, 57, 48, 60, 60, 60, 59, 53, 59, 58, 56, 46, 57, 48, 60, 60, 57, 48, 53, 60, 53, 60, 60, 60, 60, 60, 60, 60, 60, 57, 48, 59, 59, 58, 56, 60, 60, 60, 60, 59, 55, 51, 45, 57, 48, 59, 58, 56, 52, 60, 60, 60, 53, 59, 58, 56, 60, 60, 59, 58, 59, 58, 60, 60, 60, 59, 55, 51, 45, 60, 57, 48, 39, 60, 53, 60, 57, 48, 39, 53, 60, 60, 60, 59, 55, 59, 55, 51, 45, 34, 60, 60, 60, 60, 60, 60, 60, 60, 59, 55, 51, 45, 34, 60, 60, 60, 60, 60, 59, 58, 56, 60, 60, 60, 60, 60, 60, 60, 59, 44, 53, 60, 57, 54, 40, 59, 58, 59, 58, 60, 59, 50, 53, 60, 60, 60, 60, 60, 59, 60, 60, 60, 60, 59, 58, 56, 46, 35, 59, 50, 60]\n",
      "[60, 59, 57, 60, 58, 45, 60, 58, 34, 60, 58, 51, 42, 60, 59, 57, 60, 59, 49, 60, 58, 51, 42, 33, 60, 59, 57, 53, 47, 36, 60, 52, 60, 59, 57, 60, 52, 35, 60, 59, 49, 40, 60, 58, 51, 60, 58, 55, 50, 60, 58, 51, 32, 60, 59, 57, 60, 58, 55, 43, 60, 58, 55, 43, 31, 60, 58, 55, 50, 44, 60, 59, 57, 60, 58, 51, 60, 59, 57, 60, 56, 60, 56, 60, 58, 55, 50, 44, 60, 59, 57, 60, 58, 45, 60, 59, 41, 60, 58, 34, 60, 60, 59, 41, 60, 58, 55, 50, 60, 59, 54, 48, 38, 60, 59, 54, 48, 38, 60, 58, 55, 60, 59, 57, 60, 58, 55, 60, 59, 49, 60, 58, 55, 60, 58, 55, 43, 60, 58, 45, 60, 58, 45, 60, 56, 60, 56, 60, 58, 55, 50, 44, 60, 52, 60, 59, 57, 53, 60, 58, 45, 60, 60, 58, 55, 60, 56, 60, 56, 60, 60, 59, 41, 60, 58, 51, 42, 33, 60, 60, 59, 54, 60, 58, 55, 50, 60, 59, 49, 40, 60, 52, 35, 60, 60, 59, 49, 60, 58, 51, 42, 33, 60, 58, 55, 50, 44, 60, 59, 60, 59, 49, 60, 58, 51, 42, 33, 60, 59, 54, 39, 60, 58, 51, 60, 58, 55, 50, 60, 60, 60, 58, 51, 42, 60, 58, 51, 42, 33, 60, 59, 57, 53, 37, 60, 59, 57, 53, 60, 59, 57, 60, 59, 54, 48, 60, 59, 49, 40, 60, 58, 51, 32, 60, 58, 55, 43, 31, 60, 59, 57, 60, 59, 57, 53, 60, 59, 60, 58, 55, 50, 44, 60, 59, 49, 60, 58, 55, 60, 58, 55, 60, 59, 54, 48, 38, 60, 58, 55, 60, 59, 54, 48, 60, 59, 54, 48, 38, 60, 59, 49, 60, 59, 57, 53, 37, 60, 58, 51, 32, 60, 56, 60, 56, 60, 58, 45, 60, 59, 49, 40, 60, 52, 35, 60, 58, 55, 50, 60, 58, 55, 50, 60, 59, 54, 60, 59, 60, 59, 49, 40, 60, 59, 41, 60, 59, 54, 48, 38, 60, 60, 52, 60, 56, 60, 56, 60, 60, 56, 60, 56, 60, 56, 60, 56, 60, 60, 59, 57, 53, 47, 60, 59, 54, 48, 60, 60, 59, 57, 60, 58, 51, 32, 60, 58, 55, 60, 58, 51, 60, 58, 55, 50, 60, 58, 51, 32, 60, 58, 55, 60, 59, 57, 53, 37, 60, 58, 45, 60, 58, 34, 60, 52, 60, 58, 55, 50, 60, 56, 60, 56, 60, 59, 41, 60, 58, 45, 60, 59, 57, 53, 47, 36, 60, 58, 45, 60, 56, 60, 56, 60, 59, 41, 60, 56, 60, 56, 60, 58, 55, 50, 44, 60, 56, 60, 56, 60, 59, 57, 53, 47, 36, 60, 59, 57, 53, 47, 36, 60, 59, 57, 53, 47, 60, 59, 57, 53, 60, 59, 41, 60, 59, 41, 60, 56, 60, 56, 60, 59, 41, 60, 60, 56, 60, 56, 60, 52, 60, 59, 54, 39, 60, 59, 57, 60, 56, 60, 56, 60, 56, 60, 56, 60, 60, 59, 57, 53, 47, 36, 60, 58, 55, 43, 60, 60, 59, 57, 53, 60, 59, 57, 60, 56, 60, 56, 60, 58, 51, 42, 60, 58, 51, 60, 59, 54, 39, 60, 59, 57, 60, 59, 49, 40, 60, 59, 60, 58, 55, 60, 59, 57, 60, 58, 51, 42, 60, 60, 59, 54, 60, 60, 59, 54, 60, 58, 55, 43, 60, 56, 60, 56, 60, 60, 59, 49, 60, 58, 55, 50, 44, 60, 60, 59, 57, 53, 47, 60, 58, 51, 42, 60, 59, 49, 40, 60, 59, 49, 40, 60, 58, 55, 43, 31, 60, 59, 54, 48, 60, 56, 60, 56, 60, 60, 59, 57, 53, 47, 60, 58, 51, 60, 59, 54, 48, 38, 60, 59, 57, 60, 59, 60, 58, 51, 42, 60, 59, 57, 60, 58, 55, 60, 59, 54, 48, 60, 59, 49, 60, 59, 57, 53, 47, 60, 59, 57, 53, 37, 60, 59, 60, 59, 49, 60, 59, 57, 53, 37, 60, 59, 57, 53, 47, 60, 60, 58, 55, 43, 60, 60, 59, 57, 53, 37, 60, 59, 57, 53, 60, 59, 57, 53, 60, 60, 59, 60, 56, 60, 56, 60, 56, 60, 56, 60, 58, 55, 43, 31, 60, 60, 59, 57, 53, 60, 59, 54, 48, 60, 58, 55, 50, 60, 58, 60, 56, 60, 56, 60, 58, 60, 58, 45, 60, 59, 49, 40, 60, 59, 57, 60, 59, 57, 53, 47, 36, 60, 58, 55, 50, 60, 59, 54, 39, 60, 52, 35, 60, 58, 45, 60, 59, 57, 53, 47, 60, 59, 57, 60, 58, 55, 50, 44, 60, 60, 60, 58, 55, 50, 44, 60, 59, 54, 48, 38, 60, 59, 57, 53, 37, 60, 56, 60, 56, 60, 58, 60, 58, 55, 60, 52, 46, 60, 59, 57, 60, 58, 34, 60, 59, 54, 60, 59, 57, 60, 52, 46, 60, 52, 60, 56, 60, 56, 60, 52, 46, 60, 58, 45, 60, 59, 54, 48, 60, 59, 57, 60, 52, 46, 60, 59, 57, 60, 58, 55, 50, 60, 56, 60, 56, 60, 52, 46, 60, 59, 54, 48, 60, 59, 60, 52, 46, 60, 59, 57, 53, 37, 60, 59, 54, 48, 38, 60, 52, 46, 60, 58, 60, 52, 46, 60, 59, 60, 58, 55, 43, 60, 56, 60, 56, 60, 58, 51, 32, 60, 52, 46, 60, 52, 35, 60, 58, 60, 52, 35, 60, 52, 46, 60, 59, 54, 39, 60, 58, 55, 50, 44, 60, 59, 57, 60, 52, 35, 60, 59, 54, 39, 60, 59, 54, 39, 60, 59, 57, 60, 59, 57, 53, 47, 36, 60, 59, 57, 60, 59, 54, 39, 60, 58, 55, 50, 44, 60, 52, 46, 60, 58, 34, 60, 59, 54, 39, 60, 60, 59, 57, 60, 52, 46, 60, 56, 60, 56, 60, 58, 34, 60, 59, 54, 60, 59, 57, 60, 59, 54, 60, 59, 57, 60, 58, 51, 42, 33, 60, 58, 60, 58, 60, 52, 46, 60, 58, 55, 50, 60, 59, 57, 60, 59, 49, 60, 56, 60, 56, 60, 58, 55, 43, 31, 60, 59, 57, 60, 58, 55, 50, 44, 60, 52, 60, 58, 55, 43, 31]\n"
     ]
    },
    {
     "name": "stderr",
     "output_type": "stream",
     "text": [
      "\n"
     ]
    }
   ],
   "source": [
    "config_path = \"./configs/word2vec.yaml\"\n",
    "with open(config_path, \"r\") as stream:\n",
    "    config_dict = yaml.safe_load(stream)\n",
    "\n",
    "cbow = CBOWDataset(config_dict)\n",
    "l_cxt, r_cxt, l_lbl, r_lbl = cbow.make_pairs()\n",
    "\n",
    "print(cbow.vocab_freq)\n",
    "print(l_cxt)\n",
    "print(r_cxt)\n",
    "print(l_lbl)\n",
    "print(r_lbl)\n",
    "\n",
    "train_left_loader, train_right_loader, val_left_loader, val_right_loader = create_dataloader(l_cxt, r_cxt, l_lbl, r_lbl, 0.2, 8, 2023)\n",
    "\n",
    "# for batch in iter(train_left_loader):\n",
    "#     l_c, l_l = batch\n",
    "#     print(l_c)\n",
    "#     print(l_l)\n",
    "#     break\n",
    "\n",
    "# for batch in iter(train_right_loader):\n",
    "#     r_c, r_l = batch\n",
    "#     print(r_c)\n",
    "#     print(r_l)\n",
    "#     break"
   ]
  },
  {
   "cell_type": "code",
   "execution_count": 65,
   "metadata": {},
   "outputs": [
    {
     "name": "stdout",
     "output_type": "stream",
     "text": [
      "-----------Epoch 1/10-----------\n"
     ]
    },
    {
     "name": "stderr",
     "output_type": "stream",
     "text": [
      "Training: 100%|██████████| 206/206 [00:26<00:00,  7.86it/s]\n",
      "Validation: 100%|██████████| 51/51 [00:19<00:00,  2.56it/s]\n"
     ]
    },
    {
     "name": "stdout",
     "output_type": "stream",
     "text": [
      "Train Loss : 5.19072961807251 - Val Loss : 2.880483865737915\n",
      "Validation Loss improved from inf to 2.880483865737915\n",
      "-----------Epoch 2/10-----------\n"
     ]
    },
    {
     "name": "stderr",
     "output_type": "stream",
     "text": [
      "Training: 100%|██████████| 206/206 [00:19<00:00, 10.36it/s]\n",
      "Validation: 100%|██████████| 51/51 [00:17<00:00,  3.00it/s]\n"
     ]
    },
    {
     "name": "stdout",
     "output_type": "stream",
     "text": [
      "Train Loss : 2.8874399662017822 - Val Loss : 2.194394826889038\n",
      "Validation Loss improved from 2.880483865737915 to 2.194394826889038\n",
      "-----------Epoch 3/10-----------\n"
     ]
    },
    {
     "name": "stderr",
     "output_type": "stream",
     "text": [
      "Training: 100%|██████████| 206/206 [00:17<00:00, 11.60it/s]\n",
      "Validation: 100%|██████████| 51/51 [00:17<00:00,  2.95it/s]\n"
     ]
    },
    {
     "name": "stdout",
     "output_type": "stream",
     "text": [
      "Train Loss : 2.2812020778656006 - Val Loss : 1.9462478160858154\n",
      "Validation Loss improved from 2.194394826889038 to 1.9462478160858154\n",
      "-----------Epoch 4/10-----------\n"
     ]
    },
    {
     "name": "stderr",
     "output_type": "stream",
     "text": [
      "Training: 100%|██████████| 206/206 [00:17<00:00, 11.60it/s]\n",
      "Validation: 100%|██████████| 51/51 [00:16<00:00,  3.05it/s]\n"
     ]
    },
    {
     "name": "stdout",
     "output_type": "stream",
     "text": [
      "Train Loss : 1.9103882312774658 - Val Loss : 1.7780832052230835\n",
      "Validation Loss improved from 1.9462478160858154 to 1.7780832052230835\n",
      "-----------Epoch 5/10-----------\n"
     ]
    },
    {
     "name": "stderr",
     "output_type": "stream",
     "text": [
      "Training: 100%|██████████| 206/206 [00:19<00:00, 10.31it/s]\n",
      "Validation: 100%|██████████| 51/51 [00:15<00:00,  3.28it/s]\n"
     ]
    },
    {
     "name": "stdout",
     "output_type": "stream",
     "text": [
      "Train Loss : 1.6663691997528076 - Val Loss : 1.6299480199813843\n",
      "Validation Loss improved from 1.7780832052230835 to 1.6299480199813843\n",
      "-----------Epoch 6/10-----------\n"
     ]
    },
    {
     "name": "stderr",
     "output_type": "stream",
     "text": [
      "Training: 100%|██████████| 206/206 [00:16<00:00, 12.51it/s]\n",
      "Validation: 100%|██████████| 51/51 [00:14<00:00,  3.46it/s]\n"
     ]
    },
    {
     "name": "stdout",
     "output_type": "stream",
     "text": [
      "Train Loss : 1.4816888570785522 - Val Loss : 1.539669156074524\n",
      "Validation Loss improved from 1.6299480199813843 to 1.539669156074524\n",
      "-----------Epoch 7/10-----------\n"
     ]
    },
    {
     "name": "stderr",
     "output_type": "stream",
     "text": [
      "Training: 100%|██████████| 206/206 [00:15<00:00, 13.27it/s]\n",
      "Validation: 100%|██████████| 51/51 [00:14<00:00,  3.44it/s]\n"
     ]
    },
    {
     "name": "stdout",
     "output_type": "stream",
     "text": [
      "Train Loss : 1.3658875226974487 - Val Loss : 1.4765939712524414\n",
      "Validation Loss improved from 1.539669156074524 to 1.4765939712524414\n",
      "-----------Epoch 8/10-----------\n"
     ]
    },
    {
     "name": "stderr",
     "output_type": "stream",
     "text": [
      "Training: 100%|██████████| 206/206 [00:14<00:00, 14.01it/s]\n",
      "Validation: 100%|██████████| 51/51 [00:14<00:00,  3.60it/s]\n"
     ]
    },
    {
     "name": "stdout",
     "output_type": "stream",
     "text": [
      "Train Loss : 1.2907533645629883 - Val Loss : 1.4481770992279053\n",
      "Validation Loss improved from 1.4765939712524414 to 1.4481770992279053\n",
      "-----------Epoch 9/10-----------\n"
     ]
    },
    {
     "name": "stderr",
     "output_type": "stream",
     "text": [
      "Training: 100%|██████████| 206/206 [00:15<00:00, 13.37it/s]\n",
      "Validation: 100%|██████████| 51/51 [00:14<00:00,  3.52it/s]\n"
     ]
    },
    {
     "name": "stdout",
     "output_type": "stream",
     "text": [
      "Train Loss : 1.2339324951171875 - Val Loss : 1.4516034126281738\n",
      "Validation loss didn't improve from 1.4481770992279053\n",
      "-----------Epoch 10/10-----------\n"
     ]
    },
    {
     "name": "stderr",
     "output_type": "stream",
     "text": [
      "Training: 100%|██████████| 206/206 [00:16<00:00, 12.78it/s]\n",
      "Validation: 100%|██████████| 51/51 [00:14<00:00,  3.47it/s]\n"
     ]
    },
    {
     "name": "stdout",
     "output_type": "stream",
     "text": [
      "Train Loss : 1.1893771886825562 - Val Loss : 1.4282432794570923\n",
      "Validation Loss improved from 1.4481770992279053 to 1.4282432794570923\n",
      "Training completed in 0h 5m 55s\n",
      "Best Val RMSE: 1.4282432794570923\n"
     ]
    }
   ],
   "source": [
    "model = CBOWModel(config_dict)\n",
    "\n",
    "train_loader = (train_left_loader, train_right_loader)\n",
    "val_loader = (val_left_loader, val_right_loader)\n",
    "optim = torch.optim.Adam(model.parameters(), lr=config_dict[\"train\"][\"lr\"])\n",
    "history = fit_model(model, optim, train_loader, val_loader, config_dict)"
   ]
  },
  {
   "cell_type": "code",
   "execution_count": 84,
   "metadata": {},
   "outputs": [
    {
     "name": "stderr",
     "output_type": "stream",
     "text": [
      "e:\\anaconda\\envs\\nlp_env\\lib\\site-packages\\joblib\\externals\\loky\\backend\\context.py:136: UserWarning: Could not find the number of physical cores for the following reason:\n",
      "[WinError 2] The system cannot find the file specified\n",
      "Returning the number of logical cores instead. You can silence this warning by setting LOKY_MAX_CPU_COUNT to the number of cores you want to use.\n",
      "  warnings.warn(\n",
      "  File \"e:\\anaconda\\envs\\nlp_env\\lib\\site-packages\\joblib\\externals\\loky\\backend\\context.py\", line 257, in _count_physical_cores\n",
      "    cpu_info = subprocess.run(\n",
      "  File \"e:\\anaconda\\envs\\nlp_env\\lib\\subprocess.py\", line 501, in run\n",
      "    with Popen(*popenargs, **kwargs) as process:\n",
      "  File \"e:\\anaconda\\envs\\nlp_env\\lib\\subprocess.py\", line 947, in __init__\n",
      "    self._execute_child(args, executable, preexec_fn, close_fds,\n",
      "  File \"e:\\anaconda\\envs\\nlp_env\\lib\\subprocess.py\", line 1416, in _execute_child\n",
      "    hp, ht, pid, tid = _winapi.CreateProcess(executable, args,\n"
     ]
    },
    {
     "data": {
      "application/vnd.plotly.v1+json": {
       "config": {
        "plotlyServerURL": "https://plot.ly"
       },
       "data": [
        {
         "hovertemplate": "X=%{x}<br>Y=%{y}<br>Z=%{z}<br>Word=%{text}<extra></extra>",
         "legendgroup": "",
         "marker": {
          "color": "#636efa",
          "symbol": "circle"
         },
         "mode": "markers+text",
         "name": "",
         "scene": "scene",
         "showlegend": false,
         "text": [
          "br",
          "movi",
          "film",
          "tom",
          "time",
          "like",
          "end",
          "charact",
          "one",
          "seen",
          "much",
          "go",
          "see",
          "back",
          "know",
          "well",
          "good",
          "think",
          "great",
          "hous",
          "come",
          "get",
          "cecilia",
          "goe",
          "hope",
          "cut",
          "look",
          "play",
          "two",
          "littl",
          "<UNK>"
         ],
         "type": "scatter3d",
         "x": [
          108.84769439697266,
          41.907989501953125,
          -26.60728645324707,
          -34.34479904174805,
          -138.39060974121094,
          76.93354797363281,
          117.14276123046875,
          18.68572235107422,
          52.014129638671875,
          91.37653350830078,
          -30.865123748779297,
          -7.416396141052246,
          -62.26999282836914,
          54.28514862060547,
          -89.03902435302734,
          -23.826425552368164,
          -98.29833984375,
          23.955326080322266,
          99.63731384277344,
          -112.65848541259766,
          47.895503997802734,
          18.824796676635742,
          -34.687076568603516,
          39.32181930541992,
          -115.32209014892578,
          -85.29039001464844,
          122.88488006591797,
          -50.484317779541016,
          -24.0411376953125,
          -13.677151679992676,
          39.51049041748047
         ],
         "y": [
          27.484676361083984,
          3.79726505279541,
          -83.88947296142578,
          -27.206012725830078,
          43.81248474121094,
          96.99076080322266,
          16.286916732788086,
          16.82794189453125,
          -45.0168571472168,
          44.30453872680664,
          -60.943031311035156,
          141.3827362060547,
          9.633867263793945,
          -34.673301696777344,
          92.85338592529297,
          30.257152557373047,
          -91.2662582397461,
          -128.75579833984375,
          -75.89686584472656,
          -59.27724838256836,
          -117.12508392333984,
          78.8982162475586,
          -101.43305969238281,
          102.29987335205078,
          -2.0167365074157715,
          55.56837463378906,
          -49.61564636230469,
          97.60891723632812,
          0.6844167709350586,
          55.043792724609375,
          -50.643192291259766
         ],
         "z": [
          -11.879032135009766,
          42.62489318847656,
          88.1482162475586,
          17.84119415283203,
          -45.8897590637207,
          28.79369354248047,
          79.55487060546875,
          -54.795345306396484,
          117.26560974121094,
          -97.58773040771484,
          -107.56600189208984,
          14.39186954498291,
          -53.31477737426758,
          -119.97496795654297,
          16.916479110717773,
          -134.13845825195312,
          35.50104904174805,
          30.7963809967041,
          40.448421478271484,
          -55.1917839050293,
          -69.4092025756836,
          97.5378189086914,
          -29.81121063232422,
          -56.91859436035156,
          34.05947494506836,
          97.5815658569336,
          -50.45220184326172,
          -71.5807113647461,
          104.26795959472656,
          12.972654342651367,
          -18.06292724609375
         ]
        }
       ],
       "layout": {
        "legend": {
         "tracegroupgap": 0
        },
        "margin": {
         "t": 60
        },
        "scene": {
         "domain": {
          "x": [
           0,
           1
          ],
          "y": [
           0,
           1
          ]
         },
         "xaxis": {
          "title": {
           "text": "X"
          }
         },
         "yaxis": {
          "title": {
           "text": "Y"
          }
         },
         "zaxis": {
          "title": {
           "text": "Z"
          }
         }
        },
        "template": {
         "data": {
          "bar": [
           {
            "error_x": {
             "color": "#2a3f5f"
            },
            "error_y": {
             "color": "#2a3f5f"
            },
            "marker": {
             "line": {
              "color": "#E5ECF6",
              "width": 0.5
             },
             "pattern": {
              "fillmode": "overlay",
              "size": 10,
              "solidity": 0.2
             }
            },
            "type": "bar"
           }
          ],
          "barpolar": [
           {
            "marker": {
             "line": {
              "color": "#E5ECF6",
              "width": 0.5
             },
             "pattern": {
              "fillmode": "overlay",
              "size": 10,
              "solidity": 0.2
             }
            },
            "type": "barpolar"
           }
          ],
          "carpet": [
           {
            "aaxis": {
             "endlinecolor": "#2a3f5f",
             "gridcolor": "white",
             "linecolor": "white",
             "minorgridcolor": "white",
             "startlinecolor": "#2a3f5f"
            },
            "baxis": {
             "endlinecolor": "#2a3f5f",
             "gridcolor": "white",
             "linecolor": "white",
             "minorgridcolor": "white",
             "startlinecolor": "#2a3f5f"
            },
            "type": "carpet"
           }
          ],
          "choropleth": [
           {
            "colorbar": {
             "outlinewidth": 0,
             "ticks": ""
            },
            "type": "choropleth"
           }
          ],
          "contour": [
           {
            "colorbar": {
             "outlinewidth": 0,
             "ticks": ""
            },
            "colorscale": [
             [
              0,
              "#0d0887"
             ],
             [
              0.1111111111111111,
              "#46039f"
             ],
             [
              0.2222222222222222,
              "#7201a8"
             ],
             [
              0.3333333333333333,
              "#9c179e"
             ],
             [
              0.4444444444444444,
              "#bd3786"
             ],
             [
              0.5555555555555556,
              "#d8576b"
             ],
             [
              0.6666666666666666,
              "#ed7953"
             ],
             [
              0.7777777777777778,
              "#fb9f3a"
             ],
             [
              0.8888888888888888,
              "#fdca26"
             ],
             [
              1,
              "#f0f921"
             ]
            ],
            "type": "contour"
           }
          ],
          "contourcarpet": [
           {
            "colorbar": {
             "outlinewidth": 0,
             "ticks": ""
            },
            "type": "contourcarpet"
           }
          ],
          "heatmap": [
           {
            "colorbar": {
             "outlinewidth": 0,
             "ticks": ""
            },
            "colorscale": [
             [
              0,
              "#0d0887"
             ],
             [
              0.1111111111111111,
              "#46039f"
             ],
             [
              0.2222222222222222,
              "#7201a8"
             ],
             [
              0.3333333333333333,
              "#9c179e"
             ],
             [
              0.4444444444444444,
              "#bd3786"
             ],
             [
              0.5555555555555556,
              "#d8576b"
             ],
             [
              0.6666666666666666,
              "#ed7953"
             ],
             [
              0.7777777777777778,
              "#fb9f3a"
             ],
             [
              0.8888888888888888,
              "#fdca26"
             ],
             [
              1,
              "#f0f921"
             ]
            ],
            "type": "heatmap"
           }
          ],
          "heatmapgl": [
           {
            "colorbar": {
             "outlinewidth": 0,
             "ticks": ""
            },
            "colorscale": [
             [
              0,
              "#0d0887"
             ],
             [
              0.1111111111111111,
              "#46039f"
             ],
             [
              0.2222222222222222,
              "#7201a8"
             ],
             [
              0.3333333333333333,
              "#9c179e"
             ],
             [
              0.4444444444444444,
              "#bd3786"
             ],
             [
              0.5555555555555556,
              "#d8576b"
             ],
             [
              0.6666666666666666,
              "#ed7953"
             ],
             [
              0.7777777777777778,
              "#fb9f3a"
             ],
             [
              0.8888888888888888,
              "#fdca26"
             ],
             [
              1,
              "#f0f921"
             ]
            ],
            "type": "heatmapgl"
           }
          ],
          "histogram": [
           {
            "marker": {
             "pattern": {
              "fillmode": "overlay",
              "size": 10,
              "solidity": 0.2
             }
            },
            "type": "histogram"
           }
          ],
          "histogram2d": [
           {
            "colorbar": {
             "outlinewidth": 0,
             "ticks": ""
            },
            "colorscale": [
             [
              0,
              "#0d0887"
             ],
             [
              0.1111111111111111,
              "#46039f"
             ],
             [
              0.2222222222222222,
              "#7201a8"
             ],
             [
              0.3333333333333333,
              "#9c179e"
             ],
             [
              0.4444444444444444,
              "#bd3786"
             ],
             [
              0.5555555555555556,
              "#d8576b"
             ],
             [
              0.6666666666666666,
              "#ed7953"
             ],
             [
              0.7777777777777778,
              "#fb9f3a"
             ],
             [
              0.8888888888888888,
              "#fdca26"
             ],
             [
              1,
              "#f0f921"
             ]
            ],
            "type": "histogram2d"
           }
          ],
          "histogram2dcontour": [
           {
            "colorbar": {
             "outlinewidth": 0,
             "ticks": ""
            },
            "colorscale": [
             [
              0,
              "#0d0887"
             ],
             [
              0.1111111111111111,
              "#46039f"
             ],
             [
              0.2222222222222222,
              "#7201a8"
             ],
             [
              0.3333333333333333,
              "#9c179e"
             ],
             [
              0.4444444444444444,
              "#bd3786"
             ],
             [
              0.5555555555555556,
              "#d8576b"
             ],
             [
              0.6666666666666666,
              "#ed7953"
             ],
             [
              0.7777777777777778,
              "#fb9f3a"
             ],
             [
              0.8888888888888888,
              "#fdca26"
             ],
             [
              1,
              "#f0f921"
             ]
            ],
            "type": "histogram2dcontour"
           }
          ],
          "mesh3d": [
           {
            "colorbar": {
             "outlinewidth": 0,
             "ticks": ""
            },
            "type": "mesh3d"
           }
          ],
          "parcoords": [
           {
            "line": {
             "colorbar": {
              "outlinewidth": 0,
              "ticks": ""
             }
            },
            "type": "parcoords"
           }
          ],
          "pie": [
           {
            "automargin": true,
            "type": "pie"
           }
          ],
          "scatter": [
           {
            "fillpattern": {
             "fillmode": "overlay",
             "size": 10,
             "solidity": 0.2
            },
            "type": "scatter"
           }
          ],
          "scatter3d": [
           {
            "line": {
             "colorbar": {
              "outlinewidth": 0,
              "ticks": ""
             }
            },
            "marker": {
             "colorbar": {
              "outlinewidth": 0,
              "ticks": ""
             }
            },
            "type": "scatter3d"
           }
          ],
          "scattercarpet": [
           {
            "marker": {
             "colorbar": {
              "outlinewidth": 0,
              "ticks": ""
             }
            },
            "type": "scattercarpet"
           }
          ],
          "scattergeo": [
           {
            "marker": {
             "colorbar": {
              "outlinewidth": 0,
              "ticks": ""
             }
            },
            "type": "scattergeo"
           }
          ],
          "scattergl": [
           {
            "marker": {
             "colorbar": {
              "outlinewidth": 0,
              "ticks": ""
             }
            },
            "type": "scattergl"
           }
          ],
          "scattermapbox": [
           {
            "marker": {
             "colorbar": {
              "outlinewidth": 0,
              "ticks": ""
             }
            },
            "type": "scattermapbox"
           }
          ],
          "scatterpolar": [
           {
            "marker": {
             "colorbar": {
              "outlinewidth": 0,
              "ticks": ""
             }
            },
            "type": "scatterpolar"
           }
          ],
          "scatterpolargl": [
           {
            "marker": {
             "colorbar": {
              "outlinewidth": 0,
              "ticks": ""
             }
            },
            "type": "scatterpolargl"
           }
          ],
          "scatterternary": [
           {
            "marker": {
             "colorbar": {
              "outlinewidth": 0,
              "ticks": ""
             }
            },
            "type": "scatterternary"
           }
          ],
          "surface": [
           {
            "colorbar": {
             "outlinewidth": 0,
             "ticks": ""
            },
            "colorscale": [
             [
              0,
              "#0d0887"
             ],
             [
              0.1111111111111111,
              "#46039f"
             ],
             [
              0.2222222222222222,
              "#7201a8"
             ],
             [
              0.3333333333333333,
              "#9c179e"
             ],
             [
              0.4444444444444444,
              "#bd3786"
             ],
             [
              0.5555555555555556,
              "#d8576b"
             ],
             [
              0.6666666666666666,
              "#ed7953"
             ],
             [
              0.7777777777777778,
              "#fb9f3a"
             ],
             [
              0.8888888888888888,
              "#fdca26"
             ],
             [
              1,
              "#f0f921"
             ]
            ],
            "type": "surface"
           }
          ],
          "table": [
           {
            "cells": {
             "fill": {
              "color": "#EBF0F8"
             },
             "line": {
              "color": "white"
             }
            },
            "header": {
             "fill": {
              "color": "#C8D4E3"
             },
             "line": {
              "color": "white"
             }
            },
            "type": "table"
           }
          ]
         },
         "layout": {
          "annotationdefaults": {
           "arrowcolor": "#2a3f5f",
           "arrowhead": 0,
           "arrowwidth": 1
          },
          "autotypenumbers": "strict",
          "coloraxis": {
           "colorbar": {
            "outlinewidth": 0,
            "ticks": ""
           }
          },
          "colorscale": {
           "diverging": [
            [
             0,
             "#8e0152"
            ],
            [
             0.1,
             "#c51b7d"
            ],
            [
             0.2,
             "#de77ae"
            ],
            [
             0.3,
             "#f1b6da"
            ],
            [
             0.4,
             "#fde0ef"
            ],
            [
             0.5,
             "#f7f7f7"
            ],
            [
             0.6,
             "#e6f5d0"
            ],
            [
             0.7,
             "#b8e186"
            ],
            [
             0.8,
             "#7fbc41"
            ],
            [
             0.9,
             "#4d9221"
            ],
            [
             1,
             "#276419"
            ]
           ],
           "sequential": [
            [
             0,
             "#0d0887"
            ],
            [
             0.1111111111111111,
             "#46039f"
            ],
            [
             0.2222222222222222,
             "#7201a8"
            ],
            [
             0.3333333333333333,
             "#9c179e"
            ],
            [
             0.4444444444444444,
             "#bd3786"
            ],
            [
             0.5555555555555556,
             "#d8576b"
            ],
            [
             0.6666666666666666,
             "#ed7953"
            ],
            [
             0.7777777777777778,
             "#fb9f3a"
            ],
            [
             0.8888888888888888,
             "#fdca26"
            ],
            [
             1,
             "#f0f921"
            ]
           ],
           "sequentialminus": [
            [
             0,
             "#0d0887"
            ],
            [
             0.1111111111111111,
             "#46039f"
            ],
            [
             0.2222222222222222,
             "#7201a8"
            ],
            [
             0.3333333333333333,
             "#9c179e"
            ],
            [
             0.4444444444444444,
             "#bd3786"
            ],
            [
             0.5555555555555556,
             "#d8576b"
            ],
            [
             0.6666666666666666,
             "#ed7953"
            ],
            [
             0.7777777777777778,
             "#fb9f3a"
            ],
            [
             0.8888888888888888,
             "#fdca26"
            ],
            [
             1,
             "#f0f921"
            ]
           ]
          },
          "colorway": [
           "#636efa",
           "#EF553B",
           "#00cc96",
           "#ab63fa",
           "#FFA15A",
           "#19d3f3",
           "#FF6692",
           "#B6E880",
           "#FF97FF",
           "#FECB52"
          ],
          "font": {
           "color": "#2a3f5f"
          },
          "geo": {
           "bgcolor": "white",
           "lakecolor": "white",
           "landcolor": "#E5ECF6",
           "showlakes": true,
           "showland": true,
           "subunitcolor": "white"
          },
          "hoverlabel": {
           "align": "left"
          },
          "hovermode": "closest",
          "mapbox": {
           "style": "light"
          },
          "paper_bgcolor": "white",
          "plot_bgcolor": "#E5ECF6",
          "polar": {
           "angularaxis": {
            "gridcolor": "white",
            "linecolor": "white",
            "ticks": ""
           },
           "bgcolor": "#E5ECF6",
           "radialaxis": {
            "gridcolor": "white",
            "linecolor": "white",
            "ticks": ""
           }
          },
          "scene": {
           "xaxis": {
            "backgroundcolor": "#E5ECF6",
            "gridcolor": "white",
            "gridwidth": 2,
            "linecolor": "white",
            "showbackground": true,
            "ticks": "",
            "zerolinecolor": "white"
           },
           "yaxis": {
            "backgroundcolor": "#E5ECF6",
            "gridcolor": "white",
            "gridwidth": 2,
            "linecolor": "white",
            "showbackground": true,
            "ticks": "",
            "zerolinecolor": "white"
           },
           "zaxis": {
            "backgroundcolor": "#E5ECF6",
            "gridcolor": "white",
            "gridwidth": 2,
            "linecolor": "white",
            "showbackground": true,
            "ticks": "",
            "zerolinecolor": "white"
           }
          },
          "shapedefaults": {
           "line": {
            "color": "#2a3f5f"
           }
          },
          "ternary": {
           "aaxis": {
            "gridcolor": "white",
            "linecolor": "white",
            "ticks": ""
           },
           "baxis": {
            "gridcolor": "white",
            "linecolor": "white",
            "ticks": ""
           },
           "bgcolor": "#E5ECF6",
           "caxis": {
            "gridcolor": "white",
            "linecolor": "white",
            "ticks": ""
           }
          },
          "title": {
           "x": 0.05
          },
          "xaxis": {
           "automargin": true,
           "gridcolor": "white",
           "linecolor": "white",
           "ticks": "",
           "title": {
            "standoff": 15
           },
           "zerolinecolor": "white",
           "zerolinewidth": 2
          },
          "yaxis": {
           "automargin": true,
           "gridcolor": "white",
           "linecolor": "white",
           "ticks": "",
           "title": {
            "standoff": 15
           },
           "zerolinecolor": "white",
           "zerolinewidth": 2
          }
         }
        }
       }
      }
     },
     "metadata": {},
     "output_type": "display_data"
    }
   ],
   "source": [
    "from sklearn.manifold import TSNE\n",
    "import plotly.express as px\n",
    "\n",
    "model.load_state_dict(torch.load(\"./output/word2vec/best_model.pt\", weights_only=True))\n",
    "\n",
    "embeds = model.cxt_embedding.weight.detach().numpy()\n",
    "vocab = list(cbow.vocab_freq.keys())\n",
    "\n",
    "tsne = TSNE(n_components=3)\n",
    "embeds_tsne = tsne.fit_transform(embeds)\n",
    "\n",
    "tsne_df = pd.DataFrame.from_dict({\n",
    "    \"X\": embeds_tsne[:, 0],\n",
    "    \"Y\": embeds_tsne[:, 1],\n",
    "    \"Z\": embeds_tsne[:, 2], \n",
    "    \"Word\": vocab\n",
    "})\n",
    "px.scatter_3d(tsne_df, x=\"X\", y=\"Y\", z=\"Z\", text=\"Word\")"
   ]
  },
  {
   "cell_type": "code",
   "execution_count": null,
   "metadata": {},
   "outputs": [],
   "source": [
    "vocab_dict = {0: 4, 1: 6, 2: 3, 3: 2, 4: 2}\n",
    "\n",
    "tree = HuffmanBTree(vocab_dict)\n",
    "print(tree.word_code)\n",
    "print(tree.word_path)\n",
    "print(tree.left_dict)\n",
    "print(tree.right_dict)\n",
    "\n",
    "# {1: [1, 1], 0: [1, 0], 3: [0, 1, 1], 4: [0, 1, 0], 2: [0, 0]}\n",
    "# {1: [8, 7], 0: [8, 7], 3: [8, 6, 5], 4: [8, 6, 5], 2: [8, 6]}\n",
    "# ([[8], [8, 7], [], [6, 5], [6]], [[7], [], [8, 6], [8], [8, 5]])"
   ]
  },
  {
   "cell_type": "code",
   "execution_count": null,
   "metadata": {},
   "outputs": [],
   "source": [
    "freq_df = pd.read_csv(\"./output/bow/Vocab Frequency.csv\")\n",
    "freq_df.sort_values(by=\"Frequency\", ascending=False, ignore_index=True, inplace=True)\n",
    "freq_df = freq_df.iloc[:1000]\n",
    "num_vocab = 5\n",
    "freq_df = freq_df.iloc[np.random.choice(len(freq_df), num_vocab)]\n",
    "\n",
    "vocab = list(freq_df[\"Word\"])\n",
    "freq = list(freq_df[\"Frequency\"])\n",
    "vocab_idx = [i for i in range(len(vocab))]\n",
    "vocab_dict = {k:v for k,v in zip(vocab_idx, freq)}\n",
    "\n",
    "freq_df.head(num_vocab)"
   ]
  },
  {
   "cell_type": "code",
   "execution_count": 104,
   "metadata": {},
   "outputs": [],
   "source": [
    "class Word:\n",
    "    def __init__(self, word, freq):\n",
    "        self.word = word\n",
    "        self.freq = freq\n",
    "\n",
    "class Tree:\n",
    "    def __init__(self, word, freq, left, right):\n",
    "        self.word = word\n",
    "        self.freq = freq\n",
    "        self.right = right\n",
    "        self.left = left\n",
    "\n",
    "def construct_tree(vocab, freq):\n",
    "    word_list = []\n",
    "    for w,f in zip(vocab, freq):\n",
    "        word_list.append(Word(w,f))\n",
    "\n",
    "    count = 0\n",
    "    while len(word_list) > 1:\n",
    "        left = word_list[-1]\n",
    "        right = word_list[-2]\n",
    "\n",
    "        word = f\"W{count}\"\n",
    "        freq = left.freq + right.freq\n",
    "\n",
    "        print(f\"Root: ({word}, {freq}), Left: ({left.word}, {left.freq}), Right: ({right.word}, {right.freq})\")\n",
    "\n",
    "        tree = Tree(word, freq, left, right)\n",
    "        word_list = word_list[:-2]\n",
    "        \n",
    "        word_list.append(tree)\n",
    "        word_list = sorted(word_list, key=lambda a:a.freq, reverse=False)\n",
    "\n",
    "        count += 1\n",
    "\n",
    "    return tree\n",
    "\n",
    "def encode_tree(tree, path_dict, path):\n",
    "\n",
    "    if isinstance(tree, Word):\n",
    "        path_dict[tree.word] = path\n",
    "    \n",
    "    if isinstance(tree.left, Word):\n",
    "        path_dict[tree.left.word] = path + [0]\n",
    "    else:\n",
    "        encode_tree(tree.left, path_dict, path+[0])\n",
    "\n",
    "    if isinstance(tree.right, Word):\n",
    "        path_dict[tree.right.word] = path + [1]\n",
    "    else:\n",
    "        encode_tree(tree.right, path_dict, path+[1])\n",
    "\n",
    "    if len(path_dict) == num_vocab:\n",
    "        return path_dict"
   ]
  },
  {
   "cell_type": "code",
   "execution_count": null,
   "metadata": {},
   "outputs": [],
   "source": [
    "tree = construct_tree(vocab, freq)\n",
    "\n",
    "path_dict = {}\n",
    "path = []\n",
    "path_dict = encode_tree(tree, path_dict, path)\n",
    "path_dict"
   ]
  },
  {
   "cell_type": "markdown",
   "metadata": {},
   "source": [
    "### GloVe"
   ]
  },
  {
   "cell_type": "code",
   "execution_count": 1,
   "metadata": {},
   "outputs": [],
   "source": [
    "import numpy as np\n",
    "import yaml\n",
    "import os\n",
    "import sys\n",
    "sys.path.append(\"./src/\")\n",
    "from src.core.word2vec.dataset import CBOWDataset\n",
    "\n",
    "from collections import defaultdict\n",
    "import tqdm\n",
    "import time\n",
    "\n",
    "%matplotlib inline\n",
    "import matplotlib.pyplot as plt\n",
    "import seaborn as sns\n",
    "\n",
    "import torch\n",
    "import torch.nn as nn\n",
    "import torch.nn.functional as F\n",
    "from torch.utils.data import TensorDataset, DataLoader\n",
    "\n",
    "from sklearn.model_selection import train_test_split"
   ]
  },
  {
   "cell_type": "code",
   "execution_count": 2,
   "metadata": {},
   "outputs": [
    {
     "name": "stderr",
     "output_type": "stream",
     "text": [
      "Extracting from: neg: 100%|██████████| 5/5 [00:00<00:00, 107.32it/s]\n",
      "Extracting from: pos: 100%|██████████| 5/5 [00:00<00:00, 140.87it/s]\n",
      "Extracting from: unsup: 100%|██████████| 5/5 [00:00<00:00, 107.52it/s]\n"
     ]
    }
   ],
   "source": [
    "config_path = \"./configs/glove.yaml\"\n",
    "with open(config_path, \"r\") as stream:\n",
    "    config_dict = yaml.safe_load(stream)\n",
    "\n",
    "cbow_ds = CBOWDataset(config_dict)\n",
    "\n",
    "text_ls = cbow_ds.text_ls\n",
    "word2id = cbow_ds.word2id\n",
    "id2word = cbow_ds.id2word\n",
    "num_vocab = len(word2id)\n",
    "context = config_dict[\"dataset\"][\"context\"]\n",
    "\n",
    "val_split = config_dict[\"dataset\"][\"val_split\"]\n",
    "batch_size = config_dict[\"dataset\"][\"batch_size\"]\n",
    "seed = config_dict[\"dataset\"][\"batch_size\"]\n",
    "\n",
    "xmax = config_dict[\"train\"][\"x_max\"]\n",
    "alpha = config_dict[\"train\"][\"alpha\"]"
   ]
  },
  {
   "cell_type": "code",
   "execution_count": 3,
   "metadata": {},
   "outputs": [
    {
     "name": "stderr",
     "output_type": "stream",
     "text": [
      "Extracting from: neg: 100%|██████████| 5/5 [00:00<00:00, 273.71it/s]\n",
      "Extracting from: pos: 100%|██████████| 5/5 [00:00<00:00, 364.00it/s]\n",
      "Extracting from: unsup: 100%|██████████| 5/5 [00:00<00:00, 395.03it/s]\n",
      "Training: 100%|██████████| 127/127 [00:04<00:00, 25.92it/s]\n",
      "Validation: 100%|██████████| 31/31 [00:03<00:00,  8.30it/s]\n",
      "Training: 100%|██████████| 127/127 [00:04<00:00, 30.36it/s]\n",
      "Validation: 100%|██████████| 31/31 [00:03<00:00,  8.28it/s]\n",
      "Training: 100%|██████████| 127/127 [00:03<00:00, 32.75it/s]\n",
      "Validation: 100%|██████████| 31/31 [00:03<00:00,  8.71it/s]\n",
      "e:\\anaconda\\envs\\nlp_env\\lib\\site-packages\\joblib\\externals\\loky\\backend\\context.py:136: UserWarning: Could not find the number of physical cores for the following reason:\n",
      "[WinError 2] The system cannot find the file specified\n",
      "Returning the number of logical cores instead. You can silence this warning by setting LOKY_MAX_CPU_COUNT to the number of cores you want to use.\n",
      "  warnings.warn(\n",
      "  File \"e:\\anaconda\\envs\\nlp_env\\lib\\site-packages\\joblib\\externals\\loky\\backend\\context.py\", line 257, in _count_physical_cores\n",
      "    cpu_info = subprocess.run(\n",
      "  File \"e:\\anaconda\\envs\\nlp_env\\lib\\subprocess.py\", line 501, in run\n",
      "    with Popen(*popenargs, **kwargs) as process:\n",
      "  File \"e:\\anaconda\\envs\\nlp_env\\lib\\subprocess.py\", line 947, in __init__\n",
      "    self._execute_child(args, executable, preexec_fn, close_fds,\n",
      "  File \"e:\\anaconda\\envs\\nlp_env\\lib\\subprocess.py\", line 1416, in _execute_child\n",
      "    hp, ht, pid, tid = _winapi.CreateProcess(executable, args,\n"
     ]
    },
    {
     "data": {
      "image/png": "[encoded data removed]",
      "text/plain": [
       "<Figure size 1500x1500 with 2 Axes>"
      ]
     },
     "metadata": {},
     "output_type": "display_data"
    }
   ],
   "source": [
    "from core.glove.glove import GloVe\n",
    "\n",
    "glove_model = GloVe(config_dict)\n",
    "glove_model.run()"
   ]
  },
  {
   "cell_type": "code",
   "execution_count": 9,
   "metadata": {},
   "outputs": [
    {
     "data": {
      "text/plain": [
       "dict_keys(['br', 'film', 'time', 'one', 'movie', 'like', 'airport', 'could', 'two', 'much', 'see', 'never', 'good', 'love', 'bolt', 'day', 'scene', 'think', 'plane', 'three', 'little', 'scenes', 'cagney', 'great', 'seen', 'plot', 'many', 'acting', 'oscar', 'people', 'brooks', 'even', 'make', 'future', '77', 'air', 'help', 'films', 'made', 'well', 'high', 'chasers', 'etting', 'story', 'man', 'audience', 'making', 'dialogue', 'would', 'better', 'stars', 'rich', 'james', 'also', 'right', 'disaster', 'say', 'far', 'best', 'maybe', 'either', 'something', 'look', 'cut', 'looks', 'leading', 'actors', 'watch', 'take', 'movies', 'life', 'without', 'allen', 'characters', 'bromwell', 'teachers', 'years', 'lead', 'homeless', 'streets', 'bet', 'mel', 'warren', 'opening', 'comedy', 'new', '747', 'valuable', 'takes', 'different', 'second', 'classic', 'although', 'actually', 'liked', 'character', 'dull', 'minutes', 'george', 'back', '<UNK>'])"
      ]
     },
     "execution_count": 9,
     "metadata": {},
     "output_type": "execute_result"
    }
   ],
   "source": [
    "glove_model.glove_ds.word2id.keys()"
   ]
  },
  {
   "cell_type": "code",
   "execution_count": 13,
   "metadata": {},
   "outputs": [
    {
     "data": {
      "text/plain": [
       "torch.Size([63, 128])"
      ]
     },
     "execution_count": 13,
     "metadata": {},
     "output_type": "execute_result"
    }
   ],
   "source": [
    "from preprocess.utils import preprocess_text\n",
    "\n",
    "operations = config_dict[\"preprocess\"][\"operations\"]\n",
    "sentence = preprocess_text(text_ls[0], operations)\n",
    "word_ls = sentence.split()\n",
    "vocab = glove_model.glove_ds.word2id.keys()\n",
    "word_ls = [i if i in vocab else \"<UNK>\" for i in word_ls]\n",
    "word_ids = [glove_model.glove_ds.word2id[word] for word in word_ls]\n",
    "word_ids = torch.Tensor(word_ids).to(torch.long)\n",
    "word_embeds = glove_model.model.ctr_embedding(word_ids)\n",
    "word_embeds.shape"
   ]
  },
  {
   "cell_type": "code",
   "execution_count": 28,
   "metadata": {},
   "outputs": [],
   "source": [
    "cooccur_mat = np.zeros((num_vocab, num_vocab))\n",
    "\n",
    "for text in text_ls:\n",
    "    words = text.split()\n",
    "\n",
    "    if len(words) < 1 + context:\n",
    "        continue\n",
    "\n",
    "    for i in range(context, len(words)-context):\n",
    "        id_i = word2id[words[i]]\n",
    "        for j in range(i-context, i+context):\n",
    "            id_j = word2id[words[j]]\n",
    "            dist = np.abs(j-i)\n",
    "            if dist != 0: cooccur_mat[id_i][id_j] += 1/dist\n",
    "\n",
    "X_ctr, X_cxt = np.indices((num_vocab, num_vocab))\n",
    "X_ctr, X_cxt = X_ctr.flatten(), X_cxt.flatten()\n",
    "X_count = cooccur_mat.flatten()\n",
    "# fig, ax = plt.subplots(1, 1, figsize=(15,15))\n",
    "# sns.heatmap(cooccur_mat, xticklabels=word2id.keys(), yticklabels=word2id.keys(), ax=ax)"
   ]
  },
  {
   "cell_type": "code",
   "execution_count": null,
   "metadata": {},
   "outputs": [],
   "source": [
    "# glove_model = GloVeModel(config_dict)\n",
    "# optim = torch.optim.Adam(glove_model.parameters(), lr=config_dict[\"train\"][\"lr\"])\n",
    "\n",
    "# glove_trainer = GloVeTrainer(glove_model, optim, config_dict)\n",
    "# glove_trainer.fit(train_loader, val_loader)"
   ]
  },
  {
   "cell_type": "markdown",
   "metadata": {},
   "source": [
    "### RNN"
   ]
  },
  {
   "cell_type": "code",
   "execution_count": 44,
   "metadata": {},
   "outputs": [],
   "source": [
    "import numpy as np\n",
    "import yaml\n",
    "import os\n",
    "import sys\n",
    "sys.path.append(\"./src/\")\n",
    "from preprocess.imdb_reviews import PreprocessIMDB\n",
    "from src.core.word2vec.dataset import CBOWDataset\n",
    "\n",
    "from collections import defaultdict\n",
    "import tqdm\n",
    "import time\n",
    "\n",
    "%matplotlib inline\n",
    "import matplotlib.pyplot as plt\n",
    "import seaborn as sns\n",
    "\n",
    "import torch\n",
    "import torch.nn as nn\n",
    "import torch.nn.functional as F\n",
    "from torch.utils.data import TensorDataset, DataLoader\n",
    "\n",
    "from sklearn.model_selection import train_test_split\n",
    "from sklearn.preprocessing import LabelEncoder"
   ]
  },
  {
   "cell_type": "code",
   "execution_count": 45,
   "metadata": {},
   "outputs": [
    {
     "name": "stderr",
     "output_type": "stream",
     "text": [
      "Extracting from: neg: 100%|██████████| 10/10 [00:00<00:00, 855.13it/s]\n",
      "Extracting from: pos: 100%|██████████| 10/10 [00:00<00:00, 312.27it/s]\n",
      "Extracting from: unsup: 100%|██████████| 10/10 [00:00<00:00, 310.55it/s]\n"
     ]
    },
    {
     "name": "stdout",
     "output_type": "stream",
     "text": [
      "(array([0, 1, 2]), array([10, 10, 10]))\n"
     ]
    },
    {
     "data": {
      "text/plain": [
       "(array([ 0.,  0.,  0.,  0.,  0., 30.,  0.,  0.,  0.,  0.]),\n",
       " array([35.5, 35.6, 35.7, 35.8, 35.9, 36. , 36.1, 36.2, 36.3, 36.4, 36.5]),\n",
       " <BarContainer object of 10 artists>)"
      ]
     },
     "execution_count": 45,
     "metadata": {},
     "output_type": "execute_result"
    },
    {
     "data": {
      "image/png": "[encoded data removed]",
      "text/plain": [
       "<Figure size 640x480 with 1 Axes>"
      ]
     },
     "metadata": {},
     "output_type": "display_data"
    }
   ],
   "source": [
    "### Dataset\n",
    "config_path = \"./configs/rnn.yaml\"\n",
    "with open(config_path, \"r\") as stream:\n",
    "    config_dict = yaml.safe_load(stream)\n",
    "\n",
    "cbow_ds = CBOWDataset(config_dict)\n",
    "\n",
    "text_ls = cbow_ds.text_ls\n",
    "label_ls = np.array(cbow_ds.preproc_cls.label_ls)\n",
    "le = LabelEncoder()\n",
    "label_ls = le.fit_transform(label_ls)\n",
    "word2id = cbow_ds.word2id\n",
    "id2word = cbow_ds.id2word\n",
    "num_vocab = len(word2id)\n",
    "\n",
    "print(np.unique(label_ls, return_counts=True))\n",
    "\n",
    "seq_len = min([len(i.split()) for i in text_ls]) \n",
    "config_dict[\"dataset\"][\"seq_len\"] = seq_len\n",
    "\n",
    "text_id_ls = []\n",
    "for text in text_ls:\n",
    "    ls = []\n",
    "    for word in text.split()[:seq_len]:\n",
    "        ls.append(word2id[word])\n",
    "    text_id_ls.append(ls)\n",
    "\n",
    "text_id_ls, label_ls = np.array(text_id_ls), np.array(label_ls)"
   ]
  },
  {
   "cell_type": "code",
   "execution_count": 46,
   "metadata": {},
   "outputs": [
    {
     "name": "stdout",
     "output_type": "stream",
     "text": [
      "tensor([[100., 100., 100., 100.,  63., 100., 100., 100.,  52., 100., 100., 100.,\n",
      "           9.,   5., 100.,  55., 100., 100., 100.,  46.,   1., 100., 100.,   7.,\n",
      "         100., 100., 100., 100., 100., 100., 100., 100., 100.,   2., 100.,  47.],\n",
      "        [100., 100., 100.,   0.,   0.,   2., 100., 100.,  33.,  23.,   8., 100.,\n",
      "         100., 100., 100.,  26.,  39., 100.,  11.,   3., 100., 100.,   8.,  98.,\n",
      "         100., 100., 100., 100., 100., 100.,  11.,   3., 100.,  95., 100., 100.],\n",
      "        [100., 100.,  81.,   1.,   9.,  46., 100.,  74.,  94.,  49., 100., 100.,\n",
      "         100., 100.,  33.,   6., 100., 100., 100., 100.,  13., 100., 100.,  34.,\n",
      "          13., 100.,  70.,  31., 100., 100., 100., 100.,  27.,  51.,   7., 100.],\n",
      "        [100.,  20., 100.,  32., 100.,  60., 100., 100., 100., 100., 100.,   2.,\n",
      "         100., 100.,  19.,   7., 100., 100., 100., 100., 100., 100., 100., 100.,\n",
      "           0.,   0., 100.,   2., 100., 100., 100., 100., 100., 100., 100., 100.],\n",
      "        [100., 100., 100., 100., 100., 100.,  28.,  14., 100.,  92., 100., 100.,\n",
      "         100., 100., 100., 100.,  79., 100., 100.,  43.,  25., 100., 100., 100.,\n",
      "         100., 100., 100., 100., 100., 100., 100., 100., 100., 100., 100., 100.],\n",
      "        [100.,  80., 100.,  87., 100.,   5., 100., 100.,  36., 100., 100.,  28.,\n",
      "         100., 100., 100., 100., 100.,  80., 100.,   9., 100., 100., 100., 100.,\n",
      "         100., 100., 100., 100.,  27.,  91., 100., 100., 100., 100., 100., 100.],\n",
      "        [100., 100., 100.,  69., 100.,  78., 100., 100.,  38.,  16., 100., 100.,\n",
      "         100.,  83., 100., 100., 100., 100., 100., 100.,  15., 100., 100., 100.,\n",
      "         100., 100.,  29., 100., 100., 100., 100.,  15.,  76., 100., 100., 100.],\n",
      "        [100.,  41.,   1., 100., 100., 100., 100., 100., 100., 100.,  20., 100.,\n",
      "         100., 100., 100., 100., 100., 100.,  10., 100.,  11.,   3., 100., 100.,\n",
      "         100., 100.,   1.,  77., 100., 100., 100.,  35.,  14., 100., 100., 100.]])\n",
      "tensor([2., 2., 1., 2., 1., 1., 1., 2.])\n"
     ]
    }
   ],
   "source": [
    "### Data Loader\n",
    "\n",
    "val_split = config_dict[\"dataset\"][\"val_split\"]\n",
    "batch_size = config_dict[\"dataset\"][\"batch_size\"]\n",
    "seed = config_dict[\"dataset\"][\"batch_size\"]\n",
    "\n",
    "def create_dataloader(X, y, val_split, batch_size, seed):\n",
    "    train_x, val_x, train_y, val_y = train_test_split(X, y, test_size=val_split, random_state=seed)\n",
    "\n",
    "    train_ds = TensorDataset(torch.Tensor(train_x), torch.Tensor(train_y))\n",
    "    train_loader = DataLoader(train_ds, batch_size=batch_size, shuffle=True, drop_last=True, num_workers=1, pin_memory=True)\n",
    "\n",
    "    val_ds = TensorDataset(torch.Tensor(val_x), torch.Tensor(val_y))\n",
    "    val_loader = DataLoader(val_ds, batch_size=batch_size, shuffle=False, drop_last=True, num_workers=1, pin_memory=True)\n",
    "    return train_loader, val_loader\n",
    "\n",
    "train_loader, val_loader = create_dataloader(text_id_ls, label_ls, val_split, batch_size, seed)\n",
    "\n",
    "X, y = next(iter(train_loader))\n",
    "print(X)\n",
    "print(y)"
   ]
  },
  {
   "cell_type": "code",
   "execution_count": 49,
   "metadata": {},
   "outputs": [],
   "source": [
    "### RNN Cell\n",
    "\n",
    "class RNNCell(nn.Module):\n",
    "    def __init__(self, h_dim, inp_x_dim, out_x_dim):\n",
    "        super(RNNCell, self).__init__()\n",
    "        \n",
    "        self.hh_dense = nn.Linear(h_dim, h_dim)\n",
    "        self.hx_dense = nn.Linear(inp_x_dim, h_dim)\n",
    "\n",
    "        self.xh_dense = nn.Linear(h_dim, out_x_dim)\n",
    "\n",
    "    def forward(self, ht_1, xt):\n",
    "        ht = nn.Tanh()(self.hh_dense(ht_1) + self.hx_dense(xt))\n",
    "        yt = self.xh_dense(ht)\n",
    "        return ht, yt\n",
    "\n",
    "class RNNModel(nn.Module):\n",
    "    def __init__(self, config_dict):\n",
    "        super(RNNModel, self).__init__()\n",
    "\n",
    "        self.seq_len = config_dict[\"dataset\"][\"seq_len\"]\n",
    "        self.num_layers = config_dict[\"model\"][\"num_layers\"]\n",
    "        self.h_dims = config_dict[\"model\"][\"h_dim\"]\n",
    "        self.x_dims = config_dict[\"model\"][\"x_dim\"]\n",
    "        self.clf_dims = config_dict[\"model\"][\"clf_dim\"]\n",
    "        self.num_classes = config_dict[\"dataset\"][\"num_classes\"]\n",
    "\n",
    "        num_vocab = 1 + config_dict[\"dataset\"][\"num_vocab\"]\n",
    "        embed_dim = config_dict[\"model\"][\"embed_dim\"]\n",
    "        self.embed_layer = nn.Embedding(num_vocab, embed_dim)\n",
    "\n",
    "        self.rnn_cells = []\n",
    "        for i in range(self.num_layers):\n",
    "            h_dim = self.h_dims[i]\n",
    "            inp_x_dim, out_x_dim = self.x_dims[i], self.x_dims[i+1]\n",
    "            self.rnn_cells.append(RNNCell(h_dim, inp_x_dim, out_x_dim))\n",
    "\n",
    "    def forward(self, X):\n",
    "        x_embed = self.embed_layer(X.to(torch.long))\n",
    "        num_samples = x_embed.size(0)\n",
    "        \n",
    "        yt_1s = x_embed\n",
    "        for i in range(self.num_layers):\n",
    "            yts = []\n",
    "            rnn_cell = self.rnn_cells[i]\n",
    "\n",
    "            ht = torch.randn((num_samples, self.h_dims[i]))\n",
    "            for j in range(self.seq_len):\n",
    "                ht, yt = rnn_cell(ht, yt_1s[:, j, :])\n",
    "                yts.append(yt)\n",
    "\n",
    "            yt_1s = torch.transpose(torch.stack(yts), 0, 1)\n",
    "\n",
    "        out = yt_1s[:, -1, :]\n",
    "        for i in range(len(self.clf_dims)-1):\n",
    "            out = nn.Linear(self.clf_dims[i], self.clf_dims[i+1])(out)\n",
    "            out = nn.ReLU()(out)\n",
    "\n",
    "        out = nn.Linear(self.clf_dims[-1], self.num_classes)(out)\n",
    "        out = nn.Softmax()(out)\n",
    "\n",
    "        return out"
   ]
  },
  {
   "cell_type": "code",
   "execution_count": 50,
   "metadata": {},
   "outputs": [
    {
     "name": "stderr",
     "output_type": "stream",
     "text": [
      "e:\\anaconda\\envs\\nlp_env\\lib\\site-packages\\torch\\nn\\modules\\module.py:1736: UserWarning: Implicit dimension choice for softmax has been deprecated. Change the call to include dim=X as an argument.\n",
      "  return self._call_impl(*args, **kwargs)\n"
     ]
    },
    {
     "data": {
      "text/plain": [
       "tensor([[0.4922, 0.5078],\n",
       "        [0.4919, 0.5081],\n",
       "        [0.4895, 0.5105],\n",
       "        [0.4909, 0.5091],\n",
       "        [0.4909, 0.5091],\n",
       "        [0.4909, 0.5091],\n",
       "        [0.4909, 0.5091],\n",
       "        [0.4902, 0.5098]], grad_fn=<SoftmaxBackward0>)"
      ]
     },
     "execution_count": 50,
     "metadata": {},
     "output_type": "execute_result"
    }
   ],
   "source": [
    "rnn_model = RNNModel(config_dict)\n",
    "out = rnn_model(X)\n",
    "out"
   ]
  },
  {
   "cell_type": "code",
   "execution_count": null,
   "metadata": {},
   "outputs": [],
   "source": []
  }
 ],
 "metadata": {
  "kernelspec": {
   "display_name": "nlp_env",
   "language": "python",
   "name": "python3"
  },
  "language_info": {
   "codemirror_mode": {
    "name": "ipython",
    "version": 3
   },
   "file_extension": ".py",
   "mimetype": "text/x-python",
   "name": "python",
   "nbconvert_exporter": "python",
   "pygments_lexer": "ipython3",
   "version": "3.9.0"
  }
 },
 "nbformat": 4,
 "nbformat_minor": 2
}
