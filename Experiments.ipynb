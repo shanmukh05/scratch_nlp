{
 "cells": [
  {
   "cell_type": "code",
   "execution_count": 1,
   "metadata": {},
   "outputs": [],
   "source": [
    "import os\n",
    "import yaml\n",
    "import tqdm\n",
    "import time\n",
    "import pandas as pd\n",
    "import numpy as np\n",
    "import sys\n",
    "import itertools\n",
    "from collections import defaultdict\n",
    "sys.path.append(\"./src/\")\n",
    "from preprocess.imdb_reviews import PreprocessIMDB\n",
    "\n",
    "from sklearn.model_selection import train_test_split\n",
    "\n",
    "import torch\n",
    "import torch.nn as nn\n",
    "import torch.nn.functional as F\n",
    "from torch.utils.data import TensorDataset, DataLoader"
   ]
  },
  {
   "cell_type": "markdown",
   "metadata": {},
   "source": [
    "### Random"
   ]
  },
  {
   "cell_type": "code",
   "execution_count": 1,
   "metadata": {},
   "outputs": [
    {
     "name": "stderr",
     "output_type": "stream",
     "text": [
      "[nltk_data] Downloading package stopwords to\n",
      "[nltk_data]     C:\\Users\\shanmukh\\AppData\\Roaming\\nltk_data...\n",
      "[nltk_data]   Package stopwords is already up-to-date!\n",
      "Traceback (most recent call last):\n",
      "  File \"d:\\Learning\\NLP\\Projects\\scratch_nlp\\src\\main.py\", line 62, in <module>\n",
      "    main()\n",
      "  File \"d:\\Learning\\NLP\\Projects\\scratch_nlp\\src\\main.py\", line 58, in main\n",
      "    algo.run()\n",
      "  File \"d:\\Learning\\NLP\\Projects\\scratch_nlp\\src\\core\\bow\\bow.py\", line 16, in run\n",
      "    self.fit_transform()\n",
      "  File \"d:\\Learning\\NLP\\Projects\\scratch_nlp\\src\\core\\bow\\bow.py\", line 30, in fit_transform\n",
      "    self.fit(text_ls, y)\n",
      "  File \"d:\\Learning\\NLP\\Projects\\scratch_nlp\\src\\core\\bow\\bow.py\", line 23, in fit\n",
      "    for text in text_ls:\n",
      "TypeError: 'NoneType' object is not iterable\n"
     ]
    }
   ],
   "source": [
    "!python src/main.py --config_path \"D:\\Learning\\NLP\\Projects\\scratch_nlp\\configs\\bow.yaml\" --algo \"BOW\" --log_folder \"D:\\Learning\\NLP\\Projects\\scratch_nlp\\output\\bow\""
   ]
  },
  {
   "cell_type": "code",
   "execution_count": 1,
   "metadata": {},
   "outputs": [
    {
     "data": {
      "text/html": [
       "<div>\n",
       "<style scoped>\n",
       "    .dataframe tbody tr th:only-of-type {\n",
       "        vertical-align: middle;\n",
       "    }\n",
       "\n",
       "    .dataframe tbody tr th {\n",
       "        vertical-align: top;\n",
       "    }\n",
       "\n",
       "    .dataframe thead th {\n",
       "        text-align: right;\n",
       "    }\n",
       "</style>\n",
       "<table border=\"1\" class=\"dataframe\">\n",
       "  <thead>\n",
       "    <tr style=\"text-align: right;\">\n",
       "      <th></th>\n",
       "      <th>0</th>\n",
       "    </tr>\n",
       "  </thead>\n",
       "  <tbody>\n",
       "    <tr>\n",
       "      <th>A</th>\n",
       "      <td>2</td>\n",
       "    </tr>\n",
       "    <tr>\n",
       "      <th>B</th>\n",
       "      <td>4</td>\n",
       "    </tr>\n",
       "  </tbody>\n",
       "</table>\n",
       "</div>"
      ],
      "text/plain": [
       "   0\n",
       "A  2\n",
       "B  4"
      ]
     },
     "execution_count": 1,
     "metadata": {},
     "output_type": "execute_result"
    }
   ],
   "source": [
    "import pandas as pd\n",
    "\n",
    "dict_ = {\n",
    "    \"A\": 2,\n",
    "    \"B\": 4\n",
    "}\n",
    "df = pd.DataFrame(dict_, index=[0]).T\n",
    "df"
   ]
  },
  {
   "cell_type": "code",
   "execution_count": 36,
   "metadata": {},
   "outputs": [
    {
     "data": {
      "text/plain": [
       "(600, 9834)"
      ]
     },
     "execution_count": 36,
     "metadata": {},
     "output_type": "execute_result"
    }
   ],
   "source": [
    "import numpy as np\n",
    "\n",
    "arr = np.load(\"./output/bow/Text Vector.npy\")\n",
    "arr.shape"
   ]
  },
  {
   "cell_type": "code",
   "execution_count": 4,
   "metadata": {},
   "outputs": [
    {
     "data": {
      "text/plain": [
       "['e:\\\\anaconda\\\\envs\\\\nlp_env',\n",
       " 'C:\\\\Program Files\\\\dotnet\\\\',\n",
       " 'C:\\\\Program Files\\\\Git\\\\cmd',\n",
       " 'E:\\\\anaconda\\\\Scripts',\n",
       " 'E:\\\\anaconda\\\\Library',\n",
       " 'E:\\\\anaconda\\\\Library\\\\bin',\n",
       " 'E:\\\\anaconda\\\\Library\\\\mingw-w64\\\\bin',\n",
       " 'C:\\\\Users\\\\shanmukh\\\\AppData\\\\Local\\\\Programs\\\\Python\\\\Python38-32\\\\Scripts\\\\',\n",
       " 'C:\\\\Users\\\\shanmukh\\\\AppData\\\\Local\\\\Programs\\\\Python\\\\Python38-32\\\\',\n",
       " 'C:\\\\Users\\\\shanmukh\\\\AppData\\\\Local\\\\Microsoft\\\\WindowsApps',\n",
       " 'C:\\\\Users\\\\shanmukh\\\\AppData\\\\Local\\\\GitHubDesktop\\\\bin',\n",
       " 'C:\\\\Program Files\\\\mingw-w64\\\\x86_64-8.1.0-posix-seh-rt_v6-rev0\\\\mingw64\\\\bin',\n",
       " 'C:\\\\Users\\\\shanmukh\\\\AppData\\\\Local\\\\Microsoft\\\\WindowsApps',\n",
       " 'D:\\\\heroku\\\\bin',\n",
       " 'E:\\\\vscode\\\\Microsoft VS Code\\\\bin',\n",
       " 'E:\\\\PyCharm\\\\PyCharm Community Edition 2021.2.3\\\\bin',\n",
       " '',\n",
       " 'E:\\\\anaconda',\n",
       " 'E:\\\\anaconda\\\\Library\\\\bin',\n",
       " 'E:\\\\anaconda\\\\Library\\\\bin',\n",
       " 'E:\\\\apache-jena-4.7.0\\\\bat',\n",
       " 'C:\\\\Program Files\\\\Java\\\\jdk-19\\\\bin',\n",
       " 'C:\\\\Program Files\\\\Common Files\\\\Oracle\\\\Java\\\\javapath',\n",
       " 'C:\\\\Users\\\\shanmukh\\\\Downloads\\\\spark-3.3.2-bin-hadoop3\\\\spark-3.3.2-bin-hadoop3',\n",
       " '',\n",
       " 'C:\\\\Program Files\\\\dotnet\\\\',\n",
       " 'C:\\\\Program Files\\\\Git\\\\cmd',\n",
       " 'E:\\\\anaconda\\\\Scripts',\n",
       " 'E:\\\\anaconda\\\\Library',\n",
       " 'E:\\\\anaconda\\\\Library\\\\bin',\n",
       " 'E:\\\\anaconda\\\\Library\\\\mingw-w64\\\\bin',\n",
       " 'C:\\\\Users\\\\shanmukh\\\\AppData\\\\Local\\\\Programs\\\\Python\\\\Python38-32\\\\Scripts\\\\',\n",
       " 'C:\\\\Users\\\\shanmukh\\\\AppData\\\\Local\\\\Programs\\\\Python\\\\Python38-32\\\\',\n",
       " 'C:\\\\Users\\\\shanmukh\\\\AppData\\\\Local\\\\Microsoft\\\\WindowsApps',\n",
       " 'C:\\\\Users\\\\shanmukh\\\\AppData\\\\Local\\\\GitHubDesktop\\\\bin',\n",
       " 'C:\\\\Program Files\\\\mingw-w64\\\\x86_64-8.1.0-posix-seh-rt_v6-rev0\\\\mingw64\\\\bin',\n",
       " 'C:\\\\Users\\\\shanmukh\\\\AppData\\\\Local\\\\Microsoft\\\\WindowsApps',\n",
       " 'D:\\\\heroku\\\\bin',\n",
       " 'E:\\\\vscode\\\\Microsoft VS Code\\\\bin',\n",
       " 'E:\\\\PyCharm\\\\PyCharm Community Edition 2021.2.3\\\\bin',\n",
       " '',\n",
       " 'E:\\\\anaconda',\n",
       " 'E:\\\\anaconda\\\\Library\\\\bin',\n",
       " 'E:\\\\anaconda\\\\Library\\\\bin',\n",
       " 'E:\\\\apache-jena-4.7.0\\\\bat',\n",
       " 'C:\\\\Program Files\\\\Java\\\\jdk-19\\\\bin',\n",
       " 'C:\\\\Program Files\\\\Common Files\\\\Oracle\\\\Java\\\\javapath',\n",
       " 'C:\\\\Users\\\\shanmukh\\\\Downloads\\\\spark-3.3.2-bin-hadoop3\\\\spark-3.3.2-bin-hadoop3',\n",
       " '']"
      ]
     },
     "execution_count": 4,
     "metadata": {},
     "output_type": "execute_result"
    }
   ],
   "source": [
    "import os\n",
    "\n",
    "x = os.environ['PATH']\n",
    "x.split(\";\")"
   ]
  },
  {
   "cell_type": "code",
   "execution_count": 27,
   "metadata": {},
   "outputs": [
    {
     "data": {
      "text/html": [
       "<div>\n",
       "<style scoped>\n",
       "    .dataframe tbody tr th:only-of-type {\n",
       "        vertical-align: middle;\n",
       "    }\n",
       "\n",
       "    .dataframe tbody tr th {\n",
       "        vertical-align: top;\n",
       "    }\n",
       "\n",
       "    .dataframe thead th {\n",
       "        text-align: right;\n",
       "    }\n",
       "</style>\n",
       "<table border=\"1\" class=\"dataframe\">\n",
       "  <thead>\n",
       "    <tr style=\"text-align: right;\">\n",
       "      <th></th>\n",
       "      <th>Word</th>\n",
       "      <th>Frequency</th>\n",
       "    </tr>\n",
       "  </thead>\n",
       "  <tbody>\n",
       "    <tr>\n",
       "      <th>0</th>\n",
       "      <td>better whatev person love one</td>\n",
       "      <td>1</td>\n",
       "    </tr>\n",
       "    <tr>\n",
       "      <th>1</th>\n",
       "      <td>gate treasur hunter oh excus</td>\n",
       "      <td>1</td>\n",
       "    </tr>\n",
       "    <tr>\n",
       "      <th>2</th>\n",
       "      <td>atmospher place jump scare also</td>\n",
       "      <td>1</td>\n",
       "    </tr>\n",
       "    <tr>\n",
       "      <th>3</th>\n",
       "      <td>deliv like joke either riley</td>\n",
       "      <td>1</td>\n",
       "    </tr>\n",
       "    <tr>\n",
       "      <th>4</th>\n",
       "      <td>forsaken desert giant forest full</td>\n",
       "      <td>1</td>\n",
       "    </tr>\n",
       "  </tbody>\n",
       "</table>\n",
       "</div>"
      ],
      "text/plain": [
       "                                Word  Frequency\n",
       "0      better whatev person love one          1\n",
       "1       gate treasur hunter oh excus          1\n",
       "2    atmospher place jump scare also          1\n",
       "3       deliv like joke either riley          1\n",
       "4  forsaken desert giant forest full          1"
      ]
     },
     "execution_count": 27,
     "metadata": {},
     "output_type": "execute_result"
    }
   ],
   "source": [
    "import pandas as pd\n",
    "\n",
    "df = pd.read_csv(r\"D:\\Learning\\NLP\\Projects\\scratch_nlp\\output\\ngram\\Vocab Frequency.csv\")\n",
    "df.head()"
   ]
  },
  {
   "cell_type": "code",
   "execution_count": 28,
   "metadata": {},
   "outputs": [
    {
     "data": {
      "text/html": [
       "<div>\n",
       "<style scoped>\n",
       "    .dataframe tbody tr th:only-of-type {\n",
       "        vertical-align: middle;\n",
       "    }\n",
       "\n",
       "    .dataframe tbody tr th {\n",
       "        vertical-align: top;\n",
       "    }\n",
       "\n",
       "    .dataframe thead th {\n",
       "        text-align: right;\n",
       "    }\n",
       "</style>\n",
       "<table border=\"1\" class=\"dataframe\">\n",
       "  <thead>\n",
       "    <tr style=\"text-align: right;\">\n",
       "      <th></th>\n",
       "      <th>Word</th>\n",
       "      <th>Frequency</th>\n",
       "    </tr>\n",
       "  </thead>\n",
       "  <tbody>\n",
       "    <tr>\n",
       "      <th>0</th>\n",
       "      <td>el día de la bestia</td>\n",
       "      <td>2</td>\n",
       "    </tr>\n",
       "    <tr>\n",
       "      <th>1</th>\n",
       "      <td>anoth episod like one brak</td>\n",
       "      <td>2</td>\n",
       "    </tr>\n",
       "    <tr>\n",
       "      <th>2</th>\n",
       "      <td>atmospher place jump scare also</td>\n",
       "      <td>1</td>\n",
       "    </tr>\n",
       "    <tr>\n",
       "      <th>3</th>\n",
       "      <td>deliv like joke either riley</td>\n",
       "      <td>1</td>\n",
       "    </tr>\n",
       "    <tr>\n",
       "      <th>4</th>\n",
       "      <td>forsaken desert giant forest full</td>\n",
       "      <td>1</td>\n",
       "    </tr>\n",
       "  </tbody>\n",
       "</table>\n",
       "</div>"
      ],
      "text/plain": [
       "                                Word  Frequency\n",
       "0                el día de la bestia          2\n",
       "1         anoth episod like one brak          2\n",
       "2    atmospher place jump scare also          1\n",
       "3       deliv like joke either riley          1\n",
       "4  forsaken desert giant forest full          1"
      ]
     },
     "execution_count": 28,
     "metadata": {},
     "output_type": "execute_result"
    }
   ],
   "source": [
    "df.sort_values(by=\"Frequency\", ascending=False, ignore_index=True, inplace=True)\n",
    "df.head()"
   ]
  },
  {
   "cell_type": "code",
   "execution_count": 30,
   "metadata": {},
   "outputs": [
    {
     "name": "stdout",
     "output_type": "stream",
     "text": [
      "['Word_1', 'Word_2', 'Word_3', 'Word_4', 'Word_5']\n"
     ]
    },
    {
     "data": {
      "text/html": [
       "<div>\n",
       "<style scoped>\n",
       "    .dataframe tbody tr th:only-of-type {\n",
       "        vertical-align: middle;\n",
       "    }\n",
       "\n",
       "    .dataframe tbody tr th {\n",
       "        vertical-align: top;\n",
       "    }\n",
       "\n",
       "    .dataframe thead th {\n",
       "        text-align: right;\n",
       "    }\n",
       "</style>\n",
       "<table border=\"1\" class=\"dataframe\">\n",
       "  <thead>\n",
       "    <tr style=\"text-align: right;\">\n",
       "      <th></th>\n",
       "      <th>Word</th>\n",
       "      <th>Frequency</th>\n",
       "      <th>Word_1</th>\n",
       "      <th>Word_2</th>\n",
       "      <th>Word_3</th>\n",
       "      <th>Word_4</th>\n",
       "      <th>Word_5</th>\n",
       "    </tr>\n",
       "  </thead>\n",
       "  <tbody>\n",
       "    <tr>\n",
       "      <th>0</th>\n",
       "      <td>el día de la bestia</td>\n",
       "      <td>2</td>\n",
       "      <td>el</td>\n",
       "      <td>día</td>\n",
       "      <td>de</td>\n",
       "      <td>la</td>\n",
       "      <td>bestia</td>\n",
       "    </tr>\n",
       "    <tr>\n",
       "      <th>1</th>\n",
       "      <td>anoth episod like one brak</td>\n",
       "      <td>2</td>\n",
       "      <td>anoth</td>\n",
       "      <td>episod</td>\n",
       "      <td>like</td>\n",
       "      <td>one</td>\n",
       "      <td>brak</td>\n",
       "    </tr>\n",
       "    <tr>\n",
       "      <th>2</th>\n",
       "      <td>atmospher place jump scare also</td>\n",
       "      <td>1</td>\n",
       "      <td>atmospher</td>\n",
       "      <td>place</td>\n",
       "      <td>jump</td>\n",
       "      <td>scare</td>\n",
       "      <td>also</td>\n",
       "    </tr>\n",
       "    <tr>\n",
       "      <th>3</th>\n",
       "      <td>deliv like joke either riley</td>\n",
       "      <td>1</td>\n",
       "      <td>deliv</td>\n",
       "      <td>like</td>\n",
       "      <td>joke</td>\n",
       "      <td>either</td>\n",
       "      <td>riley</td>\n",
       "    </tr>\n",
       "    <tr>\n",
       "      <th>4</th>\n",
       "      <td>forsaken desert giant forest full</td>\n",
       "      <td>1</td>\n",
       "      <td>forsaken</td>\n",
       "      <td>desert</td>\n",
       "      <td>giant</td>\n",
       "      <td>forest</td>\n",
       "      <td>full</td>\n",
       "    </tr>\n",
       "  </tbody>\n",
       "</table>\n",
       "</div>"
      ],
      "text/plain": [
       "                                Word  Frequency     Word_1  Word_2 Word_3  \\\n",
       "0                el día de la bestia          2         el     día     de   \n",
       "1         anoth episod like one brak          2      anoth  episod   like   \n",
       "2    atmospher place jump scare also          1  atmospher   place   jump   \n",
       "3       deliv like joke either riley          1      deliv    like   joke   \n",
       "4  forsaken desert giant forest full          1   forsaken  desert  giant   \n",
       "\n",
       "   Word_4  Word_5  \n",
       "0      la  bestia  \n",
       "1     one    brak  \n",
       "2   scare    also  \n",
       "3  either   riley  \n",
       "4  forest    full  "
      ]
     },
     "execution_count": 30,
     "metadata": {},
     "output_type": "execute_result"
    }
   ],
   "source": [
    "n = 5\n",
    "word_cols = [f\"Word_{i+1}\" for i in range(n)]\n",
    "print(word_cols)\n",
    "\n",
    "df[word_cols] = df[\"Word\"].str.split(\" \", expand=True)\n",
    "df.head()"
   ]
  },
  {
   "cell_type": "code",
   "execution_count": null,
   "metadata": {},
   "outputs": [],
   "source": [
    "import matplotlib.pyplot as plt\n",
    "%matplotlib inline\n",
    "\n",
    "new_df = df.iloc[:10]\n",
    "\n",
    "def percentage_growth(l):\n",
    "    s = 0\n",
    "    res = [0]\n",
    "    for i in range(len(l)-1):\n",
    "        s += l.iloc[i]\n",
    "        res.append(s / sum(l))\n",
    "    return res\n",
    "\n",
    "cmap = plt.get_cmap(\"rainbow\")\n",
    "\n",
    "for i, col in enumerate(word_cols):\n",
    "    radius=i+2\n",
    "    width=1\n",
    "    frame = new_df.groupby(word_cols[:i+1])[\"Frequency\"].sum()\n",
    "    colors = cmap(percentage_growth(frame))\n",
    "    labels = [x[-1] if isinstance(x, tuple) else x for x in frame.index.to_numpy()]\n",
    "    plt.pie(frame, labels=labels, colors=colors, radius=radius, wedgeprops=dict(width=width, edgecolor='w'), textprops=dict(size=20), labeldistance=0.8 + i/60)    "
   ]
  },
  {
   "cell_type": "code",
   "execution_count": null,
   "metadata": {},
   "outputs": [],
   "source": [
    "import nltk\n",
    "nltk.download(\"treebank\")\n",
    "data = list(nltk.corpus.treebank.tagged_sents())\n",
    "data"
   ]
  },
  {
   "cell_type": "code",
   "execution_count": 6,
   "metadata": {},
   "outputs": [
    {
     "data": {
      "application/vnd.plotly.v1+json": {
       "config": {
        "plotlyServerURL": "https://plot.ly"
       },
       "data": [
        {
         "hovertemplate": "x=%{x}<br>y=%{y}<br>text=%{text}<extra></extra>",
         "legendgroup": "",
         "marker": {
          "color": "#636efa",
          "symbol": "circle"
         },
         "mode": "markers+text",
         "name": "",
         "orientation": "v",
         "showlegend": false,
         "text": [
          ".",
          "EX",
          "VBZ",
          "RP",
          "VBN",
          "NNS",
          "VBG",
          "IN",
          "NNP",
          "CC",
          "VB",
          "WDT",
          "RBR",
          "PRP$",
          "WP",
          ",",
          "VBP",
          "CD",
          "TO",
          "MD",
          "JJ",
          "JJR",
          "RB",
          "PRP",
          "VBD",
          "POS",
          "NN",
          "JJS",
          "DT",
          "``",
          "-NONE-",
          "''",
          ":"
         ],
         "textposition": "bottom right",
         "type": "scatter",
         "x": [
          1.417842149734497,
          1.2521332502365112,
          1.521378517150879,
          1.0054429769515991,
          1.6221271753311157,
          1.6223433017730713,
          1.6188766956329346,
          1.584828495979309,
          1.6231746673583984,
          1.8485268354415894,
          1.613977074623108,
          1.896132469177246,
          1.3310317993164062,
          1.8603366613388062,
          2.1881279945373535,
          1.1122279167175293,
          1.609326958656311,
          1.6221072673797607,
          1.0108835697174072,
          1.57920503616333,
          1.620813250541687,
          1.8424478769302368,
          1.622568130493164,
          1.604093313217163,
          1.621645450592041,
          1.9139959812164307,
          1.6229921579360962,
          1.5940717458724976,
          1.6028313636779785,
          1.562522530555725,
          1.6229703426361084,
          2.1944563388824463,
          2.2573070526123047
         ],
         "xaxis": "x",
         "y": [
          2.6740496158599854,
          1.5386372804641724,
          2.0951223373413086,
          2.2090647220611572,
          2.068803310394287,
          2.068403720855713,
          2.0701708793640137,
          2.0795867443084717,
          2.068553924560547,
          1.7648667097091675,
          2.072434186935425,
          2.44883131980896,
          1.7520054578781128,
          2.0009896755218506,
          1.7721447944641113,
          2.4553325176239014,
          2.072134017944336,
          2.0691885948181152,
          1.8830689191818237,
          2.4559733867645264,
          2.065619945526123,
          2.6745285987854004,
          2.067958354949951,
          2.073824405670166,
          2.0683000087738037,
          1.498351812362671,
          2.069370985031128,
          2.0768625736236572,
          2.074612617492676,
          1.4339810609817505,
          2.069317579269409,
          2.360992670059204,
          2.028695821762085
         ],
         "yaxis": "y"
        }
       ],
       "layout": {
        "legend": {
         "tracegroupgap": 0
        },
        "margin": {
         "t": 60
        },
        "template": {
         "data": {
          "bar": [
           {
            "error_x": {
             "color": "#2a3f5f"
            },
            "error_y": {
             "color": "#2a3f5f"
            },
            "marker": {
             "line": {
              "color": "#E5ECF6",
              "width": 0.5
             },
             "pattern": {
              "fillmode": "overlay",
              "size": 10,
              "solidity": 0.2
             }
            },
            "type": "bar"
           }
          ],
          "barpolar": [
           {
            "marker": {
             "line": {
              "color": "#E5ECF6",
              "width": 0.5
             },
             "pattern": {
              "fillmode": "overlay",
              "size": 10,
              "solidity": 0.2
             }
            },
            "type": "barpolar"
           }
          ],
          "carpet": [
           {
            "aaxis": {
             "endlinecolor": "#2a3f5f",
             "gridcolor": "white",
             "linecolor": "white",
             "minorgridcolor": "white",
             "startlinecolor": "#2a3f5f"
            },
            "baxis": {
             "endlinecolor": "#2a3f5f",
             "gridcolor": "white",
             "linecolor": "white",
             "minorgridcolor": "white",
             "startlinecolor": "#2a3f5f"
            },
            "type": "carpet"
           }
          ],
          "choropleth": [
           {
            "colorbar": {
             "outlinewidth": 0,
             "ticks": ""
            },
            "type": "choropleth"
           }
          ],
          "contour": [
           {
            "colorbar": {
             "outlinewidth": 0,
             "ticks": ""
            },
            "colorscale": [
             [
              0,
              "#0d0887"
             ],
             [
              0.1111111111111111,
              "#46039f"
             ],
             [
              0.2222222222222222,
              "#7201a8"
             ],
             [
              0.3333333333333333,
              "#9c179e"
             ],
             [
              0.4444444444444444,
              "#bd3786"
             ],
             [
              0.5555555555555556,
              "#d8576b"
             ],
             [
              0.6666666666666666,
              "#ed7953"
             ],
             [
              0.7777777777777778,
              "#fb9f3a"
             ],
             [
              0.8888888888888888,
              "#fdca26"
             ],
             [
              1,
              "#f0f921"
             ]
            ],
            "type": "contour"
           }
          ],
          "contourcarpet": [
           {
            "colorbar": {
             "outlinewidth": 0,
             "ticks": ""
            },
            "type": "contourcarpet"
           }
          ],
          "heatmap": [
           {
            "colorbar": {
             "outlinewidth": 0,
             "ticks": ""
            },
            "colorscale": [
             [
              0,
              "#0d0887"
             ],
             [
              0.1111111111111111,
              "#46039f"
             ],
             [
              0.2222222222222222,
              "#7201a8"
             ],
             [
              0.3333333333333333,
              "#9c179e"
             ],
             [
              0.4444444444444444,
              "#bd3786"
             ],
             [
              0.5555555555555556,
              "#d8576b"
             ],
             [
              0.6666666666666666,
              "#ed7953"
             ],
             [
              0.7777777777777778,
              "#fb9f3a"
             ],
             [
              0.8888888888888888,
              "#fdca26"
             ],
             [
              1,
              "#f0f921"
             ]
            ],
            "type": "heatmap"
           }
          ],
          "heatmapgl": [
           {
            "colorbar": {
             "outlinewidth": 0,
             "ticks": ""
            },
            "colorscale": [
             [
              0,
              "#0d0887"
             ],
             [
              0.1111111111111111,
              "#46039f"
             ],
             [
              0.2222222222222222,
              "#7201a8"
             ],
             [
              0.3333333333333333,
              "#9c179e"
             ],
             [
              0.4444444444444444,
              "#bd3786"
             ],
             [
              0.5555555555555556,
              "#d8576b"
             ],
             [
              0.6666666666666666,
              "#ed7953"
             ],
             [
              0.7777777777777778,
              "#fb9f3a"
             ],
             [
              0.8888888888888888,
              "#fdca26"
             ],
             [
              1,
              "#f0f921"
             ]
            ],
            "type": "heatmapgl"
           }
          ],
          "histogram": [
           {
            "marker": {
             "pattern": {
              "fillmode": "overlay",
              "size": 10,
              "solidity": 0.2
             }
            },
            "type": "histogram"
           }
          ],
          "histogram2d": [
           {
            "colorbar": {
             "outlinewidth": 0,
             "ticks": ""
            },
            "colorscale": [
             [
              0,
              "#0d0887"
             ],
             [
              0.1111111111111111,
              "#46039f"
             ],
             [
              0.2222222222222222,
              "#7201a8"
             ],
             [
              0.3333333333333333,
              "#9c179e"
             ],
             [
              0.4444444444444444,
              "#bd3786"
             ],
             [
              0.5555555555555556,
              "#d8576b"
             ],
             [
              0.6666666666666666,
              "#ed7953"
             ],
             [
              0.7777777777777778,
              "#fb9f3a"
             ],
             [
              0.8888888888888888,
              "#fdca26"
             ],
             [
              1,
              "#f0f921"
             ]
            ],
            "type": "histogram2d"
           }
          ],
          "histogram2dcontour": [
           {
            "colorbar": {
             "outlinewidth": 0,
             "ticks": ""
            },
            "colorscale": [
             [
              0,
              "#0d0887"
             ],
             [
              0.1111111111111111,
              "#46039f"
             ],
             [
              0.2222222222222222,
              "#7201a8"
             ],
             [
              0.3333333333333333,
              "#9c179e"
             ],
             [
              0.4444444444444444,
              "#bd3786"
             ],
             [
              0.5555555555555556,
              "#d8576b"
             ],
             [
              0.6666666666666666,
              "#ed7953"
             ],
             [
              0.7777777777777778,
              "#fb9f3a"
             ],
             [
              0.8888888888888888,
              "#fdca26"
             ],
             [
              1,
              "#f0f921"
             ]
            ],
            "type": "histogram2dcontour"
           }
          ],
          "mesh3d": [
           {
            "colorbar": {
             "outlinewidth": 0,
             "ticks": ""
            },
            "type": "mesh3d"
           }
          ],
          "parcoords": [
           {
            "line": {
             "colorbar": {
              "outlinewidth": 0,
              "ticks": ""
             }
            },
            "type": "parcoords"
           }
          ],
          "pie": [
           {
            "automargin": true,
            "type": "pie"
           }
          ],
          "scatter": [
           {
            "fillpattern": {
             "fillmode": "overlay",
             "size": 10,
             "solidity": 0.2
            },
            "type": "scatter"
           }
          ],
          "scatter3d": [
           {
            "line": {
             "colorbar": {
              "outlinewidth": 0,
              "ticks": ""
             }
            },
            "marker": {
             "colorbar": {
              "outlinewidth": 0,
              "ticks": ""
             }
            },
            "type": "scatter3d"
           }
          ],
          "scattercarpet": [
           {
            "marker": {
             "colorbar": {
              "outlinewidth": 0,
              "ticks": ""
             }
            },
            "type": "scattercarpet"
           }
          ],
          "scattergeo": [
           {
            "marker": {
             "colorbar": {
              "outlinewidth": 0,
              "ticks": ""
             }
            },
            "type": "scattergeo"
           }
          ],
          "scattergl": [
           {
            "marker": {
             "colorbar": {
              "outlinewidth": 0,
              "ticks": ""
             }
            },
            "type": "scattergl"
           }
          ],
          "scattermapbox": [
           {
            "marker": {
             "colorbar": {
              "outlinewidth": 0,
              "ticks": ""
             }
            },
            "type": "scattermapbox"
           }
          ],
          "scatterpolar": [
           {
            "marker": {
             "colorbar": {
              "outlinewidth": 0,
              "ticks": ""
             }
            },
            "type": "scatterpolar"
           }
          ],
          "scatterpolargl": [
           {
            "marker": {
             "colorbar": {
              "outlinewidth": 0,
              "ticks": ""
             }
            },
            "type": "scatterpolargl"
           }
          ],
          "scatterternary": [
           {
            "marker": {
             "colorbar": {
              "outlinewidth": 0,
              "ticks": ""
             }
            },
            "type": "scatterternary"
           }
          ],
          "surface": [
           {
            "colorbar": {
             "outlinewidth": 0,
             "ticks": ""
            },
            "colorscale": [
             [
              0,
              "#0d0887"
             ],
             [
              0.1111111111111111,
              "#46039f"
             ],
             [
              0.2222222222222222,
              "#7201a8"
             ],
             [
              0.3333333333333333,
              "#9c179e"
             ],
             [
              0.4444444444444444,
              "#bd3786"
             ],
             [
              0.5555555555555556,
              "#d8576b"
             ],
             [
              0.6666666666666666,
              "#ed7953"
             ],
             [
              0.7777777777777778,
              "#fb9f3a"
             ],
             [
              0.8888888888888888,
              "#fdca26"
             ],
             [
              1,
              "#f0f921"
             ]
            ],
            "type": "surface"
           }
          ],
          "table": [
           {
            "cells": {
             "fill": {
              "color": "#EBF0F8"
             },
             "line": {
              "color": "white"
             }
            },
            "header": {
             "fill": {
              "color": "#C8D4E3"
             },
             "line": {
              "color": "white"
             }
            },
            "type": "table"
           }
          ]
         },
         "layout": {
          "annotationdefaults": {
           "arrowcolor": "#2a3f5f",
           "arrowhead": 0,
           "arrowwidth": 1
          },
          "autotypenumbers": "strict",
          "coloraxis": {
           "colorbar": {
            "outlinewidth": 0,
            "ticks": ""
           }
          },
          "colorscale": {
           "diverging": [
            [
             0,
             "#8e0152"
            ],
            [
             0.1,
             "#c51b7d"
            ],
            [
             0.2,
             "#de77ae"
            ],
            [
             0.3,
             "#f1b6da"
            ],
            [
             0.4,
             "#fde0ef"
            ],
            [
             0.5,
             "#f7f7f7"
            ],
            [
             0.6,
             "#e6f5d0"
            ],
            [
             0.7,
             "#b8e186"
            ],
            [
             0.8,
             "#7fbc41"
            ],
            [
             0.9,
             "#4d9221"
            ],
            [
             1,
             "#276419"
            ]
           ],
           "sequential": [
            [
             0,
             "#0d0887"
            ],
            [
             0.1111111111111111,
             "#46039f"
            ],
            [
             0.2222222222222222,
             "#7201a8"
            ],
            [
             0.3333333333333333,
             "#9c179e"
            ],
            [
             0.4444444444444444,
             "#bd3786"
            ],
            [
             0.5555555555555556,
             "#d8576b"
            ],
            [
             0.6666666666666666,
             "#ed7953"
            ],
            [
             0.7777777777777778,
             "#fb9f3a"
            ],
            [
             0.8888888888888888,
             "#fdca26"
            ],
            [
             1,
             "#f0f921"
            ]
           ],
           "sequentialminus": [
            [
             0,
             "#0d0887"
            ],
            [
             0.1111111111111111,
             "#46039f"
            ],
            [
             0.2222222222222222,
             "#7201a8"
            ],
            [
             0.3333333333333333,
             "#9c179e"
            ],
            [
             0.4444444444444444,
             "#bd3786"
            ],
            [
             0.5555555555555556,
             "#d8576b"
            ],
            [
             0.6666666666666666,
             "#ed7953"
            ],
            [
             0.7777777777777778,
             "#fb9f3a"
            ],
            [
             0.8888888888888888,
             "#fdca26"
            ],
            [
             1,
             "#f0f921"
            ]
           ]
          },
          "colorway": [
           "#636efa",
           "#EF553B",
           "#00cc96",
           "#ab63fa",
           "#FFA15A",
           "#19d3f3",
           "#FF6692",
           "#B6E880",
           "#FF97FF",
           "#FECB52"
          ],
          "font": {
           "color": "#2a3f5f"
          },
          "geo": {
           "bgcolor": "white",
           "lakecolor": "white",
           "landcolor": "#E5ECF6",
           "showlakes": true,
           "showland": true,
           "subunitcolor": "white"
          },
          "hoverlabel": {
           "align": "left"
          },
          "hovermode": "closest",
          "mapbox": {
           "style": "light"
          },
          "paper_bgcolor": "white",
          "plot_bgcolor": "#E5ECF6",
          "polar": {
           "angularaxis": {
            "gridcolor": "white",
            "linecolor": "white",
            "ticks": ""
           },
           "bgcolor": "#E5ECF6",
           "radialaxis": {
            "gridcolor": "white",
            "linecolor": "white",
            "ticks": ""
           }
          },
          "scene": {
           "xaxis": {
            "backgroundcolor": "#E5ECF6",
            "gridcolor": "white",
            "gridwidth": 2,
            "linecolor": "white",
            "showbackground": true,
            "ticks": "",
            "zerolinecolor": "white"
           },
           "yaxis": {
            "backgroundcolor": "#E5ECF6",
            "gridcolor": "white",
            "gridwidth": 2,
            "linecolor": "white",
            "showbackground": true,
            "ticks": "",
            "zerolinecolor": "white"
           },
           "zaxis": {
            "backgroundcolor": "#E5ECF6",
            "gridcolor": "white",
            "gridwidth": 2,
            "linecolor": "white",
            "showbackground": true,
            "ticks": "",
            "zerolinecolor": "white"
           }
          },
          "shapedefaults": {
           "line": {
            "color": "#2a3f5f"
           }
          },
          "ternary": {
           "aaxis": {
            "gridcolor": "white",
            "linecolor": "white",
            "ticks": ""
           },
           "baxis": {
            "gridcolor": "white",
            "linecolor": "white",
            "ticks": ""
           },
           "bgcolor": "#E5ECF6",
           "caxis": {
            "gridcolor": "white",
            "linecolor": "white",
            "ticks": ""
           }
          },
          "title": {
           "x": 0.05
          },
          "xaxis": {
           "automargin": true,
           "gridcolor": "white",
           "linecolor": "white",
           "ticks": "",
           "title": {
            "standoff": 15
           },
           "zerolinecolor": "white",
           "zerolinewidth": 2
          },
          "yaxis": {
           "automargin": true,
           "gridcolor": "white",
           "linecolor": "white",
           "ticks": "",
           "title": {
            "standoff": 15
           },
           "zerolinecolor": "white",
           "zerolinewidth": 2
          }
         }
        },
        "xaxis": {
         "anchor": "y",
         "domain": [
          0,
          1
         ],
         "title": {
          "text": "x"
         }
        },
        "yaxis": {
         "anchor": "x",
         "domain": [
          0,
          1
         ],
         "title": {
          "text": "y"
         }
        }
       }
      }
     },
     "metadata": {},
     "output_type": "display_data"
    }
   ],
   "source": [
    "import numpy as np\n",
    "import pandas as pd\n",
    "import plotly.express as px\n",
    "from sklearn.manifold import TSNE\n",
    "\n",
    "arr_df = pd.read_csv(\"./output/hmm/Emission Matrix.csv\")\n",
    "cols = list(arr_df.columns)\n",
    "vocab = cols[1:]\n",
    "pos = list(arr_df[cols[0]])\n",
    "\n",
    "tsne = TSNE(n_components=2)\n",
    "arr_tsne = tsne.fit_transform(np.array(arr_df[vocab]))\n",
    "\n",
    "fig = px.scatter(x=arr_tsne[:,0], y=arr_tsne[:,1],text=pos)\n",
    "fig.update_traces(textposition=\"bottom right\")"
   ]
  },
  {
   "cell_type": "code",
   "execution_count": 6,
   "metadata": {},
   "outputs": [
    {
     "data": {
      "text/html": [
       "<div>\n",
       "<style scoped>\n",
       "    .dataframe tbody tr th:only-of-type {\n",
       "        vertical-align: middle;\n",
       "    }\n",
       "\n",
       "    .dataframe tbody tr th {\n",
       "        vertical-align: top;\n",
       "    }\n",
       "\n",
       "    .dataframe thead th {\n",
       "        text-align: right;\n",
       "    }\n",
       "</style>\n",
       "<table border=\"1\" class=\"dataframe\">\n",
       "  <thead>\n",
       "    <tr style=\"text-align: right;\">\n",
       "      <th></th>\n",
       "      <th>Unnamed: 0</th>\n",
       "      <th>appeal</th>\n",
       "      <th>off</th>\n",
       "      <th>62.1</th>\n",
       "      <th>blow</th>\n",
       "      <th>President</th>\n",
       "      <th>damn</th>\n",
       "      <th>professor</th>\n",
       "      <th>adds</th>\n",
       "      <th>Community</th>\n",
       "      <th>...</th>\n",
       "      <th>Otero</th>\n",
       "      <th>require</th>\n",
       "      <th>paltry</th>\n",
       "      <th>impede</th>\n",
       "      <th>Primerica</th>\n",
       "      <th>electric</th>\n",
       "      <th>lease</th>\n",
       "      <th>Fees</th>\n",
       "      <th>endless</th>\n",
       "      <th>physical</th>\n",
       "    </tr>\n",
       "  </thead>\n",
       "  <tbody>\n",
       "    <tr>\n",
       "      <th>0</th>\n",
       "      <td>NNPS</td>\n",
       "      <td>0.0</td>\n",
       "      <td>0.000000</td>\n",
       "      <td>0.0</td>\n",
       "      <td>0.0</td>\n",
       "      <td>0.0</td>\n",
       "      <td>0.00000</td>\n",
       "      <td>0.0</td>\n",
       "      <td>0.0</td>\n",
       "      <td>0.0</td>\n",
       "      <td>...</td>\n",
       "      <td>0.0</td>\n",
       "      <td>0.0</td>\n",
       "      <td>0.0</td>\n",
       "      <td>0.0</td>\n",
       "      <td>0.0</td>\n",
       "      <td>0.0</td>\n",
       "      <td>0.0</td>\n",
       "      <td>0.0</td>\n",
       "      <td>0.0</td>\n",
       "      <td>0.0</td>\n",
       "    </tr>\n",
       "    <tr>\n",
       "      <th>1</th>\n",
       "      <td>RB</td>\n",
       "      <td>0.0</td>\n",
       "      <td>0.001335</td>\n",
       "      <td>0.0</td>\n",
       "      <td>0.0</td>\n",
       "      <td>0.0</td>\n",
       "      <td>0.00089</td>\n",
       "      <td>0.0</td>\n",
       "      <td>0.0</td>\n",
       "      <td>0.0</td>\n",
       "      <td>...</td>\n",
       "      <td>0.0</td>\n",
       "      <td>0.0</td>\n",
       "      <td>0.0</td>\n",
       "      <td>0.0</td>\n",
       "      <td>0.0</td>\n",
       "      <td>0.0</td>\n",
       "      <td>0.0</td>\n",
       "      <td>0.0</td>\n",
       "      <td>0.0</td>\n",
       "      <td>0.0</td>\n",
       "    </tr>\n",
       "    <tr>\n",
       "      <th>2</th>\n",
       "      <td>VBD</td>\n",
       "      <td>0.0</td>\n",
       "      <td>0.000000</td>\n",
       "      <td>0.0</td>\n",
       "      <td>0.0</td>\n",
       "      <td>0.0</td>\n",
       "      <td>0.00000</td>\n",
       "      <td>0.0</td>\n",
       "      <td>0.0</td>\n",
       "      <td>0.0</td>\n",
       "      <td>...</td>\n",
       "      <td>0.0</td>\n",
       "      <td>0.0</td>\n",
       "      <td>0.0</td>\n",
       "      <td>0.0</td>\n",
       "      <td>0.0</td>\n",
       "      <td>0.0</td>\n",
       "      <td>0.0</td>\n",
       "      <td>0.0</td>\n",
       "      <td>0.0</td>\n",
       "      <td>0.0</td>\n",
       "    </tr>\n",
       "    <tr>\n",
       "      <th>3</th>\n",
       "      <td>RP</td>\n",
       "      <td>0.0</td>\n",
       "      <td>0.110429</td>\n",
       "      <td>0.0</td>\n",
       "      <td>0.0</td>\n",
       "      <td>0.0</td>\n",
       "      <td>0.00000</td>\n",
       "      <td>0.0</td>\n",
       "      <td>0.0</td>\n",
       "      <td>0.0</td>\n",
       "      <td>...</td>\n",
       "      <td>0.0</td>\n",
       "      <td>0.0</td>\n",
       "      <td>0.0</td>\n",
       "      <td>0.0</td>\n",
       "      <td>0.0</td>\n",
       "      <td>0.0</td>\n",
       "      <td>0.0</td>\n",
       "      <td>0.0</td>\n",
       "      <td>0.0</td>\n",
       "      <td>0.0</td>\n",
       "    </tr>\n",
       "    <tr>\n",
       "      <th>4</th>\n",
       "      <td>JJR</td>\n",
       "      <td>0.0</td>\n",
       "      <td>0.000000</td>\n",
       "      <td>0.0</td>\n",
       "      <td>0.0</td>\n",
       "      <td>0.0</td>\n",
       "      <td>0.00000</td>\n",
       "      <td>0.0</td>\n",
       "      <td>0.0</td>\n",
       "      <td>0.0</td>\n",
       "      <td>...</td>\n",
       "      <td>0.0</td>\n",
       "      <td>0.0</td>\n",
       "      <td>0.0</td>\n",
       "      <td>0.0</td>\n",
       "      <td>0.0</td>\n",
       "      <td>0.0</td>\n",
       "      <td>0.0</td>\n",
       "      <td>0.0</td>\n",
       "      <td>0.0</td>\n",
       "      <td>0.0</td>\n",
       "    </tr>\n",
       "  </tbody>\n",
       "</table>\n",
       "<p>5 rows × 10966 columns</p>\n",
       "</div>"
      ],
      "text/plain": [
       "  Unnamed: 0  appeal       off  62.1  blow  President     damn  professor  \\\n",
       "0       NNPS     0.0  0.000000   0.0   0.0        0.0  0.00000        0.0   \n",
       "1         RB     0.0  0.001335   0.0   0.0        0.0  0.00089        0.0   \n",
       "2        VBD     0.0  0.000000   0.0   0.0        0.0  0.00000        0.0   \n",
       "3         RP     0.0  0.110429   0.0   0.0        0.0  0.00000        0.0   \n",
       "4        JJR     0.0  0.000000   0.0   0.0        0.0  0.00000        0.0   \n",
       "\n",
       "   adds  Community  ...  Otero  require  paltry  impede  Primerica  electric  \\\n",
       "0   0.0        0.0  ...    0.0      0.0     0.0     0.0        0.0       0.0   \n",
       "1   0.0        0.0  ...    0.0      0.0     0.0     0.0        0.0       0.0   \n",
       "2   0.0        0.0  ...    0.0      0.0     0.0     0.0        0.0       0.0   \n",
       "3   0.0        0.0  ...    0.0      0.0     0.0     0.0        0.0       0.0   \n",
       "4   0.0        0.0  ...    0.0      0.0     0.0     0.0        0.0       0.0   \n",
       "\n",
       "   lease  Fees  endless  physical  \n",
       "0    0.0   0.0      0.0       0.0  \n",
       "1    0.0   0.0      0.0       0.0  \n",
       "2    0.0   0.0      0.0       0.0  \n",
       "3    0.0   0.0      0.0       0.0  \n",
       "4    0.0   0.0      0.0       0.0  \n",
       "\n",
       "[5 rows x 10966 columns]"
      ]
     },
     "execution_count": 6,
     "metadata": {},
     "output_type": "execute_result"
    }
   ],
   "source": [
    "arr_df.head()"
   ]
  },
  {
   "cell_type": "code",
   "execution_count": 4,
   "metadata": {},
   "outputs": [
    {
     "data": {
      "text/plain": [
       "(array([1, 2, 3, 4]), array([1, 1, 1, 1]))"
      ]
     },
     "execution_count": 4,
     "metadata": {},
     "output_type": "execute_result"
    }
   ],
   "source": [
    "import numpy as np\n",
    "\n",
    "arr = np.array([2,1,3,4])\n",
    "np.unique(arr, return_counts=True)"
   ]
  },
  {
   "cell_type": "code",
   "execution_count": 5,
   "metadata": {},
   "outputs": [
    {
     "data": {
      "image/png": "[encoded data removed]",
      "text/plain": [
       "<Figure size 640x480 with 1 Axes>"
      ]
     },
     "metadata": {},
     "output_type": "display_data"
    }
   ],
   "source": [
    "import pandas as pd\n",
    "import matplotlib.pyplot as plt\n",
    "\n",
    "# Create a DataFrame\n",
    "df = pd.DataFrame({'A': [1, 2, 3], 'B': [4, 5, 6]})\n",
    "\n",
    "# Create a figure and axes\n",
    "fig, ax = plt.subplots()\n",
    "\n",
    "# Hide axes\n",
    "ax.axis('off')\n",
    "\n",
    "# Create table\n",
    "table = ax.table(cellText=df.values, colLabels=df.columns, loc='center')\n",
    "\n",
    "# Adjust layout\n",
    "table.auto_set_font_size(False)\n",
    "table.set_fontsize(10)\n",
    "\n",
    "# Show the plot\n",
    "plt.show()"
   ]
  },
  {
   "cell_type": "markdown",
   "metadata": {},
   "source": [
    "### Word2Vec"
   ]
  },
  {
   "cell_type": "code",
   "execution_count": null,
   "metadata": {},
   "outputs": [],
   "source": [
    "config_path = \"./configs/word2vec.yaml\"\n",
    "with open(config_path, \"r\") as stream:\n",
    "    config_dict = yaml.safe_load(stream)\n",
    "\n",
    "cbow = Word2VecDataset(config_dict)\n",
    "l_cxt, r_cxt, l_lbl, r_lbl = cbow.make_pairs()\n",
    "\n",
    "print(cbow.vocab_freq)\n",
    "print(l_cxt)\n",
    "print(r_cxt)\n",
    "print(l_lbl)\n",
    "print(r_lbl)\n",
    "\n",
    "train_left_loader, train_right_loader, val_left_loader, val_right_loader = create_dataloader(l_cxt, r_cxt, l_lbl, r_lbl, 0.2, 8, 2023)\n",
    "\n",
    "# for batch in iter(train_left_loader):\n",
    "#     l_c, l_l = batch\n",
    "#     print(l_c)\n",
    "#     print(l_l)\n",
    "#     break\n",
    "\n",
    "# for batch in iter(train_right_loader):\n",
    "#     r_c, r_l = batch\n",
    "#     print(r_c)\n",
    "#     print(r_l)\n",
    "#     break"
   ]
  },
  {
   "cell_type": "code",
   "execution_count": 65,
   "metadata": {},
   "outputs": [
    {
     "name": "stdout",
     "output_type": "stream",
     "text": [
      "-----------Epoch 1/10-----------\n"
     ]
    },
    {
     "name": "stderr",
     "output_type": "stream",
     "text": [
      "Training: 100%|██████████| 206/206 [00:26<00:00,  7.86it/s]\n",
      "Validation: 100%|██████████| 51/51 [00:19<00:00,  2.56it/s]\n"
     ]
    },
    {
     "name": "stdout",
     "output_type": "stream",
     "text": [
      "Train Loss : 5.19072961807251 - Val Loss : 2.880483865737915\n",
      "Validation Loss improved from inf to 2.880483865737915\n",
      "-----------Epoch 2/10-----------\n"
     ]
    },
    {
     "name": "stderr",
     "output_type": "stream",
     "text": [
      "Training: 100%|██████████| 206/206 [00:19<00:00, 10.36it/s]\n",
      "Validation: 100%|██████████| 51/51 [00:17<00:00,  3.00it/s]\n"
     ]
    },
    {
     "name": "stdout",
     "output_type": "stream",
     "text": [
      "Train Loss : 2.8874399662017822 - Val Loss : 2.194394826889038\n",
      "Validation Loss improved from 2.880483865737915 to 2.194394826889038\n",
      "-----------Epoch 3/10-----------\n"
     ]
    },
    {
     "name": "stderr",
     "output_type": "stream",
     "text": [
      "Training: 100%|██████████| 206/206 [00:17<00:00, 11.60it/s]\n",
      "Validation: 100%|██████████| 51/51 [00:17<00:00,  2.95it/s]\n"
     ]
    },
    {
     "name": "stdout",
     "output_type": "stream",
     "text": [
      "Train Loss : 2.2812020778656006 - Val Loss : 1.9462478160858154\n",
      "Validation Loss improved from 2.194394826889038 to 1.9462478160858154\n",
      "-----------Epoch 4/10-----------\n"
     ]
    },
    {
     "name": "stderr",
     "output_type": "stream",
     "text": [
      "Training: 100%|██████████| 206/206 [00:17<00:00, 11.60it/s]\n",
      "Validation: 100%|██████████| 51/51 [00:16<00:00,  3.05it/s]\n"
     ]
    },
    {
     "name": "stdout",
     "output_type": "stream",
     "text": [
      "Train Loss : 1.9103882312774658 - Val Loss : 1.7780832052230835\n",
      "Validation Loss improved from 1.9462478160858154 to 1.7780832052230835\n",
      "-----------Epoch 5/10-----------\n"
     ]
    },
    {
     "name": "stderr",
     "output_type": "stream",
     "text": [
      "Training: 100%|██████████| 206/206 [00:19<00:00, 10.31it/s]\n",
      "Validation: 100%|██████████| 51/51 [00:15<00:00,  3.28it/s]\n"
     ]
    },
    {
     "name": "stdout",
     "output_type": "stream",
     "text": [
      "Train Loss : 1.6663691997528076 - Val Loss : 1.6299480199813843\n",
      "Validation Loss improved from 1.7780832052230835 to 1.6299480199813843\n",
      "-----------Epoch 6/10-----------\n"
     ]
    },
    {
     "name": "stderr",
     "output_type": "stream",
     "text": [
      "Training: 100%|██████████| 206/206 [00:16<00:00, 12.51it/s]\n",
      "Validation: 100%|██████████| 51/51 [00:14<00:00,  3.46it/s]\n"
     ]
    },
    {
     "name": "stdout",
     "output_type": "stream",
     "text": [
      "Train Loss : 1.4816888570785522 - Val Loss : 1.539669156074524\n",
      "Validation Loss improved from 1.6299480199813843 to 1.539669156074524\n",
      "-----------Epoch 7/10-----------\n"
     ]
    },
    {
     "name": "stderr",
     "output_type": "stream",
     "text": [
      "Training: 100%|██████████| 206/206 [00:15<00:00, 13.27it/s]\n",
      "Validation: 100%|██████████| 51/51 [00:14<00:00,  3.44it/s]\n"
     ]
    },
    {
     "name": "stdout",
     "output_type": "stream",
     "text": [
      "Train Loss : 1.3658875226974487 - Val Loss : 1.4765939712524414\n",
      "Validation Loss improved from 1.539669156074524 to 1.4765939712524414\n",
      "-----------Epoch 8/10-----------\n"
     ]
    },
    {
     "name": "stderr",
     "output_type": "stream",
     "text": [
      "Training: 100%|██████████| 206/206 [00:14<00:00, 14.01it/s]\n",
      "Validation: 100%|██████████| 51/51 [00:14<00:00,  3.60it/s]\n"
     ]
    },
    {
     "name": "stdout",
     "output_type": "stream",
     "text": [
      "Train Loss : 1.2907533645629883 - Val Loss : 1.4481770992279053\n",
      "Validation Loss improved from 1.4765939712524414 to 1.4481770992279053\n",
      "-----------Epoch 9/10-----------\n"
     ]
    },
    {
     "name": "stderr",
     "output_type": "stream",
     "text": [
      "Training: 100%|██████████| 206/206 [00:15<00:00, 13.37it/s]\n",
      "Validation: 100%|██████████| 51/51 [00:14<00:00,  3.52it/s]\n"
     ]
    },
    {
     "name": "stdout",
     "output_type": "stream",
     "text": [
      "Train Loss : 1.2339324951171875 - Val Loss : 1.4516034126281738\n",
      "Validation loss didn't improve from 1.4481770992279053\n",
      "-----------Epoch 10/10-----------\n"
     ]
    },
    {
     "name": "stderr",
     "output_type": "stream",
     "text": [
      "Training: 100%|██████████| 206/206 [00:16<00:00, 12.78it/s]\n",
      "Validation: 100%|██████████| 51/51 [00:14<00:00,  3.47it/s]\n"
     ]
    },
    {
     "name": "stdout",
     "output_type": "stream",
     "text": [
      "Train Loss : 1.1893771886825562 - Val Loss : 1.4282432794570923\n",
      "Validation Loss improved from 1.4481770992279053 to 1.4282432794570923\n",
      "Training completed in 0h 5m 55s\n",
      "Best Val RMSE: 1.4282432794570923\n"
     ]
    }
   ],
   "source": [
    "model = CBOW(config_dict)\n",
    "\n",
    "train_loader = (train_left_loader, train_right_loader)\n",
    "val_loader = (val_left_loader, val_right_loader)\n",
    "optim = torch.optim.Adam(model.parameters(), lr=config_dict[\"train\"][\"lr\"])\n",
    "history = fit_model(model, optim, train_loader, val_loader, config_dict)"
   ]
  },
  {
   "cell_type": "code",
   "execution_count": 84,
   "metadata": {},
   "outputs": [
    {
     "name": "stderr",
     "output_type": "stream",
     "text": [
      "e:\\anaconda\\envs\\nlp_env\\lib\\site-packages\\joblib\\externals\\loky\\backend\\context.py:136: UserWarning: Could not find the number of physical cores for the following reason:\n",
      "[WinError 2] The system cannot find the file specified\n",
      "Returning the number of logical cores instead. You can silence this warning by setting LOKY_MAX_CPU_COUNT to the number of cores you want to use.\n",
      "  warnings.warn(\n",
      "  File \"e:\\anaconda\\envs\\nlp_env\\lib\\site-packages\\joblib\\externals\\loky\\backend\\context.py\", line 257, in _count_physical_cores\n",
      "    cpu_info = subprocess.run(\n",
      "  File \"e:\\anaconda\\envs\\nlp_env\\lib\\subprocess.py\", line 501, in run\n",
      "    with Popen(*popenargs, **kwargs) as process:\n",
      "  File \"e:\\anaconda\\envs\\nlp_env\\lib\\subprocess.py\", line 947, in __init__\n",
      "    self._execute_child(args, executable, preexec_fn, close_fds,\n",
      "  File \"e:\\anaconda\\envs\\nlp_env\\lib\\subprocess.py\", line 1416, in _execute_child\n",
      "    hp, ht, pid, tid = _winapi.CreateProcess(executable, args,\n"
     ]
    },
    {
     "data": {
      "application/vnd.plotly.v1+json": {
       "config": {
        "plotlyServerURL": "https://plot.ly"
       },
       "data": [
        {
         "hovertemplate": "X=%{x}<br>Y=%{y}<br>Z=%{z}<br>Word=%{text}<extra></extra>",
         "legendgroup": "",
         "marker": {
          "color": "#636efa",
          "symbol": "circle"
         },
         "mode": "markers+text",
         "name": "",
         "scene": "scene",
         "showlegend": false,
         "text": [
          "br",
          "movi",
          "film",
          "tom",
          "time",
          "like",
          "end",
          "charact",
          "one",
          "seen",
          "much",
          "go",
          "see",
          "back",
          "know",
          "well",
          "good",
          "think",
          "great",
          "hous",
          "come",
          "get",
          "cecilia",
          "goe",
          "hope",
          "cut",
          "look",
          "play",
          "two",
          "littl",
          "<UNK>"
         ],
         "type": "scatter3d",
         "x": [
          108.84769439697266,
          41.907989501953125,
          -26.60728645324707,
          -34.34479904174805,
          -138.39060974121094,
          76.93354797363281,
          117.14276123046875,
          18.68572235107422,
          52.014129638671875,
          91.37653350830078,
          -30.865123748779297,
          -7.416396141052246,
          -62.26999282836914,
          54.28514862060547,
          -89.03902435302734,
          -23.826425552368164,
          -98.29833984375,
          23.955326080322266,
          99.63731384277344,
          -112.65848541259766,
          47.895503997802734,
          18.824796676635742,
          -34.687076568603516,
          39.32181930541992,
          -115.32209014892578,
          -85.29039001464844,
          122.88488006591797,
          -50.484317779541016,
          -24.0411376953125,
          -13.677151679992676,
          39.51049041748047
         ],
         "y": [
          27.484676361083984,
          3.79726505279541,
          -83.88947296142578,
          -27.206012725830078,
          43.81248474121094,
          96.99076080322266,
          16.286916732788086,
          16.82794189453125,
          -45.0168571472168,
          44.30453872680664,
          -60.943031311035156,
          141.3827362060547,
          9.633867263793945,
          -34.673301696777344,
          92.85338592529297,
          30.257152557373047,
          -91.2662582397461,
          -128.75579833984375,
          -75.89686584472656,
          -59.27724838256836,
          -117.12508392333984,
          78.8982162475586,
          -101.43305969238281,
          102.29987335205078,
          -2.0167365074157715,
          55.56837463378906,
          -49.61564636230469,
          97.60891723632812,
          0.6844167709350586,
          55.043792724609375,
          -50.643192291259766
         ],
         "z": [
          -11.879032135009766,
          42.62489318847656,
          88.1482162475586,
          17.84119415283203,
          -45.8897590637207,
          28.79369354248047,
          79.55487060546875,
          -54.795345306396484,
          117.26560974121094,
          -97.58773040771484,
          -107.56600189208984,
          14.39186954498291,
          -53.31477737426758,
          -119.97496795654297,
          16.916479110717773,
          -134.13845825195312,
          35.50104904174805,
          30.7963809967041,
          40.448421478271484,
          -55.1917839050293,
          -69.4092025756836,
          97.5378189086914,
          -29.81121063232422,
          -56.91859436035156,
          34.05947494506836,
          97.5815658569336,
          -50.45220184326172,
          -71.5807113647461,
          104.26795959472656,
          12.972654342651367,
          -18.06292724609375
         ]
        }
       ],
       "layout": {
        "legend": {
         "tracegroupgap": 0
        },
        "margin": {
         "t": 60
        },
        "scene": {
         "domain": {
          "x": [
           0,
           1
          ],
          "y": [
           0,
           1
          ]
         },
         "xaxis": {
          "title": {
           "text": "X"
          }
         },
         "yaxis": {
          "title": {
           "text": "Y"
          }
         },
         "zaxis": {
          "title": {
           "text": "Z"
          }
         }
        },
        "template": {
         "data": {
          "bar": [
           {
            "error_x": {
             "color": "#2a3f5f"
            },
            "error_y": {
             "color": "#2a3f5f"
            },
            "marker": {
             "line": {
              "color": "#E5ECF6",
              "width": 0.5
             },
             "pattern": {
              "fillmode": "overlay",
              "size": 10,
              "solidity": 0.2
             }
            },
            "type": "bar"
           }
          ],
          "barpolar": [
           {
            "marker": {
             "line": {
              "color": "#E5ECF6",
              "width": 0.5
             },
             "pattern": {
              "fillmode": "overlay",
              "size": 10,
              "solidity": 0.2
             }
            },
            "type": "barpolar"
           }
          ],
          "carpet": [
           {
            "aaxis": {
             "endlinecolor": "#2a3f5f",
             "gridcolor": "white",
             "linecolor": "white",
             "minorgridcolor": "white",
             "startlinecolor": "#2a3f5f"
            },
            "baxis": {
             "endlinecolor": "#2a3f5f",
             "gridcolor": "white",
             "linecolor": "white",
             "minorgridcolor": "white",
             "startlinecolor": "#2a3f5f"
            },
            "type": "carpet"
           }
          ],
          "choropleth": [
           {
            "colorbar": {
             "outlinewidth": 0,
             "ticks": ""
            },
            "type": "choropleth"
           }
          ],
          "contour": [
           {
            "colorbar": {
             "outlinewidth": 0,
             "ticks": ""
            },
            "colorscale": [
             [
              0,
              "#0d0887"
             ],
             [
              0.1111111111111111,
              "#46039f"
             ],
             [
              0.2222222222222222,
              "#7201a8"
             ],
             [
              0.3333333333333333,
              "#9c179e"
             ],
             [
              0.4444444444444444,
              "#bd3786"
             ],
             [
              0.5555555555555556,
              "#d8576b"
             ],
             [
              0.6666666666666666,
              "#ed7953"
             ],
             [
              0.7777777777777778,
              "#fb9f3a"
             ],
             [
              0.8888888888888888,
              "#fdca26"
             ],
             [
              1,
              "#f0f921"
             ]
            ],
            "type": "contour"
           }
          ],
          "contourcarpet": [
           {
            "colorbar": {
             "outlinewidth": 0,
             "ticks": ""
            },
            "type": "contourcarpet"
           }
          ],
          "heatmap": [
           {
            "colorbar": {
             "outlinewidth": 0,
             "ticks": ""
            },
            "colorscale": [
             [
              0,
              "#0d0887"
             ],
             [
              0.1111111111111111,
              "#46039f"
             ],
             [
              0.2222222222222222,
              "#7201a8"
             ],
             [
              0.3333333333333333,
              "#9c179e"
             ],
             [
              0.4444444444444444,
              "#bd3786"
             ],
             [
              0.5555555555555556,
              "#d8576b"
             ],
             [
              0.6666666666666666,
              "#ed7953"
             ],
             [
              0.7777777777777778,
              "#fb9f3a"
             ],
             [
              0.8888888888888888,
              "#fdca26"
             ],
             [
              1,
              "#f0f921"
             ]
            ],
            "type": "heatmap"
           }
          ],
          "heatmapgl": [
           {
            "colorbar": {
             "outlinewidth": 0,
             "ticks": ""
            },
            "colorscale": [
             [
              0,
              "#0d0887"
             ],
             [
              0.1111111111111111,
              "#46039f"
             ],
             [
              0.2222222222222222,
              "#7201a8"
             ],
             [
              0.3333333333333333,
              "#9c179e"
             ],
             [
              0.4444444444444444,
              "#bd3786"
             ],
             [
              0.5555555555555556,
              "#d8576b"
             ],
             [
              0.6666666666666666,
              "#ed7953"
             ],
             [
              0.7777777777777778,
              "#fb9f3a"
             ],
             [
              0.8888888888888888,
              "#fdca26"
             ],
             [
              1,
              "#f0f921"
             ]
            ],
            "type": "heatmapgl"
           }
          ],
          "histogram": [
           {
            "marker": {
             "pattern": {
              "fillmode": "overlay",
              "size": 10,
              "solidity": 0.2
             }
            },
            "type": "histogram"
           }
          ],
          "histogram2d": [
           {
            "colorbar": {
             "outlinewidth": 0,
             "ticks": ""
            },
            "colorscale": [
             [
              0,
              "#0d0887"
             ],
             [
              0.1111111111111111,
              "#46039f"
             ],
             [
              0.2222222222222222,
              "#7201a8"
             ],
             [
              0.3333333333333333,
              "#9c179e"
             ],
             [
              0.4444444444444444,
              "#bd3786"
             ],
             [
              0.5555555555555556,
              "#d8576b"
             ],
             [
              0.6666666666666666,
              "#ed7953"
             ],
             [
              0.7777777777777778,
              "#fb9f3a"
             ],
             [
              0.8888888888888888,
              "#fdca26"
             ],
             [
              1,
              "#f0f921"
             ]
            ],
            "type": "histogram2d"
           }
          ],
          "histogram2dcontour": [
           {
            "colorbar": {
             "outlinewidth": 0,
             "ticks": ""
            },
            "colorscale": [
             [
              0,
              "#0d0887"
             ],
             [
              0.1111111111111111,
              "#46039f"
             ],
             [
              0.2222222222222222,
              "#7201a8"
             ],
             [
              0.3333333333333333,
              "#9c179e"
             ],
             [
              0.4444444444444444,
              "#bd3786"
             ],
             [
              0.5555555555555556,
              "#d8576b"
             ],
             [
              0.6666666666666666,
              "#ed7953"
             ],
             [
              0.7777777777777778,
              "#fb9f3a"
             ],
             [
              0.8888888888888888,
              "#fdca26"
             ],
             [
              1,
              "#f0f921"
             ]
            ],
            "type": "histogram2dcontour"
           }
          ],
          "mesh3d": [
           {
            "colorbar": {
             "outlinewidth": 0,
             "ticks": ""
            },
            "type": "mesh3d"
           }
          ],
          "parcoords": [
           {
            "line": {
             "colorbar": {
              "outlinewidth": 0,
              "ticks": ""
             }
            },
            "type": "parcoords"
           }
          ],
          "pie": [
           {
            "automargin": true,
            "type": "pie"
           }
          ],
          "scatter": [
           {
            "fillpattern": {
             "fillmode": "overlay",
             "size": 10,
             "solidity": 0.2
            },
            "type": "scatter"
           }
          ],
          "scatter3d": [
           {
            "line": {
             "colorbar": {
              "outlinewidth": 0,
              "ticks": ""
             }
            },
            "marker": {
             "colorbar": {
              "outlinewidth": 0,
              "ticks": ""
             }
            },
            "type": "scatter3d"
           }
          ],
          "scattercarpet": [
           {
            "marker": {
             "colorbar": {
              "outlinewidth": 0,
              "ticks": ""
             }
            },
            "type": "scattercarpet"
           }
          ],
          "scattergeo": [
           {
            "marker": {
             "colorbar": {
              "outlinewidth": 0,
              "ticks": ""
             }
            },
            "type": "scattergeo"
           }
          ],
          "scattergl": [
           {
            "marker": {
             "colorbar": {
              "outlinewidth": 0,
              "ticks": ""
             }
            },
            "type": "scattergl"
           }
          ],
          "scattermapbox": [
           {
            "marker": {
             "colorbar": {
              "outlinewidth": 0,
              "ticks": ""
             }
            },
            "type": "scattermapbox"
           }
          ],
          "scatterpolar": [
           {
            "marker": {
             "colorbar": {
              "outlinewidth": 0,
              "ticks": ""
             }
            },
            "type": "scatterpolar"
           }
          ],
          "scatterpolargl": [
           {
            "marker": {
             "colorbar": {
              "outlinewidth": 0,
              "ticks": ""
             }
            },
            "type": "scatterpolargl"
           }
          ],
          "scatterternary": [
           {
            "marker": {
             "colorbar": {
              "outlinewidth": 0,
              "ticks": ""
             }
            },
            "type": "scatterternary"
           }
          ],
          "surface": [
           {
            "colorbar": {
             "outlinewidth": 0,
             "ticks": ""
            },
            "colorscale": [
             [
              0,
              "#0d0887"
             ],
             [
              0.1111111111111111,
              "#46039f"
             ],
             [
              0.2222222222222222,
              "#7201a8"
             ],
             [
              0.3333333333333333,
              "#9c179e"
             ],
             [
              0.4444444444444444,
              "#bd3786"
             ],
             [
              0.5555555555555556,
              "#d8576b"
             ],
             [
              0.6666666666666666,
              "#ed7953"
             ],
             [
              0.7777777777777778,
              "#fb9f3a"
             ],
             [
              0.8888888888888888,
              "#fdca26"
             ],
             [
              1,
              "#f0f921"
             ]
            ],
            "type": "surface"
           }
          ],
          "table": [
           {
            "cells": {
             "fill": {
              "color": "#EBF0F8"
             },
             "line": {
              "color": "white"
             }
            },
            "header": {
             "fill": {
              "color": "#C8D4E3"
             },
             "line": {
              "color": "white"
             }
            },
            "type": "table"
           }
          ]
         },
         "layout": {
          "annotationdefaults": {
           "arrowcolor": "#2a3f5f",
           "arrowhead": 0,
           "arrowwidth": 1
          },
          "autotypenumbers": "strict",
          "coloraxis": {
           "colorbar": {
            "outlinewidth": 0,
            "ticks": ""
           }
          },
          "colorscale": {
           "diverging": [
            [
             0,
             "#8e0152"
            ],
            [
             0.1,
             "#c51b7d"
            ],
            [
             0.2,
             "#de77ae"
            ],
            [
             0.3,
             "#f1b6da"
            ],
            [
             0.4,
             "#fde0ef"
            ],
            [
             0.5,
             "#f7f7f7"
            ],
            [
             0.6,
             "#e6f5d0"
            ],
            [
             0.7,
             "#b8e186"
            ],
            [
             0.8,
             "#7fbc41"
            ],
            [
             0.9,
             "#4d9221"
            ],
            [
             1,
             "#276419"
            ]
           ],
           "sequential": [
            [
             0,
             "#0d0887"
            ],
            [
             0.1111111111111111,
             "#46039f"
            ],
            [
             0.2222222222222222,
             "#7201a8"
            ],
            [
             0.3333333333333333,
             "#9c179e"
            ],
            [
             0.4444444444444444,
             "#bd3786"
            ],
            [
             0.5555555555555556,
             "#d8576b"
            ],
            [
             0.6666666666666666,
             "#ed7953"
            ],
            [
             0.7777777777777778,
             "#fb9f3a"
            ],
            [
             0.8888888888888888,
             "#fdca26"
            ],
            [
             1,
             "#f0f921"
            ]
           ],
           "sequentialminus": [
            [
             0,
             "#0d0887"
            ],
            [
             0.1111111111111111,
             "#46039f"
            ],
            [
             0.2222222222222222,
             "#7201a8"
            ],
            [
             0.3333333333333333,
             "#9c179e"
            ],
            [
             0.4444444444444444,
             "#bd3786"
            ],
            [
             0.5555555555555556,
             "#d8576b"
            ],
            [
             0.6666666666666666,
             "#ed7953"
            ],
            [
             0.7777777777777778,
             "#fb9f3a"
            ],
            [
             0.8888888888888888,
             "#fdca26"
            ],
            [
             1,
             "#f0f921"
            ]
           ]
          },
          "colorway": [
           "#636efa",
           "#EF553B",
           "#00cc96",
           "#ab63fa",
           "#FFA15A",
           "#19d3f3",
           "#FF6692",
           "#B6E880",
           "#FF97FF",
           "#FECB52"
          ],
          "font": {
           "color": "#2a3f5f"
          },
          "geo": {
           "bgcolor": "white",
           "lakecolor": "white",
           "landcolor": "#E5ECF6",
           "showlakes": true,
           "showland": true,
           "subunitcolor": "white"
          },
          "hoverlabel": {
           "align": "left"
          },
          "hovermode": "closest",
          "mapbox": {
           "style": "light"
          },
          "paper_bgcolor": "white",
          "plot_bgcolor": "#E5ECF6",
          "polar": {
           "angularaxis": {
            "gridcolor": "white",
            "linecolor": "white",
            "ticks": ""
           },
           "bgcolor": "#E5ECF6",
           "radialaxis": {
            "gridcolor": "white",
            "linecolor": "white",
            "ticks": ""
           }
          },
          "scene": {
           "xaxis": {
            "backgroundcolor": "#E5ECF6",
            "gridcolor": "white",
            "gridwidth": 2,
            "linecolor": "white",
            "showbackground": true,
            "ticks": "",
            "zerolinecolor": "white"
           },
           "yaxis": {
            "backgroundcolor": "#E5ECF6",
            "gridcolor": "white",
            "gridwidth": 2,
            "linecolor": "white",
            "showbackground": true,
            "ticks": "",
            "zerolinecolor": "white"
           },
           "zaxis": {
            "backgroundcolor": "#E5ECF6",
            "gridcolor": "white",
            "gridwidth": 2,
            "linecolor": "white",
            "showbackground": true,
            "ticks": "",
            "zerolinecolor": "white"
           }
          },
          "shapedefaults": {
           "line": {
            "color": "#2a3f5f"
           }
          },
          "ternary": {
           "aaxis": {
            "gridcolor": "white",
            "linecolor": "white",
            "ticks": ""
           },
           "baxis": {
            "gridcolor": "white",
            "linecolor": "white",
            "ticks": ""
           },
           "bgcolor": "#E5ECF6",
           "caxis": {
            "gridcolor": "white",
            "linecolor": "white",
            "ticks": ""
           }
          },
          "title": {
           "x": 0.05
          },
          "xaxis": {
           "automargin": true,
           "gridcolor": "white",
           "linecolor": "white",
           "ticks": "",
           "title": {
            "standoff": 15
           },
           "zerolinecolor": "white",
           "zerolinewidth": 2
          },
          "yaxis": {
           "automargin": true,
           "gridcolor": "white",
           "linecolor": "white",
           "ticks": "",
           "title": {
            "standoff": 15
           },
           "zerolinecolor": "white",
           "zerolinewidth": 2
          }
         }
        }
       }
      }
     },
     "metadata": {},
     "output_type": "display_data"
    }
   ],
   "source": [
    "from sklearn.manifold import TSNE\n",
    "import plotly.express as px\n",
    "\n",
    "model.load_state_dict(torch.load(\"./output/word2vec/best_model.pt\", weights_only=True))\n",
    "\n",
    "embeds = model.cxt_embedding.weight.detach().numpy()\n",
    "vocab = list(cbow.vocab_freq.keys())\n",
    "\n",
    "tsne = TSNE(n_components=3)\n",
    "embeds_tsne = tsne.fit_transform(embeds)\n",
    "\n",
    "tsne_df = pd.DataFrame.from_dict({\n",
    "    \"X\": embeds_tsne[:, 0],\n",
    "    \"Y\": embeds_tsne[:, 1],\n",
    "    \"Z\": embeds_tsne[:, 2], \n",
    "    \"Word\": vocab\n",
    "})\n",
    "px.scatter_3d(tsne_df, x=\"X\", y=\"Y\", z=\"Z\", text=\"Word\")"
   ]
  },
  {
   "cell_type": "code",
   "execution_count": null,
   "metadata": {},
   "outputs": [],
   "source": [
    "vocab_dict = {0: 4, 1: 6, 2: 3, 3: 2, 4: 2}\n",
    "\n",
    "tree = HuffmanBTree(vocab_dict)\n",
    "print(tree.word_code)\n",
    "print(tree.word_path)\n",
    "print(tree.left_dict)\n",
    "print(tree.right_dict)\n",
    "\n",
    "# {1: [1, 1], 0: [1, 0], 3: [0, 1, 1], 4: [0, 1, 0], 2: [0, 0]}\n",
    "# {1: [8, 7], 0: [8, 7], 3: [8, 6, 5], 4: [8, 6, 5], 2: [8, 6]}\n",
    "# ([[8], [8, 7], [], [6, 5], [6]], [[7], [], [8, 6], [8], [8, 5]])"
   ]
  },
  {
   "cell_type": "code",
   "execution_count": null,
   "metadata": {},
   "outputs": [],
   "source": [
    "freq_df = pd.read_csv(\"./output/bow/Vocab Frequency.csv\")\n",
    "freq_df.sort_values(by=\"Frequency\", ascending=False, ignore_index=True, inplace=True)\n",
    "freq_df = freq_df.iloc[:1000]\n",
    "num_vocab = 5\n",
    "freq_df = freq_df.iloc[np.random.choice(len(freq_df), num_vocab)]\n",
    "\n",
    "vocab = list(freq_df[\"Word\"])\n",
    "freq = list(freq_df[\"Frequency\"])\n",
    "vocab_idx = [i for i in range(len(vocab))]\n",
    "vocab_dict = {k:v for k,v in zip(vocab_idx, freq)}\n",
    "\n",
    "freq_df.head(num_vocab)"
   ]
  },
  {
   "cell_type": "code",
   "execution_count": 104,
   "metadata": {},
   "outputs": [],
   "source": [
    "class Word:\n",
    "    def __init__(self, word, freq):\n",
    "        self.word = word\n",
    "        self.freq = freq\n",
    "\n",
    "class Tree:\n",
    "    def __init__(self, word, freq, left, right):\n",
    "        self.word = word\n",
    "        self.freq = freq\n",
    "        self.right = right\n",
    "        self.left = left\n",
    "\n",
    "def construct_tree(vocab, freq):\n",
    "    word_list = []\n",
    "    for w,f in zip(vocab, freq):\n",
    "        word_list.append(Word(w,f))\n",
    "\n",
    "    count = 0\n",
    "    while len(word_list) > 1:\n",
    "        left = word_list[-1]\n",
    "        right = word_list[-2]\n",
    "\n",
    "        word = f\"W{count}\"\n",
    "        freq = left.freq + right.freq\n",
    "\n",
    "        print(f\"Root: ({word}, {freq}), Left: ({left.word}, {left.freq}), Right: ({right.word}, {right.freq})\")\n",
    "\n",
    "        tree = Tree(word, freq, left, right)\n",
    "        word_list = word_list[:-2]\n",
    "        \n",
    "        word_list.append(tree)\n",
    "        word_list = sorted(word_list, key=lambda a:a.freq, reverse=False)\n",
    "\n",
    "        count += 1\n",
    "\n",
    "    return tree\n",
    "\n",
    "def encode_tree(tree, path_dict, path):\n",
    "\n",
    "    if isinstance(tree, Word):\n",
    "        path_dict[tree.word] = path\n",
    "    \n",
    "    if isinstance(tree.left, Word):\n",
    "        path_dict[tree.left.word] = path + [0]\n",
    "    else:\n",
    "        encode_tree(tree.left, path_dict, path+[0])\n",
    "\n",
    "    if isinstance(tree.right, Word):\n",
    "        path_dict[tree.right.word] = path + [1]\n",
    "    else:\n",
    "        encode_tree(tree.right, path_dict, path+[1])\n",
    "\n",
    "    if len(path_dict) == num_vocab:\n",
    "        return path_dict"
   ]
  },
  {
   "cell_type": "code",
   "execution_count": null,
   "metadata": {},
   "outputs": [],
   "source": [
    "tree = construct_tree(vocab, freq)\n",
    "\n",
    "path_dict = {}\n",
    "path = []\n",
    "path_dict = encode_tree(tree, path_dict, path)\n",
    "path_dict"
   ]
  },
  {
   "cell_type": "markdown",
   "metadata": {},
   "source": [
    "### GloVe"
   ]
  },
  {
   "cell_type": "code",
   "execution_count": 1,
   "metadata": {},
   "outputs": [],
   "source": [
    "import numpy as np\n",
    "import yaml\n",
    "import os\n",
    "import sys\n",
    "sys.path.append(\"./src/\")\n",
    "from src.core.word2vec.dataset import Word2VecDataset\n",
    "\n",
    "from collections import defaultdict\n",
    "import tqdm\n",
    "import time\n",
    "\n",
    "%matplotlib inline\n",
    "import matplotlib.pyplot as plt\n",
    "import seaborn as sns\n",
    "\n",
    "import torch\n",
    "import torch.nn as nn\n",
    "import torch.nn.functional as F\n",
    "from torch.utils.data import TensorDataset, DataLoader\n",
    "\n",
    "from sklearn.model_selection import train_test_split"
   ]
  },
  {
   "cell_type": "code",
   "execution_count": 2,
   "metadata": {},
   "outputs": [
    {
     "name": "stderr",
     "output_type": "stream",
     "text": [
      "Extracting from: neg: 100%|██████████| 5/5 [00:00<00:00, 107.32it/s]\n",
      "Extracting from: pos: 100%|██████████| 5/5 [00:00<00:00, 140.87it/s]\n",
      "Extracting from: unsup: 100%|██████████| 5/5 [00:00<00:00, 107.52it/s]\n"
     ]
    }
   ],
   "source": [
    "config_path = \"./configs/glove.yaml\"\n",
    "with open(config_path, \"r\") as stream:\n",
    "    config_dict = yaml.safe_load(stream)\n",
    "\n",
    "cbow_ds = Word2VecDataset(config_dict)\n",
    "\n",
    "text_ls = cbow_ds.text_ls\n",
    "word2id = cbow_ds.word2id\n",
    "id2word = cbow_ds.id2word\n",
    "num_vocab = len(word2id)\n",
    "context = config_dict[\"dataset\"][\"context\"]\n",
    "\n",
    "val_split = config_dict[\"dataset\"][\"val_split\"]\n",
    "batch_size = config_dict[\"dataset\"][\"batch_size\"]\n",
    "seed = config_dict[\"dataset\"][\"batch_size\"]\n",
    "\n",
    "xmax = config_dict[\"train\"][\"x_max\"]\n",
    "alpha = config_dict[\"train\"][\"alpha\"]"
   ]
  },
  {
   "cell_type": "code",
   "execution_count": 3,
   "metadata": {},
   "outputs": [
    {
     "name": "stderr",
     "output_type": "stream",
     "text": [
      "Extracting from: neg: 100%|██████████| 5/5 [00:00<00:00, 273.71it/s]\n",
      "Extracting from: pos: 100%|██████████| 5/5 [00:00<00:00, 364.00it/s]\n",
      "Extracting from: unsup: 100%|██████████| 5/5 [00:00<00:00, 395.03it/s]\n",
      "Training: 100%|██████████| 127/127 [00:04<00:00, 25.92it/s]\n",
      "Validation: 100%|██████████| 31/31 [00:03<00:00,  8.30it/s]\n",
      "Training: 100%|██████████| 127/127 [00:04<00:00, 30.36it/s]\n",
      "Validation: 100%|██████████| 31/31 [00:03<00:00,  8.28it/s]\n",
      "Training: 100%|██████████| 127/127 [00:03<00:00, 32.75it/s]\n",
      "Validation: 100%|██████████| 31/31 [00:03<00:00,  8.71it/s]\n",
      "e:\\anaconda\\envs\\nlp_env\\lib\\site-packages\\joblib\\externals\\loky\\backend\\context.py:136: UserWarning: Could not find the number of physical cores for the following reason:\n",
      "[WinError 2] The system cannot find the file specified\n",
      "Returning the number of logical cores instead. You can silence this warning by setting LOKY_MAX_CPU_COUNT to the number of cores you want to use.\n",
      "  warnings.warn(\n",
      "  File \"e:\\anaconda\\envs\\nlp_env\\lib\\site-packages\\joblib\\externals\\loky\\backend\\context.py\", line 257, in _count_physical_cores\n",
      "    cpu_info = subprocess.run(\n",
      "  File \"e:\\anaconda\\envs\\nlp_env\\lib\\subprocess.py\", line 501, in run\n",
      "    with Popen(*popenargs, **kwargs) as process:\n",
      "  File \"e:\\anaconda\\envs\\nlp_env\\lib\\subprocess.py\", line 947, in __init__\n",
      "    self._execute_child(args, executable, preexec_fn, close_fds,\n",
      "  File \"e:\\anaconda\\envs\\nlp_env\\lib\\subprocess.py\", line 1416, in _execute_child\n",
      "    hp, ht, pid, tid = _winapi.CreateProcess(executable, args,\n"
     ]
    },
    {
     "data": {
      "image/png": "[encoded data removed]",
      "text/plain": [
       "<Figure size 1500x1500 with 2 Axes>"
      ]
     },
     "metadata": {},
     "output_type": "display_data"
    }
   ],
   "source": [
    "from core.glove.glove import GloVe\n",
    "\n",
    "glove_model = GloVe(config_dict)\n",
    "glove_model.run()"
   ]
  },
  {
   "cell_type": "code",
   "execution_count": 9,
   "metadata": {},
   "outputs": [
    {
     "data": {
      "text/plain": [
       "dict_keys(['br', 'film', 'time', 'one', 'movie', 'like', 'airport', 'could', 'two', 'much', 'see', 'never', 'good', 'love', 'bolt', 'day', 'scene', 'think', 'plane', 'three', 'little', 'scenes', 'cagney', 'great', 'seen', 'plot', 'many', 'acting', 'oscar', 'people', 'brooks', 'even', 'make', 'future', '77', 'air', 'help', 'films', 'made', 'well', 'high', 'chasers', 'etting', 'story', 'man', 'audience', 'making', 'dialogue', 'would', 'better', 'stars', 'rich', 'james', 'also', 'right', 'disaster', 'say', 'far', 'best', 'maybe', 'either', 'something', 'look', 'cut', 'looks', 'leading', 'actors', 'watch', 'take', 'movies', 'life', 'without', 'allen', 'characters', 'bromwell', 'teachers', 'years', 'lead', 'homeless', 'streets', 'bet', 'mel', 'warren', 'opening', 'comedy', 'new', '747', 'valuable', 'takes', 'different', 'second', 'classic', 'although', 'actually', 'liked', 'character', 'dull', 'minutes', 'george', 'back', '<UNK>'])"
      ]
     },
     "execution_count": 9,
     "metadata": {},
     "output_type": "execute_result"
    }
   ],
   "source": [
    "glove_model.glove_ds.word2id.keys()"
   ]
  },
  {
   "cell_type": "code",
   "execution_count": 13,
   "metadata": {},
   "outputs": [
    {
     "data": {
      "text/plain": [
       "torch.Size([63, 128])"
      ]
     },
     "execution_count": 13,
     "metadata": {},
     "output_type": "execute_result"
    }
   ],
   "source": [
    "from preprocess.utils import preprocess_text\n",
    "\n",
    "operations = config_dict[\"preprocess\"][\"operations\"]\n",
    "sentence = preprocess_text(text_ls[0], operations)\n",
    "word_ls = sentence.split()\n",
    "vocab = glove_model.glove_ds.word2id.keys()\n",
    "word_ls = [i if i in vocab else \"<UNK>\" for i in word_ls]\n",
    "word_ids = [glove_model.glove_ds.word2id[word] for word in word_ls]\n",
    "word_ids = torch.Tensor(word_ids).to(torch.long)\n",
    "word_embeds = glove_model.model.ctr_embedding(word_ids)\n",
    "word_embeds.shape"
   ]
  },
  {
   "cell_type": "code",
   "execution_count": 28,
   "metadata": {},
   "outputs": [],
   "source": [
    "cooccur_mat = np.zeros((num_vocab, num_vocab))\n",
    "\n",
    "for text in text_ls:\n",
    "    words = text.split()\n",
    "\n",
    "    if len(words) < 1 + context:\n",
    "        continue\n",
    "\n",
    "    for i in range(context, len(words)-context):\n",
    "        id_i = word2id[words[i]]\n",
    "        for j in range(i-context, i+context):\n",
    "            id_j = word2id[words[j]]\n",
    "            dist = np.abs(j-i)\n",
    "            if dist != 0: cooccur_mat[id_i][id_j] += 1/dist\n",
    "\n",
    "X_ctr, X_cxt = np.indices((num_vocab, num_vocab))\n",
    "X_ctr, X_cxt = X_ctr.flatten(), X_cxt.flatten()\n",
    "X_count = cooccur_mat.flatten()\n",
    "# fig, ax = plt.subplots(1, 1, figsize=(15,15))\n",
    "# sns.heatmap(cooccur_mat, xticklabels=word2id.keys(), yticklabels=word2id.keys(), ax=ax)"
   ]
  },
  {
   "cell_type": "code",
   "execution_count": null,
   "metadata": {},
   "outputs": [],
   "source": [
    "# glove_model = GloVeModel(config_dict)\n",
    "# optim = torch.optim.Adam(glove_model.parameters(), lr=config_dict[\"train\"][\"lr\"])\n",
    "\n",
    "# glove_trainer = GloVeTrainer(glove_model, optim, config_dict)\n",
    "# glove_trainer.fit(train_loader, val_loader)"
   ]
  },
  {
   "cell_type": "markdown",
   "metadata": {},
   "source": [
    "### RNN"
   ]
  },
  {
   "cell_type": "code",
   "execution_count": 63,
   "metadata": {},
   "outputs": [],
   "source": [
    "import numpy as np\n",
    "import yaml\n",
    "import os\n",
    "import sys\n",
    "sys.path.append(\"./src/\")\n",
    "from preprocess.imdb_reviews import PreprocessIMDB\n",
    "from src.core.word2vec.dataset import Word2VecDataset\n",
    "\n",
    "from collections import defaultdict\n",
    "import tqdm\n",
    "import time\n",
    "\n",
    "%matplotlib inline\n",
    "import matplotlib.pyplot as plt\n",
    "import seaborn as sns\n",
    "\n",
    "import torch\n",
    "import torch.nn as nn\n",
    "import torch.nn.functional as F\n",
    "from torch.utils.data import TensorDataset, DataLoader\n",
    "\n",
    "from sklearn.model_selection import train_test_split\n",
    "from sklearn.preprocessing import OneHotEncoder\n",
    "from sklearn.metrics import accuracy_score"
   ]
  },
  {
   "cell_type": "code",
   "execution_count": 64,
   "metadata": {},
   "outputs": [
    {
     "name": "stderr",
     "output_type": "stream",
     "text": [
      "Extracting from: neg: 100%|██████████| 64/64 [00:00<00:00, 272.08it/s]\n",
      "Extracting from: pos: 100%|██████████| 64/64 [00:00<00:00, 238.62it/s]\n"
     ]
    },
    {
     "name": "stdout",
     "output_type": "stream",
     "text": [
      "(array([0., 1.]), array([128, 128]))\n",
      "102 100\n"
     ]
    }
   ],
   "source": [
    "### Dataset\n",
    "config_path = \"./configs/rnn.yaml\"\n",
    "with open(config_path, \"r\") as stream:\n",
    "    config_dict = yaml.safe_load(stream)\n",
    "\n",
    "cbow_ds = Word2VecDataset(config_dict)\n",
    "\n",
    "text_ls = cbow_ds.text_ls\n",
    "label_ls = np.array(cbow_ds.preproc_cls.label_ls)\n",
    "le = OneHotEncoder()\n",
    "label_ls = le.fit_transform(label_ls.reshape(-1, 1)).toarray()\n",
    "word2id = cbow_ds.word2id\n",
    "id2word = cbow_ds.id2word\n",
    "\n",
    "word2id[\"<PAD>\"] = len(word2id)\n",
    "id2word[len(id2word)] = \"<PAD>\"\n",
    "\n",
    "num_vocab = len(word2id)\n",
    "\n",
    "print(np.unique(label_ls, return_counts=True))\n",
    "\n",
    "seq_len = config_dict[\"dataset\"][\"seq_len\"]\n",
    "print(num_vocab, seq_len)\n",
    "\n",
    "text_id_ls = []\n",
    "for text in text_ls:\n",
    "    ls = []\n",
    "    for word in text.split()[:seq_len]:\n",
    "        ls.append(word2id[word])\n",
    "    if len(ls) < seq_len:\n",
    "        num_pad = seq_len - len(ls)\n",
    "        ls.extend([word2id[\"<PAD>\"]]*num_pad)\n",
    "    text_id_ls.append(ls)\n",
    "\n",
    "text_id_ls, label_ls = np.array(text_id_ls), np.array(label_ls)"
   ]
  },
  {
   "cell_type": "code",
   "execution_count": 38,
   "metadata": {},
   "outputs": [
    {
     "name": "stdout",
     "output_type": "stream",
     "text": [
      "torch.Size([8, 100])\n",
      "torch.Size([8, 2])\n"
     ]
    }
   ],
   "source": [
    "### Data Loader\n",
    "\n",
    "val_split = config_dict[\"dataset\"][\"val_split\"]\n",
    "batch_size = config_dict[\"dataset\"][\"batch_size\"]\n",
    "seed = config_dict[\"dataset\"][\"batch_size\"]\n",
    "\n",
    "def create_dataloader(X, y, val_split, batch_size, seed):\n",
    "    train_x, val_x, train_y, val_y = train_test_split(X, y, test_size=val_split, random_state=seed)\n",
    "\n",
    "    train_ds = TensorDataset(torch.Tensor(train_x), torch.Tensor(train_y))\n",
    "    train_loader = DataLoader(train_ds, batch_size=batch_size, shuffle=True, drop_last=True, num_workers=1, pin_memory=True)\n",
    "\n",
    "    val_ds = TensorDataset(torch.Tensor(val_x), torch.Tensor(val_y))\n",
    "    val_loader = DataLoader(val_ds, batch_size=batch_size, shuffle=False, drop_last=True, num_workers=1, pin_memory=True)\n",
    "    return train_loader, val_loader\n",
    "\n",
    "train_loader, val_loader = create_dataloader(text_id_ls, label_ls, val_split, batch_size, seed)\n",
    "\n",
    "X, y = next(iter(train_loader))\n",
    "print(X.shape)\n",
    "print(y.shape)"
   ]
  },
  {
   "cell_type": "code",
   "execution_count": 55,
   "metadata": {},
   "outputs": [],
   "source": [
    "### RNN Cell\n",
    "\n",
    "class RNNCell(nn.Module):\n",
    "    def __init__(self, h_dim, inp_x_dim, out_x_dim):\n",
    "        super(RNNCell, self).__init__()\n",
    "        \n",
    "        self.hh_dense = nn.Linear(h_dim, h_dim)\n",
    "        self.hx_dense = nn.Linear(inp_x_dim, h_dim)\n",
    "\n",
    "        self.xh_dense = nn.Linear(h_dim, out_x_dim)\n",
    "\n",
    "    def forward(self, ht_1, xt):\n",
    "        ht = nn.Tanh()(self.hh_dense(ht_1) + self.hx_dense(xt))\n",
    "        yt = self.xh_dense(ht)\n",
    "        return ht, yt\n",
    "\n",
    "class RNNModel(nn.Module):\n",
    "    def __init__(self, config_dict):\n",
    "        super(RNNModel, self).__init__()\n",
    "\n",
    "        self.seq_len = config_dict[\"dataset\"][\"seq_len\"]\n",
    "        self.num_layers = config_dict[\"model\"][\"num_layers\"]\n",
    "        self.h_dims = config_dict[\"model\"][\"h_dim\"]\n",
    "        self.x_dims = config_dict[\"model\"][\"x_dim\"]\n",
    "        self.clf_dims = config_dict[\"model\"][\"clf_dim\"]\n",
    "        self.num_classes = config_dict[\"dataset\"][\"num_classes\"]\n",
    "\n",
    "        num_vocab = 2 + config_dict[\"dataset\"][\"num_vocab\"]\n",
    "        embed_dim = config_dict[\"model\"][\"embed_dim\"]\n",
    "        self.embed_layer = nn.Embedding(num_vocab, embed_dim)\n",
    "\n",
    "        self.rnn_cells = []\n",
    "        for i in range(self.num_layers):\n",
    "            h_dim = self.h_dims[i]\n",
    "            inp_x_dim, out_x_dim = self.x_dims[i], self.x_dims[i+1]\n",
    "            self.rnn_cells.append(RNNCell(h_dim, inp_x_dim, out_x_dim))\n",
    "\n",
    "    def forward(self, X):\n",
    "        x_embed = self.embed_layer(X.to(torch.long))\n",
    "        self.num_samples = x_embed.size(0)\n",
    "        \n",
    "        yt_1s = x_embed\n",
    "        hts = self.init_hidden()\n",
    "        for i in range(self.num_layers):\n",
    "            yts = []\n",
    "            rnn_cell = self.rnn_cells[i]\n",
    "\n",
    "            ht = hts[i]\n",
    "            for j in range(self.seq_len):\n",
    "                ht, yt = rnn_cell(ht, yt_1s[:, j, :])\n",
    "                yts.append(yt)\n",
    "\n",
    "            yt_1s = torch.transpose(torch.stack(yts), 0, 1)\n",
    "\n",
    "        out = yt_1s[:, -1, :]\n",
    "        for i in range(len(self.clf_dims)-1):\n",
    "            out = nn.Linear(self.clf_dims[i], self.clf_dims[i+1])(out)\n",
    "            out = nn.ReLU()(out)\n",
    "\n",
    "        out = nn.Linear(self.clf_dims[-1], self.num_classes)(out)\n",
    "\n",
    "        return out\n",
    "\n",
    "    def init_hidden(self):\n",
    "        hts = [nn.init.kaiming_uniform(torch.empty(self.num_samples, dim)) for dim in self.h_dims]\n",
    "\n",
    "        return hts"
   ]
  },
  {
   "cell_type": "code",
   "execution_count": 40,
   "metadata": {},
   "outputs": [
    {
     "data": {
      "text/plain": [
       "torch.Size([8, 2])"
      ]
     },
     "execution_count": 40,
     "metadata": {},
     "output_type": "execute_result"
    }
   ],
   "source": [
    "rnn_model = RNNModel(config_dict)\n",
    "out = rnn_model(X)\n",
    "out.shape"
   ]
  },
  {
   "cell_type": "code",
   "execution_count": 57,
   "metadata": {},
   "outputs": [],
   "source": [
    "loss_fn = nn.CrossEntropyLoss(reduction=\"sum\")\n",
    "\n",
    "def train_one_epoch(model, optimizer, data_loader, epoch):\n",
    "    model.train()\n",
    "    total_loss, num_instances = 0, 0\n",
    "    y_true, y_pred = [], []\n",
    "\n",
    "    print(f\"-----------Epoch {epoch}/{config_dict['train']['epochs']}-----------\")\n",
    "    pbar = tqdm.tqdm(enumerate(data_loader), total=len(data_loader), desc=\"Training\")\n",
    "\n",
    "    for batch_id, (X, y) in pbar:\n",
    "        y_hat = model(X)\n",
    "\n",
    "        loss = loss_fn(y, y_hat)\n",
    "        loss.backward()\n",
    "        optimizer.step()\n",
    "        optimizer.zero_grad()\n",
    "\n",
    "        total_loss += loss\n",
    "        num_instances += y.size(0)\n",
    "\n",
    "        y_true.append(y.cpu().detach().numpy().argmax(axis=1))\n",
    "        y_pred.append(y_hat.cpu().detach().numpy().argmax(axis=1))\n",
    "\n",
    "    train_loss = total_loss/num_instances\n",
    "\n",
    "    y_true = np.concatenate(y_true, axis=0)\n",
    "    y_pred = np.concatenate(y_pred, axis=0)\n",
    "    train_acc = accuracy_score(y_true, y_pred)\n",
    "\n",
    "    return train_loss, train_acc\n",
    "        \n",
    "@torch.no_grad()\n",
    "def val_one_epoch(model, data_loader):\n",
    "    model.eval()\n",
    "    total_loss, num_instances = 0, 0\n",
    "    y_true, y_pred = [], []\n",
    "\n",
    "    pbar = tqdm.tqdm(enumerate(data_loader), total=len(data_loader), desc=\"Validation\")\n",
    "\n",
    "    for batch_id, (X, y) in pbar:\n",
    "        y_hat = model(X)\n",
    "\n",
    "        loss = loss_fn(y, y_hat)\n",
    "\n",
    "        total_loss += loss\n",
    "        num_instances += y.size(0)\n",
    "\n",
    "        y_true.append(y.cpu().detach().numpy().argmax(axis=1))\n",
    "        y_pred.append(y_hat.cpu().detach().numpy().argmax(axis=1))\n",
    "\n",
    "    val_loss = total_loss/num_instances\n",
    "    \n",
    "    y_true = np.concatenate(y_true, axis=0)\n",
    "    y_pred = np.concatenate(y_pred, axis=0)\n",
    "    val_acc = accuracy_score(y_true, y_pred)\n",
    "\n",
    "    return val_loss, val_acc\n",
    "\n",
    "def fit_model(model, optimizer, train_loader, val_loader):\n",
    "    num_epochs = config_dict[\"train\"][\"epochs\"]\n",
    "    output_folder = config_dict[\"paths\"][\"output_folder\"]\n",
    "\n",
    "    best_val_acc = -np.inf\n",
    "    history = defaultdict(list)\n",
    "\n",
    "    start = time.time()\n",
    "    for epoch in range(1, num_epochs+1):\n",
    "        train_loss, train_acc = train_one_epoch(model, optimizer, train_loader, epoch)\n",
    "        val_loss, val_acc = val_one_epoch(model, val_loader)\n",
    "\n",
    "        print(f\"Train Loss : {train_loss} - Train Acc: {train_acc} - Val Loss : {val_loss} - Val Acc: {val_acc}\")\n",
    "            \n",
    "        history[\"train_loss\"].append(float(train_loss.detach().numpy()))\n",
    "        history[\"val_loss\"].append(float(val_loss.detach().numpy()))\n",
    "        history[\"train_acc\"].append(train_acc)\n",
    "        history[\"val_acc\"].append(val_acc)\n",
    "\n",
    "        if val_acc >= best_val_acc:\n",
    "            print(f\"Validation Accuracy improved from {best_val_acc} to {val_acc}\")\n",
    "            best_val_acc = val_acc\n",
    "            torch.save(model.state_dict(), os.path.join(output_folder, \"best_model.pt\"))\n",
    "        else:\n",
    "            print(f\"Validation Accuracy didn't improve from {best_val_acc}\")\n",
    "\n",
    "    end = time.time()\n",
    "    time_taken = end-start\n",
    "    print('Training completed in {:.0f}h {:.0f}m {:.0f}s'.format(\n",
    "        time_taken // 3600, (time_taken % 3600) // 60, (time_taken % 3600) % 60))\n",
    "    print(f\"Best Val Accuracy: {best_val_acc}\")\n",
    "\n",
    "    return history"
   ]
  },
  {
   "cell_type": "code",
   "execution_count": 58,
   "metadata": {},
   "outputs": [
    {
     "name": "stdout",
     "output_type": "stream",
     "text": [
      "-----------Epoch 1/10-----------\n"
     ]
    },
    {
     "name": "stderr",
     "output_type": "stream",
     "text": [
      "Training: 100%|██████████| 6/6 [00:04<00:00,  1.44it/s]\n",
      "Validation: 100%|██████████| 1/1 [00:02<00:00,  2.71s/it]\n"
     ]
    },
    {
     "name": "stdout",
     "output_type": "stream",
     "text": [
      "Train Loss : 0.007845318876206875 - Train Acc: 0.5208333333333334 - Val Loss : 0.09338304400444031 - Val Acc: 0.5\n",
      "Validation Accuracy improved from -inf to 0.5\n",
      "-----------Epoch 2/10-----------\n"
     ]
    },
    {
     "name": "stderr",
     "output_type": "stream",
     "text": [
      "Training: 100%|██████████| 6/6 [00:04<00:00,  1.25it/s]\n",
      "Validation: 100%|██████████| 1/1 [00:03<00:00,  3.35s/it]\n"
     ]
    },
    {
     "name": "stdout",
     "output_type": "stream",
     "text": [
      "Train Loss : 0.06674794107675552 - Train Acc: 0.5833333333333334 - Val Loss : -0.10954995453357697 - Val Acc: 0.5\n",
      "Validation Accuracy improved from 0.5 to 0.5\n",
      "-----------Epoch 3/10-----------\n"
     ]
    },
    {
     "name": "stderr",
     "output_type": "stream",
     "text": [
      "Training: 100%|██████████| 6/6 [00:04<00:00,  1.50it/s]\n",
      "Validation: 100%|██████████| 1/1 [00:03<00:00,  3.42s/it]\n"
     ]
    },
    {
     "name": "stdout",
     "output_type": "stream",
     "text": [
      "Train Loss : 0.0038952704053372145 - Train Acc: 0.5208333333333334 - Val Loss : -0.20257733762264252 - Val Acc: 0.5\n",
      "Validation Accuracy improved from 0.5 to 0.5\n",
      "-----------Epoch 4/10-----------\n"
     ]
    },
    {
     "name": "stderr",
     "output_type": "stream",
     "text": [
      "Training: 100%|██████████| 6/6 [00:03<00:00,  1.53it/s]\n",
      "Validation: 100%|██████████| 1/1 [00:03<00:00,  3.24s/it]\n"
     ]
    },
    {
     "name": "stdout",
     "output_type": "stream",
     "text": [
      "Train Loss : -0.033416640013456345 - Train Acc: 0.5833333333333334 - Val Loss : 0.3872898519039154 - Val Acc: 0.5\n",
      "Validation Accuracy improved from 0.5 to 0.5\n",
      "-----------Epoch 5/10-----------\n"
     ]
    },
    {
     "name": "stderr",
     "output_type": "stream",
     "text": [
      "Training: 100%|██████████| 6/6 [00:04<00:00,  1.46it/s]\n",
      "Validation: 100%|██████████| 1/1 [00:04<00:00,  4.52s/it]\n"
     ]
    },
    {
     "name": "stdout",
     "output_type": "stream",
     "text": [
      "Train Loss : 0.15104039013385773 - Train Acc: 0.5208333333333334 - Val Loss : -0.4174274802207947 - Val Acc: 0.5\n",
      "Validation Accuracy improved from 0.5 to 0.5\n",
      "-----------Epoch 6/10-----------\n"
     ]
    },
    {
     "name": "stderr",
     "output_type": "stream",
     "text": [
      "Training: 100%|██████████| 6/6 [00:04<00:00,  1.47it/s]\n",
      "Validation: 100%|██████████| 1/1 [00:07<00:00,  7.09s/it]\n"
     ]
    },
    {
     "name": "stdout",
     "output_type": "stream",
     "text": [
      "Train Loss : 0.1364857703447342 - Train Acc: 0.4375 - Val Loss : 0.27591562271118164 - Val Acc: 0.5\n",
      "Validation Accuracy improved from 0.5 to 0.5\n",
      "-----------Epoch 7/10-----------\n"
     ]
    },
    {
     "name": "stderr",
     "output_type": "stream",
     "text": [
      "Training: 100%|██████████| 6/6 [00:11<00:00,  1.94s/it]\n",
      "Validation: 100%|██████████| 1/1 [00:06<00:00,  6.90s/it]\n"
     ]
    },
    {
     "name": "stdout",
     "output_type": "stream",
     "text": [
      "Train Loss : 0.025014957413077354 - Train Acc: 0.4583333333333333 - Val Loss : -0.24408555030822754 - Val Acc: 0.5\n",
      "Validation Accuracy improved from 0.5 to 0.5\n",
      "-----------Epoch 8/10-----------\n"
     ]
    },
    {
     "name": "stderr",
     "output_type": "stream",
     "text": [
      "Training: 100%|██████████| 6/6 [00:09<00:00,  1.55s/it]\n",
      "Validation: 100%|██████████| 1/1 [00:08<00:00,  8.43s/it]\n"
     ]
    },
    {
     "name": "stdout",
     "output_type": "stream",
     "text": [
      "Train Loss : -0.03482829034328461 - Train Acc: 0.5208333333333334 - Val Loss : 0.36403200030326843 - Val Acc: 0.5\n",
      "Validation Accuracy improved from 0.5 to 0.5\n",
      "-----------Epoch 9/10-----------\n"
     ]
    },
    {
     "name": "stderr",
     "output_type": "stream",
     "text": [
      "Training: 100%|██████████| 6/6 [00:10<00:00,  1.80s/it]\n",
      "Validation: 100%|██████████| 1/1 [00:07<00:00,  7.64s/it]\n"
     ]
    },
    {
     "name": "stdout",
     "output_type": "stream",
     "text": [
      "Train Loss : 0.15296544134616852 - Train Acc: 0.5416666666666666 - Val Loss : 0.08933401107788086 - Val Acc: 0.5\n",
      "Validation Accuracy improved from 0.5 to 0.5\n",
      "-----------Epoch 10/10-----------\n"
     ]
    },
    {
     "name": "stderr",
     "output_type": "stream",
     "text": [
      "Training: 100%|██████████| 6/6 [00:11<00:00,  1.89s/it]\n",
      "Validation: 100%|██████████| 1/1 [00:07<00:00,  7.85s/it]"
     ]
    },
    {
     "name": "stdout",
     "output_type": "stream",
     "text": [
      "Train Loss : -0.006540011614561081 - Train Acc: 0.625 - Val Loss : -0.18438105285167694 - Val Acc: 0.5\n",
      "Validation Accuracy improved from 0.5 to 0.5\n",
      "Training completed in 0h 2m 6s\n",
      "Best Val Accuracy: 0.5\n"
     ]
    },
    {
     "name": "stderr",
     "output_type": "stream",
     "text": [
      "\n"
     ]
    }
   ],
   "source": [
    "optimizer = torch.optim.Adam(rnn_model.parameters(), lr=1e-3)\n",
    "history = fit_model(rnn_model, optimizer, train_loader, val_loader)"
   ]
  },
  {
   "cell_type": "code",
   "execution_count": null,
   "metadata": {},
   "outputs": [],
   "source": [
    "import matplotlib.pyplot as plt\n",
    "from sklearn.datasets import make_classification\n",
    "from sklearn.metrics import confusion_matrix, ConfusionMatrixDisplay\n",
    "from sklearn.model_selection import train_test_split\n",
    "from sklearn.svm import SVC\n",
    "X, y = make_classification(random_state=0)\n",
    "X_train, X_test, y_train, y_test = train_test_split(X, y,\n",
    "                                                    random_state=0)\n",
    "clf = SVC(random_state=0)\n",
    "clf.fit(X_train, y_train)\n",
    "predictions = clf.predict(X_test)\n",
    "cm = confusion_matrix(y_test, predictions, labels=clf.classes_)\n",
    "disp = ConfusionMatrixDisplay(confusion_matrix=cm,\n",
    "                              display_labels=clf.classes_)\n",
    "fig = disp.plot()\n",
    "fig.figure_"
   ]
  },
  {
   "cell_type": "code",
   "execution_count": 78,
   "metadata": {},
   "outputs": [
    {
     "data": {
      "image/png": "[encoded data removed]",
      "text/plain": [
       "<Figure size 640x480 with 2 Axes>"
      ]
     },
     "metadata": {},
     "output_type": "display_data"
    }
   ],
   "source": [
    "disp = ConfusionMatrixDisplay.from_predictions(y_test, predictions, labels=clf.classes_)"
   ]
  },
  {
   "cell_type": "markdown",
   "metadata": {},
   "source": [
    "### LSTM"
   ]
  },
  {
   "cell_type": "code",
   "execution_count": 117,
   "metadata": {},
   "outputs": [],
   "source": [
    "import os\n",
    "import yaml\n",
    "import itertools\n",
    "import numpy as np\n",
    "import pandas as pd\n",
    "from collections import Counter\n",
    "\n",
    "import torch\n",
    "import torch.nn as nn\n",
    "from torch.utils.data import Dataset, DataLoader\n",
    "from torch.cuda import amp\n",
    "import torch.optim as optim\n",
    "from torch.optim import lr_scheduler as LR\n",
    "import timm\n",
    "\n",
    "import albumentations as A\n",
    "from albumentations.pytorch import ToTensorV2\n",
    "\n",
    "import sys\n",
    "sys.path.append(\"./src/\")\n",
    "from preprocess.utils import preprocess_text"
   ]
  },
  {
   "cell_type": "code",
   "execution_count": null,
   "metadata": {},
   "outputs": [],
   "source": [
    "config_path = \"./configs/lstm.yaml\"\n",
    "with open(config_path, \"r\") as stream:\n",
    "    config_dict = yaml.safe_load(stream)\n",
    "\n",
    "#############\n",
    "### flickr.py\n",
    "#############\n",
    "\n",
    "### extract_data()\n",
    "im_folder = config_dict[\"paths\"][\"image_folder\"]\n",
    "cap_file = config_dict[\"paths\"][\"captions_file\"]\n",
    "operations = config_dict[\"preprocess\"][\"operations\"]\n",
    "\n",
    "with open(cap_file, \"r\") as f:\n",
    "    lines = np.array(f.readlines()[1:])\n",
    "\n",
    "num_train = config_dict[\"dataset\"][\"train_samples\"]\n",
    "num_test = config_dict[\"dataset\"][\"test_samples\"]\n",
    "rand_ids = np.random.choice(len(df), num_train+num_test)\n",
    "\n",
    "paths, captions = zip(*(s.split(\",\") for s in lines[rand_ids]))\n",
    "paths = [os.path.join(im_folder, i) for i in paths]\n",
    "df = pd.DataFrame.from_dict({\n",
    "    \"Path\": paths,\n",
    "    \"Caption\": captions\n",
    "})\n",
    "df[\"Caption\"] = df[\"Caption\"].map(lambda x: preprocess_text(x, operations))\n",
    "\n",
    "train_df = df.iloc[rand_ids[:num_train]]\n",
    "test_df = df.iloc[num_train:]\n",
    "\n",
    "df.head(2)"
   ]
  },
  {
   "cell_type": "code",
   "execution_count": 64,
   "metadata": {},
   "outputs": [],
   "source": [
    "### get_vocab()\n",
    "#uniq_words = list(set(itertools.chain.from_iterable(map(str.split, train_df[\"Caption\"]))))\n",
    "num_vocab = config_dict[\"dataset\"][\"num_vocab\"]\n",
    "all_words = []\n",
    "\n",
    "for text in train_df[\"Caption\"]:\n",
    "    all_words += text.split()\n",
    "\n",
    "topk_vocab_freq = Counter(all_words).most_common(num_vocab-4)\n",
    "vocab = [\"<START>\", \"<END>\", \"<PAD>\", \"<UNK>\"] + [i[0] for i in topk_vocab_freq]\n",
    "word2id = {w:i for i,w in enumerate(vocab)}\n",
    "id2word = {v:k for k,v in word2id.items()}\n",
    "\n",
    "### word_to_tokens()\n",
    "seq_len = config_dict[\"dataset\"][\"seq_len\"]\n",
    "\n",
    "tmp_df = test_df\n",
    "tokens = np.zeros((len(tmp_df), seq_len))\n",
    "\n",
    "for i, text in enumerate(tmp_df[\"Caption\"]):\n",
    "    words = [\"<START>\"] + text.split()[:seq_len] \n",
    "    if len(words) < seq_len - 1:\n",
    "        words += [\"<PAD>\"]*(seq_len-1-len(words))\n",
    "    words += [\"<END>\"]\n",
    "\n",
    "    for j, w in enumerate(words):\n",
    "        if w in vocab:\n",
    "            tokens[i, j] = word2id[w]   \n",
    "        else:\n",
    "            tokens[i, j] = word2id[\"<UNK>\"]   \n",
    "\n",
    "### image_transforms()  \n",
    "im_w, im_h = config_dict[\"preprocess\"][\"image_dim\"]\n",
    "train_transforms = A.Compose([\n",
    "                            A.Resize(im_w, im_h),\n",
    "                            A.HorizontalFlip(p=0.5),\n",
    "                            A.RandomBrightnessContrast(p=0.2),\n",
    "                            A.Normalize(\n",
    "                                    mean=[0.485, 0.456, 0.406], \n",
    "                                    std=[0.229, 0.224, 0.225], \n",
    "                                    max_pixel_value=255.0, \n",
    "                                    p=1.0 \n",
    "                                ),\n",
    "                            ToTensorV2()], p=1.0)\n",
    "\n",
    "test_transforms = A.Compose([\n",
    "                            A.Resize(im_w, im_h),\n",
    "                            A.Normalize(\n",
    "                                    mean=[0.485, 0.456, 0.406], \n",
    "                                    std=[0.229, 0.224, 0.225], \n",
    "                                    max_pixel_value=255.0, \n",
    "                                    p=1.0 \n",
    "                                ),\n",
    "                            ToTensorV2()], p=1.0)\n",
    "\n",
    "### get_data()\n",
    "# returns (train_paths, train_tokens), (test_paths, test_tokens), (train_transforms, test_transforms)\n",
    "\n",
    "\n",
    "### def create_dataloader(train_data, test_data, transforms)"
   ]
  },
  {
   "cell_type": "code",
   "execution_count": 136,
   "metadata": {},
   "outputs": [],
   "source": [
    "### LSTM Cell\n",
    "import torch.nn as nn\n",
    "import timm\n",
    "\n",
    "class LSTMCell(nn.Module):\n",
    "    def __init__(self, h_dim, inp_x_dim, out_x_dim):\n",
    "        super(LSTMCell, self).__init__()\n",
    "\n",
    "        self.wf_dense = nn.Linear(h_dim, h_dim)\n",
    "        self.uf_dense = nn.Linear(inp_x_dim, h_dim)\n",
    "\n",
    "        self.wi_dense = nn.Linear(h_dim, h_dim)\n",
    "        self.ui_dense = nn.Linear(inp_x_dim, h_dim)\n",
    "\n",
    "        self.wo_dense = nn.Linear(h_dim, h_dim)\n",
    "        self.uo_dense = nn.Linear(inp_x_dim, h_dim)\n",
    "\n",
    "        self.wc_dense = nn.Linear(h_dim, h_dim)\n",
    "        self.uc_dense = nn.Linear(inp_x_dim, h_dim)\n",
    "\n",
    "        self.xh_dense = nn.Linear(h_dim, out_x_dim)\n",
    "\n",
    "    def forward(self, ht_1, ct_1, xt):\n",
    "        ft = nn.Sigmoid()(self.wf_dense(ht_1) + self.uf_dense(xt))\n",
    "        it = nn.Sigmoid()(self.wi_dense(ht_1) + self.ui_dense(xt))\n",
    "        ot = nn.Sigmoid()(self.wo_dense(ht_1) + self.uo_dense(xt))\n",
    "\n",
    "        ct_ = nn.Tanh()(self.wc_dense(ht_1) + self.uc_dense(xt))\n",
    "        ct = ft*ct_1 + it*ct_\n",
    "        ht = ot*nn.Tanh()(ct)\n",
    "\n",
    "        yt = self.xh_dense(ht)\n",
    "\n",
    "        return ht, ct, yt\n",
    "\n",
    "\n",
    "### LSTM Model\n",
    "class LSTMModel(nn.Module):\n",
    "    def __init__(self, config_dict):\n",
    "        super(LSTMModel, self).__init__()\n",
    "\n",
    "        self.seq_len = config_dict[\"dataset\"][\"seq_len\"]\n",
    "        self.num_layers = config_dict[\"model\"][\"num_layers\"]\n",
    "        self.h_dims = config_dict[\"model\"][\"h_dim\"]\n",
    "        self.x_dims = config_dict[\"model\"][\"x_dim\"]\n",
    "        image_dim = config_dict[\"preprocess\"][\"image_dim\"]\n",
    "\n",
    "        num_vocab = config_dict[\"dataset\"][\"num_vocab\"]\n",
    "        embed_dim = config_dict[\"model\"][\"embed_dim\"]\n",
    "        self.embed_layer = nn.Embedding(num_vocab, embed_dim)\n",
    "        \n",
    "        image_backbone = config_dict[\"model\"][\"image_backbone\"]\n",
    "        self.im_head = timm.create_model(image_backbone, pretrained=True, num_classes=0)\n",
    "        im_feat_dim = self.im_head(torch.rand(tuple([1] + image_dim))).data.shape[-1]\n",
    "        self.im_dense = nn.Linear(im_feat_dim, embed_dim)\n",
    "\n",
    "        self.word_classifier = nn.Linear(self.x_dims[-1], num_vocab)\n",
    "\n",
    "        self.lstm_cells = []\n",
    "        for i in range(self.num_layers):\n",
    "            h_dim = self.h_dims[i]\n",
    "            inp_x_dim, out_x_dim = self.x_dims[i], self.x_dims[i+1]\n",
    "            self.lstm_cells.append(LSTMCell(h_dim, inp_x_dim, out_x_dim))\n",
    "\n",
    "    def forward(self, images, tokens=None):\n",
    "        self.num_samples = images.size(0)\n",
    "\n",
    "        hts = self.init_hidden()\n",
    "        cts = self.init_hidden()\n",
    "\n",
    "        im_feat = self.im_head(images)\n",
    "        yt = self.im_dense(im_feat)\n",
    "\n",
    "        for i in range(self.num_layers):\n",
    "            ht, ct = hts[i], cts[i]\n",
    "            ht, ct, yt = self.lstm_cells[i](ht, ct, yt)\n",
    "            hts[i], cts[i] = ht, ct\n",
    "\n",
    "        if tokens is not None:\n",
    "            x_embed = self.embed_layer(tokens.to(torch.long))\n",
    "            yt = x_embed[:, 0, :]\n",
    "        else:\n",
    "            start_token = torch.zeros(1, 1).to(torch.long)\n",
    "            yt = self.embed_layer(start_token)[:, 0, :]\n",
    "\n",
    "        pts = []\n",
    "        for j in range(self.seq_len):\n",
    "            for i in range(self.num_layers):\n",
    "                ht, ct = hts[i], cts[i]\n",
    "                ht, ct, yt = self.lstm_cells[i](ht, ct, yt)\n",
    "                hts[i], cts[i] = ht, ct\n",
    "                \n",
    "            yt = self.word_classifier(yt)\n",
    "            pt = nn.Softmax()(yt)[:, None, :]\n",
    "            pts.append(pt)\n",
    "            \n",
    "            if j >=  self.seq_len - 1:\n",
    "                break\n",
    "            if tokens is not None:\n",
    "                yt = x_embed[:, j+1, :]\n",
    "            else:\n",
    "                yt = yt.argmax(axis=1)\n",
    "                yt = self.embed_layer(yt.to(torch.long))\n",
    "\n",
    "        return torch.concat(pts, dim=1)\n",
    "\n",
    "\n",
    "    def init_hidden(self):\n",
    "        hts = [nn.init.kaiming_uniform_(torch.empty(self.num_samples, dim)) for dim in self.h_dims]\n",
    "\n",
    "        return hts"
   ]
  },
  {
   "cell_type": "code",
   "execution_count": 1,
   "metadata": {},
   "outputs": [
    {
     "name": "stderr",
     "output_type": "stream",
     "text": [
      "e:\\anaconda\\envs\\nlp_env\\lib\\site-packages\\tqdm\\auto.py:21: TqdmWarning: IProgress not found. Please update jupyter and ipywidgets. See https://ipywidgets.readthedocs.io/en/stable/user_install.html\n",
      "  from .autonotebook import tqdm as notebook_tqdm\n",
      "Training:   0%|          | 0/6 [00:00<?, ?it/s]e:\\anaconda\\envs\\nlp_env\\lib\\site-packages\\torch\\nn\\modules\\module.py:1736: UserWarning: Implicit dimension choice for softmax has been deprecated. Change the call to include dim=X as an argument.\n",
      "  return self._call_impl(*args, **kwargs)\n",
      "e:\\anaconda\\envs\\nlp_env\\lib\\site-packages\\torch\\nn\\_reduction.py:51: UserWarning: size_average and reduce args will be deprecated, please use reduction='mean' instead.\n",
      "  warnings.warn(warning.format(ret))\n",
      "Training: 100%|██████████| 6/6 [00:07<00:00,  1.26s/it]\n",
      "Validation: 100%|██████████| 1/1 [00:05<00:00,  5.66s/it]\n",
      "Training: 100%|██████████| 6/6 [00:05<00:00,  1.04it/s]\n",
      "Validation: 100%|██████████| 1/1 [00:05<00:00,  5.24s/it]\n",
      "Training: 100%|██████████| 6/6 [00:09<00:00,  1.64s/it]\n",
      "Validation: 100%|██████████| 1/1 [00:05<00:00,  5.49s/it]\n"
     ]
    }
   ],
   "source": [
    "import yaml\n",
    "import sys\n",
    "sys.path.append(\"./src/\")\n",
    "from src.core.lstm import lstm\n",
    "\n",
    "config_path = \"./configs/lstm.yaml\"\n",
    "with open(config_path, \"r\") as stream:\n",
    "    config_dict = yaml.safe_load(stream)\n",
    "\n",
    "algo = lstm.LSTM(config_dict)\n",
    "algo.run()"
   ]
  },
  {
   "cell_type": "code",
   "execution_count": 8,
   "metadata": {},
   "outputs": [
    {
     "data": {
      "text/plain": [
       "41.210533142089844"
      ]
     },
     "execution_count": 8,
     "metadata": {},
     "output_type": "execute_result"
    }
   ],
   "source": [
    "history = algo.history\n",
    "\n",
    "history[\"train_Perplexity\"][0].item()"
   ]
  },
  {
   "cell_type": "code",
   "execution_count": 17,
   "metadata": {},
   "outputs": [
    {
     "name": "stderr",
     "output_type": "stream",
     "text": [
      "Inference:   0%|          | 0/2 [00:00<?, ?it/s]e:\\anaconda\\envs\\nlp_env\\lib\\site-packages\\torch\\nn\\modules\\module.py:1736: UserWarning: Implicit dimension choice for softmax has been deprecated. Change the call to include dim=X as an argument.\n",
      "  return self._call_impl(*args, **kwargs)\n",
      "Inference: 100%|██████████| 2/2 [00:37<00:00, 18.73s/it]\n"
     ]
    }
   ],
   "source": [
    "test_captions, test_pred_captions = algo.run_infer()\n",
    "\n",
    "for true, pred in zip(test_captions, test_pred_captions):\n",
    "    print(true, pred)\n",
    "\n",
    "test_tokens, test_pred_tokens = algo.run_infer()\n",
    "test_pred_tokens = test_pred_tokens.argmax(axis=-1).astype(\"int\")\n",
    "test_tokens = test_tokens.astype(\"int\")"
   ]
  },
  {
   "cell_type": "code",
   "execution_count": 21,
   "metadata": {},
   "outputs": [
    {
     "data": {
      "text/plain": [
       "['two <UNK> <UNK> <UNK> <UNK> <UNK> <UNK> <UNK> <UNK> <UNK> ',\n",
       " '<UNK> <UNK> dog carrying <UNK> mouth <UNK> ',\n",
       " 'black <UNK> dog <UNK> <UNK> course ',\n",
       " '<UNK> <UNK> wearing green <UNK> ',\n",
       " 'black dog <UNK> <UNK> <UNK> <UNK> <UNK> fence ',\n",
       " 'young man <UNK> <UNK> mouth wearing black jacket ',\n",
       " '<UNK> dog <UNK> <UNK> <UNK> <UNK> ',\n",
       " 'two <UNK> <UNK> <UNK> <UNK> case ']"
      ]
     },
     "execution_count": 21,
     "metadata": {},
     "output_type": "execute_result"
    }
   ],
   "source": [
    "import numpy as np\n",
    "\n",
    "func = lambda x: algo.flickr_ds.id2word[x]\n",
    "vect_func = np.vectorize(func)\n",
    "\n",
    "test_words = vect_func(test_tokens)\n",
    "test_pred_words = vect_func(test_pred_tokens)\n",
    "\n",
    "test_captions = []\n",
    "for words in test_words:\n",
    "    txt = \"\"\n",
    "    for word in words:\n",
    "        if word not in  [\"<START>\", \"<END>\", \"<PAD>\"]:\n",
    "            txt += f\"{word} \"\n",
    "    test_captions.append(txt)\n",
    "\n"
   ]
  },
  {
   "cell_type": "code",
   "execution_count": null,
   "metadata": {},
   "outputs": [],
   "source": [
    "images, tokens = next(iter(train_loader))\n",
    "\n",
    "model = LSTMModel(config_dict)\n",
    "out = model(images)\n",
    "print(out.shape, tokens.shape)"
   ]
  },
  {
   "cell_type": "code",
   "execution_count": 114,
   "metadata": {},
   "outputs": [],
   "source": [
    "import torch.nn.functional as F\n",
    "\n",
    "flat_out = torch.flatten(out, end_dim=1)\n",
    "flat_tokens = torch.flatten(tokens)\n",
    "flat_tokens = F.one_hot(flat_tokens.to(torch.long), num_classes=config_dict[\"dataset\"][\"num_vocab\"])\n",
    "\n",
    "loss_fn = nn.CrossEntropyLoss(reduce=\"sum\")\n",
    "loss_fn(flat_out, flat_tokens.to(torch.float))"
   ]
  },
  {
   "cell_type": "code",
   "execution_count": 41,
   "metadata": {},
   "outputs": [
    {
     "data": {
      "text/plain": [
       "torch.Size([32, 1, 100])"
      ]
     },
     "execution_count": 41,
     "metadata": {},
     "output_type": "execute_result"
    }
   ],
   "source": [
    "inp = torch.ones((32, 100))\n",
    "inp = inp[:, None, :]\n",
    "inp.shape"
   ]
  },
  {
   "cell_type": "code",
   "execution_count": null,
   "metadata": {},
   "outputs": [],
   "source": [
    "import timm\n",
    "import torch\n",
    "\n",
    "im_model = timm.create_model(\"mobilenetv3_small_050\", pretrained=True, num_classes=0)\n",
    "inp = torch.randn((1, 3, 64, 64))\n",
    "im_model(inp).data.shape[-1]"
   ]
  },
  {
   "cell_type": "code",
   "execution_count": null,
   "metadata": {},
   "outputs": [],
   "source": [
    "for layer in im_model.children():\n",
    "    if hasattr(layer, \"out_features\"):\n",
    "        print(layer.out_features)"
   ]
  },
  {
   "cell_type": "code",
   "execution_count": 33,
   "metadata": {},
   "outputs": [
    {
     "name": "stdout",
     "output_type": "stream",
     "text": [
      "6\n",
      "[1 5 3 0 4 2]\n"
     ]
    }
   ],
   "source": [
    "### METEOR\n",
    "\n",
    "import numpy as np\n",
    "\n",
    "refs = np.array([0, 1, 2, 3, 0, 4])#, 7]\n",
    "preds = np.array([3, 0, 4, 2, 0, 1])#, 6, 8]\n",
    "\n",
    "m = 0\n",
    "mask = np.ones(preds.shape)\n",
    "match_ids = -1*np.ones(refs.shape).astype(\"int\")\n",
    "for i, w_r in enumerate(refs):\n",
    "    for j, w_p in enumerate(preds):\n",
    "        if w_r == w_p and mask[j]:\n",
    "            m += 1\n",
    "            mask[j] = 0\n",
    "            match_ids[i] = j\n",
    "            break\n",
    "\n",
    "print(m)\n",
    "print(match_ids)"
   ]
  },
  {
   "cell_type": "code",
   "execution_count": 3,
   "metadata": {},
   "outputs": [
    {
     "name": "stdout",
     "output_type": "stream",
     "text": [
      "0.5 0.7142857142857143 0.588235294117647\n"
     ]
    }
   ],
   "source": [
    "### ROUGE-N\n",
    "\n",
    "import numpy as np\n",
    "\n",
    "refs = np.array([0, 1, 2, 3, 0, 4, 7])\n",
    "preds = np.array([3, 0, 4, 2, 0, 1, 6, 8, 1, 1])\n",
    "n = 1\n",
    "\n",
    "refs_n = [\" \".join([str(refs[j+k]) for k in range(n)]) for j in range(len(refs)-n+1)]\n",
    "preds_n = [\" \".join([str(preds[j+k]) for k in range(n)]) for j in range(len(preds)-n+1)]\n",
    "\n",
    "n_unq_ngrams = len(set(refs_n) & set(preds_n))\n",
    "precision = n_unq_ngrams/len(preds_n)\n",
    "recall = n_unq_ngrams/len(refs_n)\n",
    "fscore = 2*precision*recall/(precision + recall)\n",
    "\n",
    "print(precision, recall, fscore)"
   ]
  },
  {
   "cell_type": "code",
   "execution_count": 9,
   "metadata": {},
   "outputs": [
    {
     "name": "stdout",
     "output_type": "stream",
     "text": [
      "0 2\n",
      "1 1\n",
      "2 1\n",
      "3 1\n",
      "4 1\n",
      "7 1\n"
     ]
    }
   ],
   "source": [
    "from collections import Counter\n",
    "\n",
    "ref_cnt_dict = Counter(refs)\n",
    "pred_cnt_dict = Counter(refs)\n",
    "\n",
    "sum = 0\n",
    "for k in pred_cnt_dict.keys():\n",
    "    cnt_k = min(pred_cnt_dict[k], ref_cnt_dict.get(k, 0))\n",
    "    print(k, cnt_k)\n",
    "    sum += cnt_k"
   ]
  },
  {
   "cell_type": "code",
   "execution_count": 49,
   "metadata": {},
   "outputs": [
    {
     "data": {
      "text/plain": [
       "5.0"
      ]
     },
     "execution_count": 49,
     "metadata": {},
     "output_type": "execute_result"
    }
   ],
   "source": [
    "### ROUGE-L\n",
    "\n",
    "refs = np.array([0, 1, 2, 3, 0, 4, 7])\n",
    "preds = np.array([3, 0, 4, 2, 3, 4, 6, 7])\n",
    "\n",
    "m = len(refs)\n",
    "n = len(preds)\n",
    "\n",
    "lcs_mat = np.zeros((m+1, n+1))\n",
    "\n",
    "for i in range(1, m+1):\n",
    "    for j in range(1, n+1):\n",
    "        if refs[i-1] == preds[j-1]:\n",
    "            lcs_mat[i, j] = lcs_mat[i-1][j-1] + 1\n",
    "        else:\n",
    "            lcs_mat[i, j] = max(lcs_mat[i-1][j], lcs_mat[i][j-1])\n",
    "\n",
    "float(lcs_mat[m][n])"
   ]
  },
  {
   "cell_type": "code",
   "execution_count": 70,
   "metadata": {},
   "outputs": [
    {
     "data": {
      "text/plain": [
       "['0 1', '1 2', '2 3', '3 4', '4 5', '5 6']"
      ]
     },
     "execution_count": 70,
     "metadata": {},
     "output_type": "execute_result"
    }
   ],
   "source": [
    "### ROUGE-S\n",
    "\n",
    "pred = np.array([0, 1, 2, 3, 4, 5, 6])\n",
    "n = 4\n",
    "\n",
    "# for i in range(len(preds)-1):\n",
    "#     for k in range(i+1, min(len(preds)-1, i+n+1)):\n",
    "#         print(pred[i], pred[k])\n",
    "\n",
    "import itertools\n",
    "ls = [[\" \".join([str(pred[i]), str(pred[k])]) for k in range(i+1, min(len(preds)-1, i+n+1))] for i in range(len(preds)-1)]\n",
    "ls = list(itertools.chain.from_iterable(ls))\n",
    "\n",
    "[\" \".join([str(pred[j]), str(pred[j+1])]) for j in range(len(pred)-1)]"
   ]
  },
  {
   "cell_type": "markdown",
   "metadata": {},
   "source": [
    "### GRU"
   ]
  },
  {
   "cell_type": "code",
   "execution_count": 10,
   "metadata": {},
   "outputs": [
    {
     "name": "stderr",
     "output_type": "stream",
     "text": [
      "[nltk_data] Downloading package universal_tagset to\n",
      "[nltk_data]     C:\\Users\\shanmukh\\AppData\\Roaming\\nltk_data...\n",
      "[nltk_data]   Unzipping taggers\\universal_tagset.zip.\n"
     ]
    },
    {
     "data": {
      "text/plain": [
       "True"
      ]
     },
     "execution_count": 10,
     "metadata": {},
     "output_type": "execute_result"
    }
   ],
   "source": [
    "import nltk\n",
    "\n",
    "# nltk.download(\"brown\")\n",
    "# nltk.download(\"conll2000\")\n",
    "nltk.download(\"universal_tagset\")"
   ]
  },
  {
   "cell_type": "code",
   "execution_count": 15,
   "metadata": {},
   "outputs": [],
   "source": [
    "import yaml\n",
    "import sys\n",
    "sys.path.append(\"./src/\")\n",
    "from preprocess.utils import preprocess_text\n",
    "from sklearn.preprocessing import OneHotEncoder\n",
    "\n",
    "from src.core.gru import gru\n",
    "\n",
    "from nltk.corpus import brown\n",
    "from nltk.corpus import treebank\n",
    "from nltk.corpus import conll2000\n",
    "\n",
    "from collections import Counter\n",
    "import numpy as np"
   ]
  },
  {
   "cell_type": "code",
   "execution_count": 16,
   "metadata": {},
   "outputs": [
    {
     "name": "stderr",
     "output_type": "stream",
     "text": [
      "Training:   0%|          | 0/12 [00:00<?, ?it/s]e:\\anaconda\\envs\\nlp_env\\lib\\site-packages\\torch\\nn\\modules\\module.py:1736: UserWarning: Implicit dimension choice for softmax has been deprecated. Change the call to include dim=X as an argument.\n",
      "  return self._call_impl(*args, **kwargs)\n",
      "Training: 100%|██████████| 12/12 [00:03<00:00,  3.24it/s]\n",
      "Validation:   0%|          | 0/3 [00:00<?, ?it/s]e:\\anaconda\\envs\\nlp_env\\lib\\site-packages\\torch\\nn\\modules\\module.py:1736: UserWarning: Implicit dimension choice for softmax has been deprecated. Change the call to include dim=X as an argument.\n",
      "  return self._call_impl(*args, **kwargs)\n",
      "Validation: 100%|██████████| 3/3 [00:04<00:00,  1.47s/it]\n",
      "Training:   0%|          | 0/12 [00:00<?, ?it/s]e:\\anaconda\\envs\\nlp_env\\lib\\site-packages\\torch\\nn\\modules\\module.py:1736: UserWarning: Implicit dimension choice for softmax has been deprecated. Change the call to include dim=X as an argument.\n",
      "  return self._call_impl(*args, **kwargs)\n",
      "Training: 100%|██████████| 12/12 [00:04<00:00,  2.48it/s]\n",
      "Validation:   0%|          | 0/3 [00:00<?, ?it/s]e:\\anaconda\\envs\\nlp_env\\lib\\site-packages\\torch\\nn\\modules\\module.py:1736: UserWarning: Implicit dimension choice for softmax has been deprecated. Change the call to include dim=X as an argument.\n",
      "  return self._call_impl(*args, **kwargs)\n",
      "Validation: 100%|██████████| 3/3 [00:05<00:00,  1.75s/it]\n"
     ]
    }
   ],
   "source": [
    "config_path = \"./configs/gru.yaml\"\n",
    "with open(config_path, \"r\") as stream:\n",
    "    config_dict = yaml.safe_load(stream)\n",
    "\n",
    "algo = gru.GRU(config_dict)\n",
    "algo.run()"
   ]
  },
  {
   "cell_type": "code",
   "execution_count": 17,
   "metadata": {},
   "outputs": [],
   "source": [
    "loader = algo.run_infer()\n",
    "\n",
    "iter_loader = iter(loader)"
   ]
  },
  {
   "cell_type": "code",
   "execution_count": 18,
   "metadata": {},
   "outputs": [
    {
     "name": "stdout",
     "output_type": "stream",
     "text": [
      "torch.Size([4, 32])\n"
     ]
    }
   ],
   "source": [
    "try:\n",
    "    iter_loader = next(iter_loader)\n",
    "    print(iter_loader[0].shape)\n",
    "except:\n",
    "    print(\"Done\")"
   ]
  },
  {
   "cell_type": "code",
   "execution_count": 3,
   "metadata": {},
   "outputs": [
    {
     "data": {
      "text/plain": [
       "[('Pierre', 'NOUN'),\n",
       " ('Vinken', 'NOUN'),\n",
       " (',', '.'),\n",
       " ('61', 'NUM'),\n",
       " ('years', 'NOUN'),\n",
       " ('old', 'ADJ'),\n",
       " (',', '.'),\n",
       " ('will', 'VERB'),\n",
       " ('join', 'VERB'),\n",
       " ('the', 'DET'),\n",
       " ('board', 'NOUN'),\n",
       " ('as', 'ADP'),\n",
       " ('a', 'DET'),\n",
       " ('nonexecutive', 'ADJ'),\n",
       " ('director', 'NOUN'),\n",
       " ('Nov.', 'NOUN'),\n",
       " ('29', 'NUM'),\n",
       " ('.', '.')]"
      ]
     },
     "execution_count": 3,
     "metadata": {},
     "output_type": "execute_result"
    }
   ],
   "source": [
    "treebank_corpus = treebank.tagged_sents(tagset='universal')\n",
    "brown_corpus = brown.tagged_sents(tagset='universal')\n",
    "conll_corpus = conll2000.tagged_sents(tagset='universal')\n",
    "\n",
    "corpus = treebank_corpus\n",
    "corpus[0]"
   ]
  },
  {
   "cell_type": "code",
   "execution_count": 4,
   "metadata": {},
   "outputs": [],
   "source": [
    "operations = config_dict[\"preprocess\"][\"operations\"]\n",
    "num_vocab = config_dict[\"dataset\"][\"num_vocab\"]\n",
    "seq_len = config_dict[\"dataset\"][\"seq_len\"]"
   ]
  },
  {
   "cell_type": "code",
   "execution_count": 5,
   "metadata": {},
   "outputs": [],
   "source": [
    "X = [[i[0] for i in sent] for sent in corpus]\n",
    "y = [[i[1] for i in sent] for sent in corpus]\n",
    "\n",
    "X = [preprocess_text(\" \".join(sent), operations).split() for sent in X]\n",
    "\n",
    "all_words = [word for sent in X for word in sent]\n",
    "topk_vocab_freq = Counter(all_words).most_common(num_vocab-2)\n",
    "vocabX = [\"<PAD>\", \"<UNK>\"] + [word[0] for word in topk_vocab_freq]\n",
    "unq_pos = [\"<PAD>\", \"<UNK>\"] + list(set([word_pos for sent_pos in y for word_pos in sent_pos]))"
   ]
  },
  {
   "cell_type": "code",
   "execution_count": 10,
   "metadata": {},
   "outputs": [],
   "source": [
    "word2idX = {w:i for i, w in enumerate(vocabX)}\n",
    "id2wordX = {v:k for k,v in word2idX.items()}\n",
    "\n",
    "posEnc = {w:i for i, w in enumerate(unq_pos)}\n",
    "posDec = {v:k for k,v in posEnc.items()}\n",
    "\n",
    "lencoder = OneHotEncoder()\n",
    "lencoder.fit(np.arange(len(unq_pos)).reshape(-1,1))\n",
    "\n",
    "tokenX = np.zeros((len(X), seq_len))\n",
    "Y = np.zeros((len(y), seq_len, len(unq_pos)))\n",
    "for i, (sent, sent_pos) in enumerate(zip(X, y)):\n",
    "    labels = np.zeros((seq_len))\n",
    "    sent = sent[:seq_len]\n",
    "    sent_pos = sent_pos[:seq_len]\n",
    "    if len(sent) < seq_len:\n",
    "        sent = sent + [\"<PAD>\"]*(seq_len - len(sent))\n",
    "        sent_pos = sent_pos + [\"<PAD>\"]*(seq_len - len(sent))\n",
    "    for j, (word, word_pos) in enumerate(zip(sent, sent_pos)):\n",
    "        bool_ = word in vocabX\n",
    "        tokenX[i][j] = word2idX[word] if bool_ else word2idX[\"<UNK>\"]\n",
    "        labels[j] = posEnc[word_pos] if bool_ else posEnc[\"<UNK>\"]\n",
    "        \n",
    "    Y[i] = lencoder.transform(labels.reshape(-1,1)).toarray()"
   ]
  },
  {
   "cell_type": "code",
   "execution_count": 12,
   "metadata": {},
   "outputs": [
    {
     "data": {
      "text/plain": [
       "{'A': {'precision': 0.5,\n",
       "  'recall': 1.0,\n",
       "  'f1-score': 0.6666666666666666,\n",
       "  'support': 1.0},\n",
       " 'B': {'precision': 0.0, 'recall': 0.0, 'f1-score': 0.0, 'support': 1.0},\n",
       " 'C': {'precision': 1.0,\n",
       "  'recall': 0.6666666666666666,\n",
       "  'f1-score': 0.8,\n",
       "  'support': 3.0},\n",
       " 'accuracy': 0.6,\n",
       " 'macro avg': {'precision': 0.5,\n",
       "  'recall': 0.5555555555555555,\n",
       "  'f1-score': 0.48888888888888893,\n",
       "  'support': 5.0},\n",
       " 'weighted avg': {'precision': 0.7,\n",
       "  'recall': 0.6,\n",
       "  'f1-score': 0.6133333333333334,\n",
       "  'support': 5.0}}"
      ]
     },
     "execution_count": 12,
     "metadata": {},
     "output_type": "execute_result"
    }
   ],
   "source": [
    "from sklearn.metrics import classification_report\n",
    "y_true = [0, 1, 2, 2, 2]\n",
    "y_pred = [0, 0, 2, 2, 1]\n",
    "\n",
    "report = classification_report(y_true, y_pred, target_names=[\"A\", \"B\", \"C\"], output_dict=True)\n",
    "report"
   ]
  },
  {
   "cell_type": "code",
   "execution_count": 13,
   "metadata": {},
   "outputs": [
    {
     "data": {
      "text/plain": [
       "(18, 2)"
      ]
     },
     "execution_count": 13,
     "metadata": {},
     "output_type": "execute_result"
    }
   ],
   "source": [
    "import numpy as np\n",
    "\n",
    "x = np.ones((3, 4, 3))\n",
    "x.reshape((-1, 2)).shape"
   ]
  },
  {
   "cell_type": "code",
   "execution_count": 30,
   "metadata": {},
   "outputs": [
    {
     "data": {
      "text/plain": [
       "[np.str_('amsterdam'), np.str_('paris'), np.str_('tokyo')]"
      ]
     },
     "execution_count": 30,
     "metadata": {},
     "output_type": "execute_result"
    }
   ],
   "source": [
    "from sklearn.preprocessing import OneHotEncoder\n",
    "\n",
    "le = OneHotEncoder()\n",
    "a = np.array([\"paris\", \"paris\", \"tokyo\", \"amsterdam\"]).reshape(-1,1)\n",
    "le.fit(a)\n",
    "list(le.categories_[0])"
   ]
  },
  {
   "cell_type": "markdown",
   "metadata": {},
   "source": [
    "### Seq2Seq"
   ]
  },
  {
   "cell_type": "code",
   "execution_count": 29,
   "metadata": {},
   "outputs": [],
   "source": [
    "import yaml\n",
    "import pandas as pd\n",
    "import sys\n",
    "sys.path.append(\"./src/\")\n",
    "\n",
    "from src.preprocess import eng2tel\n",
    "from src.core.seq2seq import seq2seq\n",
    "\n",
    "from collections import Counter\n",
    "import numpy as np\n",
    "\n",
    "import re\n",
    "import unicodedata"
   ]
  },
  {
   "cell_type": "code",
   "execution_count": 30,
   "metadata": {},
   "outputs": [],
   "source": [
    "config_path = \"./configs/seq2seq.yaml\"\n",
    "with open(config_path, \"r\") as stream:\n",
    "    config_dict = yaml.safe_load(stream)\n",
    "\n",
    "# seq2seq_ds = eng2tel.PreprocessSeq2Seq(config_dict)\n",
    "# X, Y = seq2seq_ds.get_data(seq2seq_ds.df)\n",
    "\n",
    "algo = seq2seq.Seq2Seq(config_dict)\n",
    "train_loader, val_loader = algo.run()"
   ]
  },
  {
   "cell_type": "code",
   "execution_count": 31,
   "metadata": {},
   "outputs": [
    {
     "name": "stdout",
     "output_type": "stream",
     "text": [
      "torch.Size([4, 16]) torch.Size([4, 16])\n"
     ]
    }
   ],
   "source": [
    "src, tgt = next(iter(train_loader))\n",
    "print(src.shape, tgt.shape)"
   ]
  },
  {
   "cell_type": "code",
   "execution_count": null,
   "metadata": {},
   "outputs": [],
   "source": [
    "model = Seq2SeqModel(config_dict)\n",
    "lr = config_dict[\"train\"][\"lr\"]\n",
    "optim = torch.optim.Adam(model.parameters(), lr=lr)\n",
    "trainer = Seq2SeqTrainer(model, optim, config_dict)\n",
    "trainer.fit(train_loader, val_loader)"
   ]
  },
  {
   "cell_type": "code",
   "execution_count": 37,
   "metadata": {},
   "outputs": [
    {
     "name": "stdout",
     "output_type": "stream",
     "text": [
      "torch.Size([4, 16, 256]) torch.Size([4, 256])\n"
     ]
    }
   ],
   "source": [
    "encoder = Seq2SeqEncoder(config_dict)\n",
    "yts, ht = encoder(src)\n",
    "\n",
    "print(yts.shape, ht.shape)"
   ]
  },
  {
   "cell_type": "code",
   "execution_count": 40,
   "metadata": {},
   "outputs": [
    {
     "name": "stdout",
     "output_type": "stream",
     "text": [
      "torch.Size([4, 16, 256])\n",
      "torch.Size([4, 1, 16])\n",
      "torch.Size([4, 1, 16])\n",
      "torch.Size([4, 1, 16])\n",
      "torch.Size([4, 1, 16])\n",
      "torch.Size([4, 1, 16])\n",
      "torch.Size([4, 1, 16])\n",
      "torch.Size([4, 1, 16])\n",
      "torch.Size([4, 1, 16])\n",
      "torch.Size([4, 1, 16])\n",
      "torch.Size([4, 1, 16])\n",
      "torch.Size([4, 1, 16])\n",
      "torch.Size([4, 1, 16])\n",
      "torch.Size([4, 1, 16])\n",
      "torch.Size([4, 1, 16])\n",
      "torch.Size([4, 1, 16])\n",
      "torch.Size([4, 1, 16])\n"
     ]
    },
    {
     "name": "stderr",
     "output_type": "stream",
     "text": [
      "e:\\anaconda\\envs\\nlp_env\\lib\\site-packages\\torch\\nn\\modules\\module.py:1736: UserWarning: Implicit dimension choice for softmax has been deprecated. Change the call to include dim=X as an argument.\n",
      "  return self._call_impl(*args, **kwargs)\n"
     ]
    }
   ],
   "source": [
    "model = Seq2SeqModel(config_dict)\n",
    "\n",
    "probs, weights = model(src, tgt)\n",
    "print(probs.shape)\n",
    "for w in weights:\n",
    "    print(w.shape)"
   ]
  },
  {
   "cell_type": "code",
   "execution_count": 34,
   "metadata": {},
   "outputs": [
    {
     "data": {
      "text/plain": [
       "torch.Size([4, 126])"
      ]
     },
     "execution_count": 34,
     "metadata": {},
     "output_type": "execute_result"
    }
   ],
   "source": [
    "x = torch.randn((4, 16, 126))\n",
    "y = list(torch.transpose(x, 1, 0))\n",
    "y[0].shape"
   ]
  },
  {
   "cell_type": "code",
   "execution_count": 18,
   "metadata": {},
   "outputs": [
    {
     "name": "stdout",
     "output_type": "stream",
     "text": [
      "1 5\n",
      "2 4\n",
      "3 3\n",
      "4 2\n",
      "5 1\n"
     ]
    }
   ],
   "source": [
    "ls = [1, 2, 3, 4, 5]\n",
    "\n",
    "for i in range(len(ls)):\n",
    "    i1, i2 = i, len(ls)-i-1\n",
    "    print(ls[i1], ls[i2])"
   ]
  },
  {
   "cell_type": "code",
   "execution_count": 3,
   "metadata": {},
   "outputs": [
    {
     "data": {
      "text/html": [
       "<div>\n",
       "<style scoped>\n",
       "    .dataframe tbody tr th:only-of-type {\n",
       "        vertical-align: middle;\n",
       "    }\n",
       "\n",
       "    .dataframe tbody tr th {\n",
       "        vertical-align: top;\n",
       "    }\n",
       "\n",
       "    .dataframe thead th {\n",
       "        text-align: right;\n",
       "    }\n",
       "</style>\n",
       "<table border=\"1\" class=\"dataframe\">\n",
       "  <thead>\n",
       "    <tr style=\"text-align: right;\">\n",
       "      <th></th>\n",
       "      <th>English</th>\n",
       "      <th>Telugu</th>\n",
       "    </tr>\n",
       "  </thead>\n",
       "  <tbody>\n",
       "    <tr>\n",
       "      <th>0</th>\n",
       "      <td>His legs are long.</td>\n",
       "      <td>అతని కాళ్ళు పొడవుగా ఉన్నాయి.</td>\n",
       "    </tr>\n",
       "    <tr>\n",
       "      <th>1</th>\n",
       "      <td>Who taught Tom how to speak French?</td>\n",
       "      <td>టామ్ ఫ్రెంచ్ మాట్లాడటం ఎలా నేర్పించారు?</td>\n",
       "    </tr>\n",
       "    <tr>\n",
       "      <th>2</th>\n",
       "      <td>I swim in the sea every day.</td>\n",
       "      <td>నేను ప్రతి రోజు సముద్రంలో ఈత కొడతాను.</td>\n",
       "    </tr>\n",
       "    <tr>\n",
       "      <th>3</th>\n",
       "      <td>Tom popped into the supermarket on his way hom...</td>\n",
       "      <td>టామ్ కొంచెం పాలు కొనడానికి ఇంటికి వెళ్ళేటప్పుడ...</td>\n",
       "    </tr>\n",
       "    <tr>\n",
       "      <th>4</th>\n",
       "      <td>Smoke filled the room.</td>\n",
       "      <td>పొగ గదిని నింపింది.</td>\n",
       "    </tr>\n",
       "  </tbody>\n",
       "</table>\n",
       "</div>"
      ],
      "text/plain": [
       "                                             English  \\\n",
       "0                                 His legs are long.   \n",
       "1                Who taught Tom how to speak French?   \n",
       "2                       I swim in the sea every day.   \n",
       "3  Tom popped into the supermarket on his way hom...   \n",
       "4                             Smoke filled the room.   \n",
       "\n",
       "                                              Telugu  \n",
       "0                       అతని కాళ్ళు పొడవుగా ఉన్నాయి.  \n",
       "1            టామ్ ఫ్రెంచ్ మాట్లాడటం ఎలా నేర్పించారు?  \n",
       "2              నేను ప్రతి రోజు సముద్రంలో ఈత కొడతాను.  \n",
       "3  టామ్ కొంచెం పాలు కొనడానికి ఇంటికి వెళ్ళేటప్పుడ...  \n",
       "4                                పొగ గదిని నింపింది.  "
      ]
     },
     "execution_count": 3,
     "metadata": {},
     "output_type": "execute_result"
    }
   ],
   "source": [
    "fpath = config_dict[\"paths\"][\"input_file\"]\n",
    "\n",
    "with open(fpath, \"r\", encoding=\"utf-8\") as f:\n",
    "    lines = f.readlines()\n",
    "\n",
    "eng = [i.split(\"++++$++++\")[0] for i in lines]\n",
    "tel = [i.split(\"++++$++++\")[1].rstrip() for i in lines]\n",
    "\n",
    "df = pd.DataFrame.from_dict({\n",
    "    \"English\": eng,\n",
    "    \"Telugu\": tel\n",
    "})\n",
    "df.head()"
   ]
  },
  {
   "cell_type": "code",
   "execution_count": 72,
   "metadata": {},
   "outputs": [],
   "source": [
    "def preprocess_en(text):\n",
    "    text = text.lower().strip()\n",
    "    text = re.sub(r'([?.!,¿_])',r' \\1 ',text)\n",
    "    text = re.sub(r'[\" \"]+', \" \",text)\n",
    "    text = re.sub(r\"[^a-zA-Z?.!,¿_]+\",\" \",text)\n",
    "    text = text.strip()\n",
    "    return text\n",
    "\n",
    "\n",
    "def preprocess_te(text):\n",
    "    text = ''.join(\n",
    "        c for c in unicodedata.normalize('NFD', text)\n",
    "        if unicodedata.category(c) != 'BN'\n",
    "    )\n",
    "    text = re.sub(r'([?.!,¿_])',r' \\1 ',text)\n",
    "    text = re.sub(r'[\" \"]+', \" \",text)\n",
    "    text = text.strip()\n",
    "    return text"
   ]
  },
  {
   "cell_type": "code",
   "execution_count": 75,
   "metadata": {},
   "outputs": [
    {
     "data": {
      "text/plain": [
       "array([1, 2, 3])"
      ]
     },
     "execution_count": 75,
     "metadata": {},
     "output_type": "execute_result"
    }
   ],
   "source": [
    "x = np.array([1,2,3, 4, 5])\n",
    "x[:-2]"
   ]
  },
  {
   "cell_type": "code",
   "execution_count": null,
   "metadata": {},
   "outputs": [],
   "source": [
    "from collections import Counter\n",
    "\n",
    "Counter(\" \".join(preprocess_te(i) for i in tel))"
   ]
  },
  {
   "cell_type": "code",
   "execution_count": null,
   "metadata": {},
   "outputs": [],
   "source": [
    "Counter(\" \".join(preprocess_en(i) for i in eng))"
   ]
  },
  {
   "cell_type": "code",
   "execution_count": 33,
   "metadata": {},
   "outputs": [
    {
     "data": {
      "text/plain": [
       "'పొగ గదిని నింపింది.'"
      ]
     },
     "execution_count": 33,
     "metadata": {},
     "output_type": "execute_result"
    }
   ],
   "source": [
    "def unicodeToAscii(s):\n",
    "    return ''.join(\n",
    "        c for c in unicodedata.normalize('NFD', s)\n",
    "        if unicodedata.category(c) != 'BN'\n",
    "    )\n",
    "\n",
    "def normalizeString(s):\n",
    "    s = unicodeToAscii(s.lower().strip())\n",
    "    # s = re.sub(r\"([.!?])\", r\" \\1\", s)\n",
    "    # s = re.sub(r\"[^a-zA-Z!?]+\", r\" \", s)\n",
    "    return s.strip()\n",
    "\n",
    "normalizeString(tel[4])"
   ]
  },
  {
   "cell_type": "code",
   "execution_count": 12,
   "metadata": {},
   "outputs": [
    {
     "name": "stdout",
     "output_type": "stream",
     "text": [
      "టామ్ ఫ్రెంచ్ మాట్లాడటం ఎలా నేర్పించారు?\n"
     ]
    }
   ],
   "source": [
    "from indicnlp.normalize.indic_normalize import IndicNormalizerFactory\n",
    "\n",
    "factory=IndicNormalizerFactory()\n",
    "normalizer=factory.get_normalizer(\"te\",remove_nuktas=False)\n",
    "output_text=normalizer.normalize(tel[1])\n",
    "print(output_text)"
   ]
  },
  {
   "cell_type": "code",
   "execution_count": 41,
   "metadata": {},
   "outputs": [
    {
     "data": {
      "text/plain": [
       "'అతని కాళ్ళు పొడవుగా ఉన్నాయి.'"
      ]
     },
     "execution_count": 41,
     "metadata": {},
     "output_type": "execute_result"
    }
   ],
   "source": [
    "### Seq2Seq\n",
    "tel[0].encode(\"utf-8\").decode()"
   ]
  },
  {
   "cell_type": "markdown",
   "metadata": {},
   "source": [
    "### Transformer"
   ]
  },
  {
   "cell_type": "code",
   "execution_count": 1,
   "metadata": {},
   "outputs": [],
   "source": [
    "import yaml\n",
    "import pandas as pd\n",
    "import sys\n",
    "sys.path.append(\"./src/\")\n",
    "from tqdm import tqdm\n",
    "from collections import defaultdict\n",
    "import numpy as np\n",
    "\n",
    "from src.preprocess.utils import preprocess_text, BytePairEncoding\n",
    "from src.core.transformer.transformer import Transformer"
   ]
  },
  {
   "cell_type": "code",
   "execution_count": 2,
   "metadata": {},
   "outputs": [],
   "source": [
    "config_path = \"./configs/transformer.yaml\"\n",
    "with open(config_path, \"r\") as stream:\n",
    "    config_dict = yaml.safe_load(stream)"
   ]
  },
  {
   "cell_type": "code",
   "execution_count": 3,
   "metadata": {},
   "outputs": [
    {
     "data": {
      "text/html": [
       "<div>\n",
       "<style scoped>\n",
       "    .dataframe tbody tr th:only-of-type {\n",
       "        vertical-align: middle;\n",
       "    }\n",
       "\n",
       "    .dataframe tbody tr th {\n",
       "        vertical-align: top;\n",
       "    }\n",
       "\n",
       "    .dataframe thead th {\n",
       "        text-align: right;\n",
       "    }\n",
       "</style>\n",
       "<table border=\"1\" class=\"dataframe\">\n",
       "  <thead>\n",
       "    <tr style=\"text-align: right;\">\n",
       "      <th></th>\n",
       "      <th>id</th>\n",
       "      <th>lyrics</th>\n",
       "    </tr>\n",
       "  </thead>\n",
       "  <tbody>\n",
       "    <tr>\n",
       "      <th>0</th>\n",
       "      <td>5FDh0G5oQ2UD9JxWiDCT1x</td>\n",
       "      <td>paper doll come try it on step out of that bla...</td>\n",
       "    </tr>\n",
       "    <tr>\n",
       "      <th>1</th>\n",
       "      <td>6XK6Zw6JkFsHXzAcMWNiIr</td>\n",
       "      <td>on my way on my way on my way on my way i woul...</td>\n",
       "    </tr>\n",
       "    <tr>\n",
       "      <th>2</th>\n",
       "      <td>7GX5flRQZVHRAGd6B4TmDO</td>\n",
       "      <td>are you alright i m alright i m quite alright ...</td>\n",
       "    </tr>\n",
       "    <tr>\n",
       "      <th>3</th>\n",
       "      <td>73q3FpQVXWk5eSUnyo83E4</td>\n",
       "      <td>it s tearin up my heart when i m with you but ...</td>\n",
       "    </tr>\n",
       "    <tr>\n",
       "      <th>4</th>\n",
       "      <td>1IdTIzkTK6CcpKKgMUGbg7</td>\n",
       "      <td>some of us we re hardly ever here the rest of ...</td>\n",
       "    </tr>\n",
       "  </tbody>\n",
       "</table>\n",
       "</div>"
      ],
      "text/plain": [
       "                       id                                             lyrics\n",
       "0  5FDh0G5oQ2UD9JxWiDCT1x  paper doll come try it on step out of that bla...\n",
       "1  6XK6Zw6JkFsHXzAcMWNiIr  on my way on my way on my way on my way i woul...\n",
       "2  7GX5flRQZVHRAGd6B4TmDO  are you alright i m alright i m quite alright ...\n",
       "3  73q3FpQVXWk5eSUnyo83E4  it s tearin up my heart when i m with you but ...\n",
       "4  1IdTIzkTK6CcpKKgMUGbg7  some of us we re hardly ever here the rest of ..."
      ]
     },
     "execution_count": 3,
     "metadata": {},
     "output_type": "execute_result"
    }
   ],
   "source": [
    "input_path = config_dict[\"paths\"][\"input_file\"]\n",
    "\n",
    "df = pd.read_csv(input_path, nrows=100)\n",
    "df.head()"
   ]
  },
  {
   "cell_type": "code",
   "execution_count": 4,
   "metadata": {},
   "outputs": [],
   "source": [
    "bpe = BytePairEncoding(config_dict)\n",
    "\n",
    "train_text_ls, test_text_ls = list(df[\"lyrics\"].iloc[:50]), list(df[\"lyrics\"].iloc[50:])\n",
    "train_words = bpe.fit(train_text_ls)"
   ]
  },
  {
   "cell_type": "code",
   "execution_count": 7,
   "metadata": {},
   "outputs": [
    {
     "data": {
      "text/plain": [
       "['you</w>',\n",
       " 'say</w>',\n",
       " 'that</w>',\n",
       " 'we</w>',\n",
       " 've</w>',\n",
       " 'got</w>',\n",
       " 'no thing</w>',\n",
       " 'in</w>',\n",
       " 'c om mo n</w>',\n",
       " 'no</w>']"
      ]
     },
     "execution_count": 7,
     "metadata": {},
     "output_type": "execute_result"
    }
   ],
   "source": [
    "test_words = bpe.transform(test_text_ls)\n",
    "test_words[:10]"
   ]
  },
  {
   "cell_type": "code",
   "execution_count": 16,
   "metadata": {},
   "outputs": [],
   "source": [
    "import re\n",
    "\n",
    "vocab = list(bpe.vocab_freq.keys())\n",
    "\n",
    "words = bpe.preprocess(test_text_ls, \"test\")\n",
    "\n",
    "for i, word in enumerate(words):\n",
    "    merge = True\n",
    "\n",
    "    while merge:\n",
    "        tokens = word.split()\n",
    "        merge_count = 0\n",
    "\n",
    "        for j in range(len(tokens)-1):\n",
    "            pair_ = (tokens[j], tokens[j+1])\n",
    "            best_chars = re.escape(\" \".join(pair_))\n",
    "            replace = re.compile(r'(?<!\\S)' + best_chars + r'(?!\\S)')\n",
    "\n",
    "            if \"\".join(pair_) in vocab:\n",
    "                word = replace.sub(\"\".join(pair_), word)\n",
    "                merge_count += 1\n",
    "                break\n",
    "        \n",
    "        if merge_count == 0:\n",
    "            words[i] = word\n",
    "            merge=False"
   ]
  },
  {
   "cell_type": "code",
   "execution_count": null,
   "metadata": {},
   "outputs": [],
   "source": [
    "algo = Transformer(config_dict)\n",
    "tokens = algo.run()\n",
    "print(tokens.shape)"
   ]
  },
  {
   "cell_type": "code",
   "execution_count": 15,
   "metadata": {},
   "outputs": [],
   "source": [
    "### BPE https://arxiv.org/pdf/1508.07909v5\n",
    "\n",
    "# Get Stats\n",
    "from collections import Counter\n",
    "\n",
    "num_vocab = config_dict[\"dataset\"][\"num_vocab\"]\n",
    "operations = config_dict[\"preprocess\"][\"operations\"]\n",
    "\n",
    "## Preprocessing\n",
    "text_ls = [preprocess_text(text, operations) for text in df[\"lyrics\"]]\n",
    "text_lens = [len(text.split()) for text in text_ls]\n",
    "corpus = \" \".join(text_ls)\n",
    "words = corpus.split()\n",
    "words = [\" \".join(list(w))+ \" </w>\" for w in words]\n",
    "vocab_freq = Counter(list(corpus))\n",
    "del vocab_freq[\" \"]\n",
    "vocab_freq[\"</w>\"] = len(words)\n",
    "\n",
    "## Get Stats\n",
    "def get_stats(words):\n",
    "    words_freq = Counter(words)\n",
    "    pair_dict = defaultdict(int)\n",
    "    for word, freq in words_freq.items():\n",
    "        chars = word.split()\n",
    "        for i in range(len(chars)-1):\n",
    "            pair_dict[(chars[i], chars[i+1])] += freq\n",
    "    return pair_dict\n",
    "\n",
    "## Merge Vocab\n",
    "def merge_chars(words):\n",
    "    pair_dict = get_stats(words)\n",
    "    best_pair = max(pair_dict, key=pair_dict.get)\n",
    "    best_pair_count = pair_dict[best_pair]\n",
    "    \n",
    "    vocab_freq[\"\".join(best_pair)] = best_pair_count\n",
    "    vocab_freq[best_pair[0]] -= best_pair_count\n",
    "    vocab_freq[best_pair[1]] -= best_pair_count\n",
    "\n",
    "    if vocab_freq[best_pair[0]] == 0: del vocab_freq[best_pair[0]]\n",
    "    if vocab_freq[best_pair[1]] == 0: del vocab_freq[best_pair[1]]\n",
    "    \n",
    "    best_chars = re.escape(\" \".join(best_pair))\n",
    "    replace = re.compile(r'(?<!\\S)' + best_chars + r'(?!\\S)')\n",
    "\n",
    "    for i, word in enumerate(words):\n",
    "        words[i] = replace.sub(\"\".join(best_pair), word)\n",
    "    \n",
    "    return words\n",
    "\n",
    "## Loop until num_vocab reached\n",
    "num_merges = num_vocab - len(vocab_freq)\n",
    "for _ in range(num_merges):\n",
    "    words = merge_chars(words)"
   ]
  },
  {
   "cell_type": "code",
   "execution_count": 27,
   "metadata": {},
   "outputs": [
    {
     "data": {
      "text/plain": [
       "array([[218.,   1.,  61., ...,   0.,   0.,   0.],\n",
       "       [ 75.,  73., 161., ...,   0.,   0.,   0.],\n",
       "       [192.,  54., 206., ...,   0.,   0.,   0.],\n",
       "       ...,\n",
       "       [134.,  54.,  18., ...,   0.,   0.,   0.],\n",
       "       [ 54.,  17.,   6., ...,   0.,   0.,   0.],\n",
       "       [253., 212., 216., ...,   0.,   0.,   0.]])"
      ]
     },
     "execution_count": 27,
     "metadata": {},
     "output_type": "execute_result"
    }
   ],
   "source": [
    "seq_len = config_dict[\"dataset\"][\"seq_len\"]\n",
    "vocab = [\"<PAD>\"] + list(vocab_freq.keys())\n",
    "\n",
    "word2id = {w:i for i, w in enumerate(vocab)}\n",
    "id2word = {v:k for k,v in word2id.items()}\n",
    "\n",
    "text_tokens = np.zeros((len(text_ls), seq_len))\n",
    "\n",
    "count = 0\n",
    "for i, text_len in enumerate(text_lens):\n",
    "    text = \" \".join(words[count: count+text_len]).split()\n",
    "    count += text_len\n",
    "    text = text[:seq_len]\n",
    "\n",
    "    if len(text) < seq_len:\n",
    "        text = text + [\"<PAD>\"]*(seq_len - len(text))\n",
    "\n",
    "    text_tokens[i] = np.array([word2id[ch] for ch in text])\n",
    "\n",
    "text_tokens"
   ]
  },
  {
   "cell_type": "code",
   "execution_count": 8,
   "metadata": {},
   "outputs": [
    {
     "name": "stdout",
     "output_type": "stream",
     "text": [
      "wa nt wan ed\n",
      "wan wa nt ed\n",
      "wa nt ed wan\n",
      "ab cdef\n"
     ]
    }
   ],
   "source": [
    "import re\n",
    "\n",
    "words = [\"wa nt wa n ed\", \"wa n wa nt ed\", \"wa nt ed wa n\", \"ab cdef\"]\n",
    "best_pair = (\"wa\", \"n\")\n",
    "\n",
    "best_chars = re.escape(\" \".join(best_pair))\n",
    "replace = re.compile(r'(?<!\\S)' + best_chars + r'(?!\\S)')\n",
    "\n",
    "new_words = []\n",
    "for word in words:\n",
    "    print(replace.sub(\"\".join(best_pair), word))\n"
   ]
  },
  {
   "cell_type": "code",
   "execution_count": 11,
   "metadata": {},
   "outputs": [
    {
     "data": {
      "text/plain": [
       "'you say that we ve got nothing in common no common ground to start from and we re '"
      ]
     },
     "execution_count": 11,
     "metadata": {},
     "output_type": "execute_result"
    }
   ],
   "source": [
    "x = sentences[0].split(\"</w>\")\n",
    "x = [i.replace(\" \", \"\") for i in x]\n",
    "\" \".join(x)"
   ]
  },
  {
   "cell_type": "code",
   "execution_count": 9,
   "metadata": {},
   "outputs": [
    {
     "data": {
      "text/plain": [
       "'you say that we ve got n o thing in c om m on no c om m on g r oun d to st ar t f ro m and we re'"
      ]
     },
     "execution_count": 9,
     "metadata": {},
     "output_type": "execute_result"
    }
   ],
   "source": [
    "import pandas as pd\n",
    "\n",
    "df = pd.read_csv(r\"output\\transformer\\Test Predictions.csv\")\n",
    "sentences = list(df[\"Sentence\"])\n",
    "\n",
    "new_sentences = [s.replace(\"</w>\", \"\") for s in sentences]\n",
    "new_sentences[0]"
   ]
  },
  {
   "cell_type": "code",
   "execution_count": 4,
   "metadata": {},
   "outputs": [],
   "source": [
    "import numpy as np\n",
    "import torch\n",
    "\n",
    "seq_len = 10\n",
    "d_model = 100\n",
    "a = torch.pow(10000, torch.arange(0, seq_len, 2)/d_model)"
   ]
  },
  {
   "cell_type": "code",
   "execution_count": 8,
   "metadata": {},
   "outputs": [],
   "source": [
    "d_model = config_dict[\"model\"][\"d_model\"]\n",
    "seq_len = config_dict[\"dataset\"][\"seq_len\"]\n",
    "\n",
    "pe = torch.zeros(seq_len, d_model)\n",
    "pos = torch.arange(seq_len).unsqueeze(1)\n",
    "denom = torch.pow(10000, torch.arange(0, d_model, 2)/d_model)\n",
    "pe[:, 0::2] = torch.sin(pos/denom)\n",
    "pe[:, 1::2] = torch.cos(pos/denom)"
   ]
  },
  {
   "cell_type": "code",
   "execution_count": 12,
   "metadata": {},
   "outputs": [
    {
     "data": {
      "text/plain": [
       "torch.Size([64, 32, 128])"
      ]
     },
     "execution_count": 12,
     "metadata": {},
     "output_type": "execute_result"
    }
   ],
   "source": [
    "import torch\n",
    "import torch.nn as nn\n",
    "import math\n",
    "\n",
    "batch_size = 64\n",
    "seq_len = 32\n",
    "d_model = 128\n",
    "num_heads = 8\n",
    "d_k = d_model//num_heads\n",
    "Q = torch.randn(batch_size, seq_len, d_model)\n",
    "K = torch.randn(batch_size, seq_len, d_model)\n",
    "V = torch.randn(batch_size, seq_len, d_model)\n",
    "\n",
    "Wq = nn.Linear(d_model, d_model)\n",
    "Wk = nn.Linear(d_model, d_model)\n",
    "Wv = nn.Linear(d_model, d_model)\n",
    "\n",
    "Q = Wq(Q)\n",
    "K = Wk(K)\n",
    "V = Wv(V)\n",
    "\n",
    "Q_ls = Q.view(batch_size, seq_len, num_heads, d_k).transpose(1, 2)\n",
    "K_ls = K.view(batch_size, seq_len, num_heads, d_k).transpose(1, 2)\n",
    "V_ls = V.view(batch_size, seq_len, num_heads, d_k).transpose(1, 2)\n",
    "# torch.split(V, split_size_or_sections=d_k, dim=-1)\n",
    "\n",
    "matmul = torch.matmul(Q_ls, K_ls.transpose(-1, -2))\n",
    "mask_ids = torch.triu_indices(seq_len, seq_len, offset=1)\n",
    "matmul[:, :, mask_ids[0], mask_ids[1]] = -1e9\n",
    "scale = matmul/math.sqrt(d_k)\n",
    "softmax = nn.Softmax(dim=-1)(scale)\n",
    "attn_qkv = torch.matmul(softmax, V_ls)\n",
    "\n",
    "attn_qkv_concat = attn_qkv.transpose(1, 2).reshape(batch_size, seq_len, d_model)\n",
    "attn_qkv_concat.shape"
   ]
  },
  {
   "cell_type": "code",
   "execution_count": 13,
   "metadata": {},
   "outputs": [
    {
     "data": {
      "text/plain": [
       "tensor([[ 1.1576, -0.1198, -1.6164],\n",
       "        [ 0.1751, -0.1444, -1.3969],\n",
       "        [ 0.2944, -0.8525,  0.5381]])"
      ]
     },
     "execution_count": 13,
     "metadata": {},
     "output_type": "execute_result"
    }
   ],
   "source": [
    "x = torch.randn(3,3)\n",
    "x"
   ]
  },
  {
   "cell_type": "code",
   "execution_count": 14,
   "metadata": {},
   "outputs": [
    {
     "data": {
      "text/plain": [
       "tensor([[ 1.1576e+00, -1.0000e+09, -1.0000e+09],\n",
       "        [ 1.7509e-01, -1.4436e-01, -1.0000e+09],\n",
       "        [ 2.9442e-01, -8.5255e-01,  5.3811e-01]])"
      ]
     },
     "execution_count": 14,
     "metadata": {},
     "output_type": "execute_result"
    }
   ],
   "source": [
    "ids = torch.triu_indices(3,3, offset=1)\n",
    "x[ids[0], ids[1]] = -1e9\n",
    "x"
   ]
  },
  {
   "cell_type": "code",
   "execution_count": 15,
   "metadata": {},
   "outputs": [],
   "source": [
    "mask_ids = torch.triu_indices(seq_len, seq_len)"
   ]
  },
  {
   "cell_type": "markdown",
   "metadata": {},
   "source": [
    "### BERT"
   ]
  },
  {
   "cell_type": "code",
   "execution_count": null,
   "metadata": {},
   "outputs": [],
   "source": [
    "### Convert parquet to CSV file with 25000 rows\n",
    "\n",
    "import pandas as pd\n",
    "import numpy as np\n",
    "\n",
    "path = \"./data/wiki_en/3000000_to_3250000.parquet\"\n",
    "df = pd.read_parquet(path, engine='pyarrow')\n",
    "\n",
    "rand_ids = np.random.choice(250000, 25000, replace=False)\n",
    "new_df = df.iloc[rand_ids][[\"title\", \"text\"]].reset_index(drop=True)\n",
    "\n",
    "new_df.to_csv(\"./data/wiki_en.csv\", index=False)"
   ]
  },
  {
   "cell_type": "code",
   "execution_count": 2,
   "metadata": {},
   "outputs": [
    {
     "name": "stderr",
     "output_type": "stream",
     "text": [
      "e:\\anaconda\\envs\\nlp_env\\lib\\site-packages\\tqdm\\auto.py:21: TqdmWarning: IProgress not found. Please update jupyter and ipywidgets. See https://ipywidgets.readthedocs.io/en/stable/user_install.html\n",
      "  from .autonotebook import tqdm as notebook_tqdm\n",
      "e:\\anaconda\\envs\\nlp_env\\lib\\site-packages\\albumentations\\__init__.py:13: UserWarning: A new version of Albumentations is available: 1.4.17 (you have 1.4.14). Upgrade using: pip install -U albumentations. To disable automatic update checks, set the environment variable NO_ALBUMENTATIONS_UPDATE to 1.\n",
      "  check_for_updates()\n"
     ]
    }
   ],
   "source": [
    "import yaml\n",
    "import re\n",
    "import pandas as pd\n",
    "import sys\n",
    "sys.path.append(\"./src/\")\n",
    "from tqdm import tqdm\n",
    "from collections import defaultdict, Counter\n",
    "import numpy as np\n",
    "\n",
    "from src.preprocess.utils import preprocess_text, WordPiece\n",
    "from src.core.bert.dataset import BERTDataset, PreprocessBERT\n",
    "# from src.core.transformer.transformer import Transformer"
   ]
  },
  {
   "cell_type": "code",
   "execution_count": 3,
   "metadata": {},
   "outputs": [],
   "source": [
    "config_path = \"./configs/bert.yaml\"\n",
    "with open(config_path, \"r\") as stream:\n",
    "    config_dict = yaml.safe_load(stream)"
   ]
  },
  {
   "cell_type": "markdown",
   "metadata": {},
   "source": [
    "#### Pretraining"
   ]
  },
  {
   "cell_type": "code",
   "execution_count": 4,
   "metadata": {},
   "outputs": [
    {
     "data": {
      "text/html": [
       "<div>\n",
       "<style scoped>\n",
       "    .dataframe tbody tr th:only-of-type {\n",
       "        vertical-align: middle;\n",
       "    }\n",
       "\n",
       "    .dataframe tbody tr th {\n",
       "        vertical-align: top;\n",
       "    }\n",
       "\n",
       "    .dataframe thead th {\n",
       "        text-align: right;\n",
       "    }\n",
       "</style>\n",
       "<table border=\"1\" class=\"dataframe\">\n",
       "  <thead>\n",
       "    <tr style=\"text-align: right;\">\n",
       "      <th></th>\n",
       "      <th>title</th>\n",
       "      <th>text</th>\n",
       "    </tr>\n",
       "  </thead>\n",
       "  <tbody>\n",
       "    <tr>\n",
       "      <th>0</th>\n",
       "      <td>Emotional Girl</td>\n",
       "      <td>\"Emotional Girl\" is a song co-written and reco...</td>\n",
       "    </tr>\n",
       "    <tr>\n",
       "      <th>1</th>\n",
       "      <td>Railway Place, Melbourne</td>\n",
       "      <td>Railway Place is a residential street in the w...</td>\n",
       "    </tr>\n",
       "    <tr>\n",
       "      <th>2</th>\n",
       "      <td>Maingkaing</td>\n",
       "      <td>Maingkaing is a village in Homalin Township, H...</td>\n",
       "    </tr>\n",
       "    <tr>\n",
       "      <th>3</th>\n",
       "      <td>Euphoria (Enrique Iglesias album)</td>\n",
       "      <td>Euphoria is the ninth studio album by Spanish ...</td>\n",
       "    </tr>\n",
       "    <tr>\n",
       "      <th>4</th>\n",
       "      <td>MC Bogy</td>\n",
       "      <td>MC Bogy (1979 in Berlin), born Moritz Christop...</td>\n",
       "    </tr>\n",
       "  </tbody>\n",
       "</table>\n",
       "</div>"
      ],
      "text/plain": [
       "                               title  \\\n",
       "0                     Emotional Girl   \n",
       "1           Railway Place, Melbourne   \n",
       "2                         Maingkaing   \n",
       "3  Euphoria (Enrique Iglesias album)   \n",
       "4                            MC Bogy   \n",
       "\n",
       "                                                text  \n",
       "0  \"Emotional Girl\" is a song co-written and reco...  \n",
       "1  Railway Place is a residential street in the w...  \n",
       "2  Maingkaing is a village in Homalin Township, H...  \n",
       "3  Euphoria is the ninth studio album by Spanish ...  \n",
       "4  MC Bogy (1979 in Berlin), born Moritz Christop...  "
      ]
     },
     "execution_count": 4,
     "metadata": {},
     "output_type": "execute_result"
    }
   ],
   "source": [
    "input_path = config_dict[\"paths\"][\"input_file\"]\n",
    "\n",
    "df = pd.read_csv(input_path)\n",
    "df.head()"
   ]
  },
  {
   "cell_type": "code",
   "execution_count": 5,
   "metadata": {},
   "outputs": [],
   "source": [
    "operations = config_dict[\"preprocess\"][\"operations\"]\n",
    "\n",
    "text_ls = list(df[\"text\"].iloc[:96])\n",
    "text_ls = [preprocess_text(doc, operations) for doc in text_ls]\n",
    "text_ls = [i for i in text_ls if len(text_ls)]\n",
    "text_lens = [len(text.split()) for text in text_ls]\n",
    "\n",
    "wordpiece = WordPiece(config_dict)\n",
    "corpus = wordpiece.fit(text_ls)"
   ]
  },
  {
   "cell_type": "code",
   "execution_count": 6,
   "metadata": {},
   "outputs": [
    {
     "name": "stdout",
     "output_type": "stream",
     "text": [
      "(256, 128) (256,)\n"
     ]
    }
   ],
   "source": [
    "preprocess_bert = PreprocessBERT(config_dict)\n",
    "text_tokens, nsp_labels = preprocess_bert.get_data()\n",
    "word2id = preprocess_bert.word2id\n",
    "print(text_tokens.shape, nsp_labels.shape)\n",
    "\n",
    "# bert_ds = BERTDataset(torch.tensor(text_tokens), torch.tensor(nsp_labels), config_dict, word2id)\n",
    "# text_token, lbl_mask, nsp_label = bert_ds.__getitem__(0)\n",
    "# print(text_token.shape, lbl_mask.shape, nsp_label)"
   ]
  },
  {
   "cell_type": "code",
   "execution_count": 10,
   "metadata": {},
   "outputs": [
    {
     "name": "stdout",
     "output_type": "stream",
     "text": [
      "torch.Size([32, 128]) torch.Size([32, 128]) tensor([0., 1., 1., 0., 1., 0., 0., 0., 0., 1., 1., 0., 0., 1., 1., 0., 1., 0.,\n",
      "        0., 1., 0., 0., 0., 1., 1., 1., 0., 1., 1., 0., 1., 1.])\n"
     ]
    }
   ],
   "source": [
    "import torch\n",
    "from torch.utils.data import Dataset, DataLoader\n",
    "from sklearn.model_selection import train_test_split\n",
    "\n",
    "def create_dataloader(X, y, config_dict, word2id, val_split=0.2, test_split=0.2, batch_size=32, seed=2024): \n",
    "    train_X, val_X, train_y, val_y = train_test_split(X, y, test_size=val_split+test_split, random_state=seed)\n",
    "    val_X, test_X, val_y, test_y = train_test_split(X, y, test_size=test_split/(val_split+test_split), random_state=seed)\n",
    "\n",
    "    train_ds = BERTDataset(torch.Tensor(train_X), torch.Tensor(train_y), config_dict, word2id)\n",
    "    train_loader = DataLoader(train_ds, batch_size=batch_size, shuffle=True, drop_last=True, num_workers=1, pin_memory=True)\n",
    "\n",
    "    val_ds = BERTDataset(torch.Tensor(val_X), torch.Tensor(val_y), config_dict, word2id)\n",
    "    val_loader = DataLoader(val_ds, batch_size=batch_size, shuffle=False, drop_last=True, num_workers=1, pin_memory=True)\n",
    "        \n",
    "    test_ds = BERTDataset(torch.Tensor(test_X), torch.Tensor(test_y), config_dict, word2id)\n",
    "    test_loader = DataLoader(test_ds, batch_size=batch_size, shuffle=False, drop_last=False, num_workers=1, pin_memory=False)\n",
    "    \n",
    "    return train_loader, val_loader, test_loader\n",
    "\n",
    "train_loader, _, _ = create_dataloader(text_tokens, nsp_labels, config_dict, word2id)\n",
    "text_token_bs, lbl_mask_bs, nsp_label_bs = next(iter(train_loader))\n",
    "print(text_token_bs.shape, lbl_mask_bs.shape, nsp_label_bs)"
   ]
  },
  {
   "cell_type": "code",
   "execution_count": 12,
   "metadata": {},
   "outputs": [],
   "source": [
    "from sklearn.preprocessing import LabelEncoder\n",
    "\n",
    "seq_len = config_dict[\"dataset\"][\"seq_len\"]\n",
    "num_vocab = config_dict[\"dataset\"][\"num_vocab\"]\n",
    "\n",
    "vocab = [\"<PAD>\", \"<UNK>\", \"<CLS>\", \"<SEP>\", \"<MASK>\"] + list(wordpiece.vocab_freq.keys())\n",
    "word2id = {w:i for i, w in enumerate(vocab)}\n",
    "id2word = {v:k for k,v in word2id.items()}\n",
    "\n",
    "half_seq_len = seq_len//2 - 1\n",
    "text_tokens_a = np.zeros((len(text_ls), half_seq_len+1))\n",
    "text_tokens_b = np.zeros((len(text_ls), half_seq_len+1))\n",
    "count = 0\n",
    "new_text_ls = []\n",
    "for i, text_len in enumerate(text_lens):\n",
    "    tokens_ls = corpus[count: count+text_len]\n",
    "    tokens = [i for ls in tokens_ls for i in ls]\n",
    "    text = \" \".join(tokens).split()\n",
    "    count += text_len\n",
    "\n",
    "    text = text[:seq_len]\n",
    "\n",
    "    if len(text) < seq_len:\n",
    "        text = text + [\"<PAD>\"]*(seq_len - len(text))\n",
    "\n",
    "    text_tokens_a[i] = np.array([word2id[ch] for ch in [\"<CLS>\"] + text[:half_seq_len]])\n",
    "    text_tokens_b[i] = np.array([word2id[ch] for ch in [\"<SEP>\"] + text[half_seq_len:2*half_seq_len]])\n",
    "\n",
    "reorder_tokens_b = np.random.choice(len(text_ls), len(text_ls), replace=False)\n",
    "text_tokens_a = np.concatenate([text_tokens_a, text_tokens_a], axis=0)\n",
    "text_tokens_b = np.concatenate([text_tokens_b, text_tokens_b[reorder_tokens_b]], axis=0)\n",
    "text_tokens = np.concatenate([text_tokens_a, text_tokens_b], axis=-1)\n",
    "nsp_labels = np.array([\"IsNext\"]*len(text_ls) + [\"NotNext\"]*len(text_ls))\n",
    "lencoder = LabelEncoder()\n",
    "nsp_labels = lencoder.fit_transform(nsp_labels)\n",
    "\n",
    "pred_prob = config_dict[\"preprocess\"][\"replace_token\"][\"prediction\"]\n",
    "pred_mask = config_dict[\"preprocess\"][\"replace_token\"][\"mask\"]\n",
    "pred_random = config_dict[\"preprocess\"][\"replace_token\"][\"random\"]\n",
    "num_pred_tokens = int(pred_prob*seq_len)\n",
    "num_mask_tokens = int(num_pred_tokens*pred_mask)\n",
    "num_rand_tokens = int(num_pred_tokens*pred_random)\n",
    "\n",
    "label_mask_a, label_mask_b = [], []\n",
    "for i in range(2*len(text_ls)):\n",
    "    label_mask_a.append(np.random.choice(half_seq_len, num_pred_tokens).tolist())\n",
    "    label_mask_b.append(np.random.choice(half_seq_len, num_pred_tokens).tolist())\n",
    "label_mask_a, label_mask_b = 1 + np.array(label_mask_a), 1 + seq_len//2 + np.array(label_mask_b)\n",
    "label_mask_ids = np.concatenate([label_mask_a, label_mask_b], axis=-1)\n",
    "label_mask = np.zeros_like(text_tokens)\n",
    "rows = np.stack([np.arange(2*len(text_ls))]*2*num_pred_tokens, axis=-1).flatten()\n",
    "label_mask[rows, label_mask_ids.flatten()] = 1\n",
    "\n",
    "rand_tokens = np.random.choice(np.arange(5, num_vocab), num_rand_tokens*2*len(text_ls))\n",
    "\n",
    "rows = np.stack([np.arange(2*len(text_ls))]*num_mask_tokens, axis=-1).flatten()\n",
    "text_tokens[rows, label_mask_ids[:, :num_mask_tokens].flatten()] = word2id[\"<MASK>\"]\n",
    "rows = np.stack([np.arange(2*len(text_ls))]*num_rand_tokens, axis=-1).flatten()\n",
    "text_tokens[rows, label_mask_ids[:, num_mask_tokens:num_mask_tokens+num_rand_tokens].flatten()] = rand_tokens\n",
    "\n",
    "## text_tokens, label_mask, nsp_labels"
   ]
  },
  {
   "cell_type": "code",
   "execution_count": 24,
   "metadata": {},
   "outputs": [],
   "source": [
    "### BERT Dataset\n",
    "\n",
    "import torch\n",
    "\n",
    "num_vocab = config_dict[\"dataset\"][\"num_vocab\"]\n",
    "seq_len = config_dict[\"dataset\"][\"seq_len\"]\n",
    "half_seq_len = seq_len//2 - 1\n",
    "\n",
    "pred_prob = config_dict[\"preprocess\"][\"replace_token\"][\"prediction\"]\n",
    "pred_mask = config_dict[\"preprocess\"][\"replace_token\"][\"mask\"]\n",
    "pred_random = config_dict[\"preprocess\"][\"replace_token\"][\"random\"]\n",
    "num_extra_tokens = config_dict[\"dataset\"][\"num_extra_tokens\"]\n",
    "\n",
    "num_pred_tokens_half = int(pred_prob*half_seq_len)\n",
    "num_mask_tokens = int(2*num_pred_tokens_half*pred_mask)\n",
    "num_rand_tokens = int(2*num_pred_tokens_half*pred_random)\n",
    "\n",
    "sample_text_tokens = torch.tensor(text_tokens[0]).to(torch.int64)\n",
    "\n",
    "lbl_mask_ids_a = 1 + torch.randperm(half_seq_len)[:num_pred_tokens_half]\n",
    "lbl_mask_ids_b = 1 + seq_len//2 + torch.randperm(half_seq_len)[:num_pred_tokens_half]\n",
    "lbl_mask_ids = torch.concat([lbl_mask_ids_a, lbl_mask_ids_b], axis=0)\n",
    "label_mask = torch.zeros_like(sample_text_tokens)\n",
    "label_mask[lbl_mask_ids] = 1\n",
    "\n",
    "rand_tokens = torch.randperm(num_vocab-num_extra_tokens)[:num_rand_tokens] + num_extra_tokens\n",
    "sample_text_tokens[lbl_mask_ids[:num_mask_tokens]] = word2id[\"<MASK>\"]\n",
    "sample_text_tokens[lbl_mask_ids[num_mask_tokens:num_mask_tokens+num_rand_tokens]] = rand_tokens"
   ]
  },
  {
   "cell_type": "code",
   "execution_count": null,
   "metadata": {},
   "outputs": [],
   "source": [
    "### Word Piece Tokenization\n",
    "\n",
    "words = \" \".join(text_ls).split()\n",
    "corpus = []\n",
    "\n",
    "## Build Vocabulary and Corpus\n",
    "word_freq = Counter(words)\n",
    "vocab_freq = defaultdict()\n",
    "for word in words:\n",
    "    chars = []\n",
    "    for i, ch in enumerate(word):\n",
    "        if i != 0: ch = f\"##{ch}\"\n",
    "        vocab_freq[ch] = vocab_freq.get(ch, 0) + 1\n",
    "        chars.append(ch)\n",
    "    corpus.append(chars)\n",
    "\n",
    "### Build Pairs\n",
    "def get_stats(corpus):\n",
    "    pair_freq = defaultdict(int)\n",
    "    for corp in corpus:\n",
    "        if len(corp) == 1:\n",
    "            continue\n",
    "        for i in range(len(corp)-1):\n",
    "            pair_freq[(corp[i], corp[i+1])] += 1\n",
    "    return pair_freq\n",
    "\n",
    "## Get Likelihood\n",
    "def get_likelihood(pair, vocab_freq, pair_freq):\n",
    "    p12 = pair_freq[pair]\n",
    "    p1, p2 = vocab_freq[pair[0]], vocab_freq[pair[1]]\n",
    "    lkhd = p12/(p1*p2)\n",
    "\n",
    "    return lkhd\n",
    "\n",
    "## Combine Tokens\n",
    "def combine(pair):\n",
    "    token1, token2 = pair\n",
    "    return token1 + token2[2:] if token2.startswith(\"##\") else token1 + token2\n",
    "\n",
    "### Build Vocab\n",
    "def build_vocab(corpus):\n",
    "    pair_freq = get_stats(corpus)\n",
    "    best_pair = max(pair_freq.keys(), key=lambda x: get_likelihood(x, vocab_freq, pair_freq))\n",
    "    new_ch = combine(best_pair)\n",
    "    best_pair_count = pair_freq[best_pair]\n",
    "\n",
    "    for i, corp in enumerate(corpus):\n",
    "        if len(corp) == 1:\n",
    "            continue\n",
    "        j = 0\n",
    "        while j < len(corp) - 1:\n",
    "            if (corp[j], corp[j+1]) == best_pair:\n",
    "                corp = corp[:j] + [new_ch] + corp[j+2:]\n",
    "            else:\n",
    "                j += 1\n",
    "        corpus[i] = corp\n",
    "\n",
    "    vocab_freq[new_ch] = best_pair_count\n",
    "    vocab_freq[best_pair[0]] -= best_pair_count\n",
    "    vocab_freq[best_pair[1]] -= best_pair_count\n",
    "\n",
    "    if vocab_freq[best_pair[0]] == 0: del vocab_freq[best_pair[0]]\n",
    "    if best_pair[0] != best_pair[1]: \n",
    "        if vocab_freq[best_pair[1]] == 0: del vocab_freq[best_pair[1]]\n",
    "    \n",
    "    return corpus\n",
    "\n",
    "## Merge Characters\n",
    "def merge_chars(word, vocab_freq):\n",
    "    j = 0\n",
    "    while j < len(word) - 1:\n",
    "        ch1, ch2 = word[j], word[j+1]\n",
    "        new_ch = combine((ch1, ch2))\n",
    "        if new_ch in vocab_freq:\n",
    "            word = word[:j] + [new_ch] + word[j+2:]\n",
    "        else:\n",
    "            j+=1\n",
    "    return word\n",
    "\n",
    "while len(vocab_freq) > 256:\n",
    "    corpus = build_vocab(corpus)\n",
    "    print(f\"Vocab: {len(vocab_freq)}\")"
   ]
  },
  {
   "cell_type": "code",
   "execution_count": 226,
   "metadata": {},
   "outputs": [
    {
     "data": {
      "text/plain": [
       "['emotional', 'regional']"
      ]
     },
     "execution_count": 226,
     "metadata": {},
     "output_type": "execute_result"
    }
   ],
   "source": [
    "### Merging Tokens after Inference\n",
    "\n",
    "seq = corpus[0] + corpus[99]\n",
    "\n",
    "start_id = 0\n",
    "words = []\n",
    "for i, ch in enumerate(seq):\n",
    "    if \"##\" != ch[:2] and i != 0:\n",
    "        tokens = seq[start_id:i]\n",
    "        word = \"\".join([w if i==0 else w[2:] for i,w in enumerate(tokens)])\n",
    "        words.append(word)\n",
    "        start_id = i\n",
    "final_word = \"\".join([w if i==0 else w[2:] for i,w in enumerate(seq[start_id:])])\n",
    "words.append(final_word)\n",
    "words"
   ]
  },
  {
   "cell_type": "code",
   "execution_count": null,
   "metadata": {},
   "outputs": [],
   "source": [
    "### BERT Pretraining Model"
   ]
  },
  {
   "cell_type": "code",
   "execution_count": null,
   "metadata": {},
   "outputs": [],
   "source": [
    "### BERT Pretraining Training"
   ]
  },
  {
   "cell_type": "markdown",
   "metadata": {},
   "source": [
    "#### Finetuning"
   ]
  },
  {
   "cell_type": "code",
   "execution_count": null,
   "metadata": {},
   "outputs": [],
   "source": [
    "### Data Preprocessing"
   ]
  },
  {
   "cell_type": "code",
   "execution_count": null,
   "metadata": {},
   "outputs": [],
   "source": [
    "### Data Loaderr"
   ]
  },
  {
   "cell_type": "code",
   "execution_count": null,
   "metadata": {},
   "outputs": [],
   "source": [
    "### BERT Finetuning Model"
   ]
  }
 ],
 "metadata": {
  "kernelspec": {
   "display_name": "nlp_env",
   "language": "python",
   "name": "python3"
  },
  "language_info": {
   "codemirror_mode": {
    "name": "ipython",
    "version": 3
   },
   "file_extension": ".py",
   "mimetype": "text/x-python",
   "name": "python",
   "nbconvert_exporter": "python",
   "pygments_lexer": "ipython3",
   "version": "3.9.0"
  }
 },
 "nbformat": 4,
 "nbformat_minor": 2
}
